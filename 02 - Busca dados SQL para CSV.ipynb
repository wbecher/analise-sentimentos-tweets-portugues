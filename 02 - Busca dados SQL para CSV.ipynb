{
 "cells": [
  {
   "cell_type": "markdown",
   "metadata": {},
   "source": [
    "## Etapa 2: Busca dos tweets coletados\n",
    "\n",
    "Após a coleta dos Tweets, vamos trazer esses dados para o formato CSV e assim trabalharmos localmente. Para isso vamos usar a biblioteca Pandas. Neste jupyter notebook não faremos nenhum tratamento do texto, deixaremos isso para um segundo momento."
   ]
  },
  {
   "cell_type": "code",
   "execution_count": 1,
   "metadata": {},
   "outputs": [],
   "source": [
    "import pypyodbc as podbc\n",
    "import pandas as pd"
   ]
  },
  {
   "cell_type": "code",
   "execution_count": 1,
   "metadata": {},
   "outputs": [],
   "source": [
    "def conexao_sql():\n",
    "    conexao = podbc.connect(\"Driver=ODBC Driver 17 for SQL Server;Server=posml.database.windows.net,1433;Database=tweets;uid=cloudadmin;pwd=senha\")\n",
    "    return conexao"
   ]
  },
  {
   "cell_type": "code",
   "execution_count": 5,
   "metadata": {},
   "outputs": [],
   "source": [
    "# Retornando a conexão SQL\n",
    "conn = conexao_sql()"
   ]
  },
  {
   "cell_type": "code",
   "execution_count": 9,
   "metadata": {},
   "outputs": [],
   "source": [
    "# Testando a consutal SQL\n",
    "sql = \"SELECT * FROM Tweets \""
   ]
  },
  {
   "cell_type": "code",
   "execution_count": 11,
   "metadata": {
    "scrolled": true
   },
   "outputs": [
    {
     "data": {
      "text/html": [
       "<div>\n",
       "<style scoped>\n",
       "    .dataframe tbody tr th:only-of-type {\n",
       "        vertical-align: middle;\n",
       "    }\n",
       "\n",
       "    .dataframe tbody tr th {\n",
       "        vertical-align: top;\n",
       "    }\n",
       "\n",
       "    .dataframe thead th {\n",
       "        text-align: right;\n",
       "    }\n",
       "</style>\n",
       "<table border=\"1\" class=\"dataframe\">\n",
       "  <thead>\n",
       "    <tr style=\"text-align: right;\">\n",
       "      <th></th>\n",
       "      <th>id_str</th>\n",
       "      <th>in_reply_to_status_id_str</th>\n",
       "      <th>in_reply_to_screen_name</th>\n",
       "      <th>full_text</th>\n",
       "      <th>sentimento</th>\n",
       "    </tr>\n",
       "  </thead>\n",
       "  <tbody>\n",
       "    <tr>\n",
       "      <td>0</td>\n",
       "      <td>1029818380390490113</td>\n",
       "      <td>1029492806556037120</td>\n",
       "      <td>santander_br</td>\n",
       "      <td>@santander_br Isso. Qualquer operacao que eu t...</td>\n",
       "      <td>None</td>\n",
       "    </tr>\n",
       "    <tr>\n",
       "      <td>1</td>\n",
       "      <td>1077009782362517505</td>\n",
       "      <td>1077002120229019650</td>\n",
       "      <td>santander_br</td>\n",
       "      <td>@santander_br a atendente pagou pela segunda v...</td>\n",
       "      <td>None</td>\n",
       "    </tr>\n",
       "    <tr>\n",
       "      <td>2</td>\n",
       "      <td>1088105568169017344</td>\n",
       "      <td>1050372894696583173</td>\n",
       "      <td>Bancointer</td>\n",
       "      <td>@Bancointer Pode traZer o meus</td>\n",
       "      <td>None</td>\n",
       "    </tr>\n",
       "    <tr>\n",
       "      <td>3</td>\n",
       "      <td>1092138777634619392</td>\n",
       "      <td>1092066736009080833</td>\n",
       "      <td>santander_br</td>\n",
       "      <td>@santander_br @Estadao Não estou conseguindo g...</td>\n",
       "      <td>None</td>\n",
       "    </tr>\n",
       "    <tr>\n",
       "      <td>4</td>\n",
       "      <td>1093680499359469570</td>\n",
       "      <td>1093679986307936256</td>\n",
       "      <td>itau</td>\n",
       "      <td>@itau Mas foi... e o setup foi bem fácil! Muit...</td>\n",
       "      <td>None</td>\n",
       "    </tr>\n",
       "  </tbody>\n",
       "</table>\n",
       "</div>"
      ],
      "text/plain": [
       "                id_str in_reply_to_status_id_str in_reply_to_screen_name  \\\n",
       "0  1029818380390490113       1029492806556037120            santander_br   \n",
       "1  1077009782362517505       1077002120229019650            santander_br   \n",
       "2  1088105568169017344       1050372894696583173              Bancointer   \n",
       "3  1092138777634619392       1092066736009080833            santander_br   \n",
       "4  1093680499359469570       1093679986307936256                    itau   \n",
       "\n",
       "                                           full_text sentimento  \n",
       "0  @santander_br Isso. Qualquer operacao que eu t...       None  \n",
       "1  @santander_br a atendente pagou pela segunda v...       None  \n",
       "2                     @Bancointer Pode traZer o meus       None  \n",
       "3  @santander_br @Estadao Não estou conseguindo g...       None  \n",
       "4  @itau Mas foi... e o setup foi bem fácil! Muit...       None  "
      ]
     },
     "execution_count": 11,
     "metadata": {},
     "output_type": "execute_result"
    }
   ],
   "source": [
    "# Transformando a consulta em um dataset pandas\n",
    "df = pd.read_sql(sql, conn)\n",
    "df.head()"
   ]
  },
  {
   "cell_type": "code",
   "execution_count": 15,
   "metadata": {},
   "outputs": [
    {
     "data": {
      "text/plain": [
       "NetflixBrasil      42102\n",
       "PrimeVideoBR       15652\n",
       "globoplay          11736\n",
       "nubank              8426\n",
       "submarino           7537\n",
       "americanascom       6803\n",
       "pontofrio           5584\n",
       "Bancointer          4667\n",
       "CasasBahia          4578\n",
       "CocaCola_Br         4476\n",
       "Bradesco            4019\n",
       "DisneyPlusBR        2846\n",
       "santander_br        2827\n",
       "C6Bank              2615\n",
       "BancodoBrasil       2285\n",
       "itau                2051\n",
       "timeneon            1840\n",
       "PepsiBr             1056\n",
       "amazonBR             628\n",
       "lojasamericanas      595\n",
       "brkindle              52\n",
       "Name: in_reply_to_screen_name, dtype: int64"
      ]
     },
     "execution_count": 15,
     "metadata": {},
     "output_type": "execute_result"
    }
   ],
   "source": [
    "# verificando se todas as empresas monitoradas tem registros\n",
    "df['in_reply_to_screen_name'].value_counts()"
   ]
  },
  {
   "cell_type": "code",
   "execution_count": 17,
   "metadata": {},
   "outputs": [
    {
     "name": "stdout",
     "output_type": "stream",
     "text": [
      "Arquivo Gravado com Sucesso\n"
     ]
    }
   ],
   "source": [
    "# Salvando o dataset em CSV\n",
    "df.to_csv('dataset.csv')\n",
    "\n",
    "print('Arquivo Gravado com Sucesso')"
   ]
  },
  {
   "cell_type": "code",
   "execution_count": 26,
   "metadata": {},
   "outputs": [
    {
     "data": {
      "text/html": [
       "<div>\n",
       "<style scoped>\n",
       "    .dataframe tbody tr th:only-of-type {\n",
       "        vertical-align: middle;\n",
       "    }\n",
       "\n",
       "    .dataframe tbody tr th {\n",
       "        vertical-align: top;\n",
       "    }\n",
       "\n",
       "    .dataframe thead th {\n",
       "        text-align: right;\n",
       "    }\n",
       "</style>\n",
       "<table border=\"1\" class=\"dataframe\">\n",
       "  <thead>\n",
       "    <tr style=\"text-align: right;\">\n",
       "      <th></th>\n",
       "      <th>id_str</th>\n",
       "      <th>in_reply_to_status_id_str</th>\n",
       "      <th>in_reply_to_screen_name</th>\n",
       "      <th>full_text</th>\n",
       "      <th>sentimento</th>\n",
       "    </tr>\n",
       "  </thead>\n",
       "  <tbody>\n",
       "    <tr>\n",
       "      <td>0</td>\n",
       "      <td>1029818380390490113</td>\n",
       "      <td>1029492806556037120</td>\n",
       "      <td>santander_br</td>\n",
       "      <td>@santander_br Isso. Qualquer operacao que eu t...</td>\n",
       "      <td>NaN</td>\n",
       "    </tr>\n",
       "    <tr>\n",
       "      <td>1</td>\n",
       "      <td>1077009782362517505</td>\n",
       "      <td>1077002120229019650</td>\n",
       "      <td>santander_br</td>\n",
       "      <td>@santander_br a atendente pagou pela segunda v...</td>\n",
       "      <td>NaN</td>\n",
       "    </tr>\n",
       "    <tr>\n",
       "      <td>2</td>\n",
       "      <td>1088105568169017344</td>\n",
       "      <td>1050372894696583173</td>\n",
       "      <td>Bancointer</td>\n",
       "      <td>@Bancointer Pode traZer o meus</td>\n",
       "      <td>NaN</td>\n",
       "    </tr>\n",
       "    <tr>\n",
       "      <td>3</td>\n",
       "      <td>1092138777634619392</td>\n",
       "      <td>1092066736009080833</td>\n",
       "      <td>santander_br</td>\n",
       "      <td>@santander_br @Estadao Não estou conseguindo g...</td>\n",
       "      <td>NaN</td>\n",
       "    </tr>\n",
       "    <tr>\n",
       "      <td>4</td>\n",
       "      <td>1093680499359469570</td>\n",
       "      <td>1093679986307936256</td>\n",
       "      <td>itau</td>\n",
       "      <td>@itau Mas foi... e o setup foi bem fácil! Muit...</td>\n",
       "      <td>NaN</td>\n",
       "    </tr>\n",
       "  </tbody>\n",
       "</table>\n",
       "</div>"
      ],
      "text/plain": [
       "                id_str in_reply_to_status_id_str in_reply_to_screen_name  \\\n",
       "0  1029818380390490113       1029492806556037120            santander_br   \n",
       "1  1077009782362517505       1077002120229019650            santander_br   \n",
       "2  1088105568169017344       1050372894696583173              Bancointer   \n",
       "3  1092138777634619392       1092066736009080833            santander_br   \n",
       "4  1093680499359469570       1093679986307936256                    itau   \n",
       "\n",
       "                                           full_text  sentimento  \n",
       "0  @santander_br Isso. Qualquer operacao que eu t...         NaN  \n",
       "1  @santander_br a atendente pagou pela segunda v...         NaN  \n",
       "2                     @Bancointer Pode traZer o meus         NaN  \n",
       "3  @santander_br @Estadao Não estou conseguindo g...         NaN  \n",
       "4  @itau Mas foi... e o setup foi bem fácil! Muit...         NaN  "
      ]
     },
     "execution_count": 26,
     "metadata": {},
     "output_type": "execute_result"
    }
   ],
   "source": [
    "# Validando a importação do CSV\n",
    "dataset = pd.read_csv('dataset.csv', index_col=0)\n",
    "dataset.head()"
   ]
  }
 ],
 "metadata": {
  "kernelspec": {
   "display_name": "Python 3",
   "language": "python",
   "name": "python3"
  },
  "language_info": {
   "codemirror_mode": {
    "name": "ipython",
    "version": 3
   },
   "file_extension": ".py",
   "mimetype": "text/x-python",
   "name": "python",
   "nbconvert_exporter": "python",
   "pygments_lexer": "ipython3",
   "version": "3.8.5"
  }
 },
 "nbformat": 4,
 "nbformat_minor": 2
}
