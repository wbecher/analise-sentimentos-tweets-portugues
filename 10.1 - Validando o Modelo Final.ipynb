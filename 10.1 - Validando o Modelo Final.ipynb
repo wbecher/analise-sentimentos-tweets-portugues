{
 "cells": [
  {
   "cell_type": "markdown",
   "metadata": {},
   "source": [
    "## Validando o modelo Final\n",
    "\n",
    "Para validar o modelo final, treinado com o dataset que foi rotulado de forma automática, vamos rotular os mesmos 3 datasets utilizados para validar o modelo inicial. "
   ]
  },
  {
   "cell_type": "code",
   "execution_count": 1,
   "metadata": {},
   "outputs": [],
   "source": [
    "import pandas as pd\n",
    "import numpy as np"
   ]
  },
  {
   "cell_type": "code",
   "execution_count": 2,
   "metadata": {},
   "outputs": [],
   "source": [
    "# importa funções para redes neurais\n",
    "from keras.preprocessing.text import Tokenizer\n",
    "from keras.preprocessing import sequence\n",
    "\n",
    "import seaborn as sns\n",
    "sns.set(context='talk', rc={'figure.figsize':(20,8)})"
   ]
  },
  {
   "cell_type": "code",
   "execution_count": 3,
   "metadata": {},
   "outputs": [],
   "source": [
    "from keras.models import Sequential\n",
    "from keras.layers import Dense\n",
    "from keras.models import model_from_json\n",
    "from sklearn import metrics\n",
    "import os"
   ]
  },
  {
   "cell_type": "code",
   "execution_count": 4,
   "metadata": {},
   "outputs": [],
   "source": [
    "def predicao_M1(lista_texto, X_M1):\n",
    "    tokenizer = Tokenizer(num_words=33000)\n",
    "    tokenizer.fit_on_texts(X_M1)\n",
    "    texto_token = tokenizer.texts_to_sequences(lista_texto)\n",
    "    texto_padded_tokens = sequence.pad_sequences(texto_token, maxlen=250)\n",
    "    return (M1_model.predict(texto_padded_tokens[:len(lista_texto)]) > .5).astype(int)\n",
    "    #return model.predict(texto_padded_tokens[:len(lista_texto)]).argmax(1)\n",
    "    \n",
    "def predicao_M2(lista_texto, X_M2):\n",
    "    tokenizer = Tokenizer(num_words=55000)\n",
    "    tokenizer.fit_on_texts(X_M2)\n",
    "    texto_token = tokenizer.texts_to_sequences(lista_texto)\n",
    "    texto_padded_tokens = sequence.pad_sequences(texto_token, maxlen=250)\n",
    "    return (M2_model_SM.predict(texto_padded_tokens[:len(lista_texto)]) > .5).astype(int)\n",
    "    #return model.predict(texto_padded_tokens[:len(lista_texto)]).argmax(1)"
   ]
  },
  {
   "cell_type": "code",
   "execution_count": 5,
   "metadata": {},
   "outputs": [],
   "source": [
    "data_M1 = pd.read_csv('dataset_com_sentimento.csv', index_col=0)\n",
    "data_M2 = pd.read_csv('dataset_unificado.csv', index_col=0)\n",
    "\n",
    "tokens_M1 = data_M1['full_text'].values.astype(str)\n",
    "tokens_M2 = data_M2['full_text'].values.astype(str)"
   ]
  },
  {
   "cell_type": "code",
   "execution_count": 6,
   "metadata": {},
   "outputs": [
    {
     "name": "stdout",
     "output_type": "stream",
     "text": [
      "Modelo carregado com Sucesso\n"
     ]
    }
   ],
   "source": [
    "# Carregando json e criando o modelo M1\n",
    "json_file = open('model_final_M1.json', 'r')\n",
    "M1_model_json = json_file.read()\n",
    "json_file.close()\n",
    "M1_model = model_from_json(M1_model_json)\n",
    "# Carregando pesos para o novo modelo\n",
    "M1_model.load_weights(\"model_final_M1.h5\")\n",
    "print(\"Modelo carregado com Sucesso\")"
   ]
  },
  {
   "cell_type": "code",
   "execution_count": 8,
   "metadata": {},
   "outputs": [
    {
     "name": "stdout",
     "output_type": "stream",
     "text": [
      "Modelo carregado com Sucesso\n"
     ]
    }
   ],
   "source": [
    "# Carregando json e criando o modelo M2\n",
    "json_file = open('model_final_M2_SM.json', 'r')\n",
    "M2_model_json = json_file.read()\n",
    "json_file.close()\n",
    "M2_model_SM = model_from_json(M2_model_json)\n",
    "# Carregando pesos para o novo modelo\n",
    "M2_model_SM.load_weights(\"model_final_M2_SM.h5\")\n",
    "print(\"Modelo carregado com Sucesso\")"
   ]
  },
  {
   "cell_type": "code",
   "execution_count": 9,
   "metadata": {
    "scrolled": true
   },
   "outputs": [
    {
     "name": "stdout",
     "output_type": "stream",
     "text": [
      "Model: \"sequential_10\"\n",
      "_________________________________________________________________\n",
      "Layer (type)                 Output Shape              Param #   \n",
      "=================================================================\n",
      "embedding_10 (Embedding)     (None, 250, 64)           2112000   \n",
      "_________________________________________________________________\n",
      "bidirectional_17 (Bidirectio (None, 250, 64)           24832     \n",
      "_________________________________________________________________\n",
      "dropout_16 (Dropout)         (None, 250, 64)           0         \n",
      "_________________________________________________________________\n",
      "bidirectional_18 (Bidirectio (None, 64)                24832     \n",
      "_________________________________________________________________\n",
      "dropout_17 (Dropout)         (None, 64)                0         \n",
      "_________________________________________________________________\n",
      "dense_9 (Dense)              (None, 1)                 65        \n",
      "=================================================================\n",
      "Total params: 2,161,729\n",
      "Trainable params: 2,161,729\n",
      "Non-trainable params: 0\n",
      "_________________________________________________________________\n"
     ]
    }
   ],
   "source": [
    "M1_model.summary()"
   ]
  },
  {
   "cell_type": "markdown",
   "metadata": {},
   "source": [
    "#### 1 - Dataset IMDB\n",
    "O Primeiro dataset são de avaliações de filmes do IMDB, são comentarios mais longos, em média 4x maiores do que o modelo treinado."
   ]
  },
  {
   "cell_type": "code",
   "execution_count": 10,
   "metadata": {
    "scrolled": false
   },
   "outputs": [
    {
     "data": {
      "text/html": [
       "<div>\n",
       "<style scoped>\n",
       "    .dataframe tbody tr th:only-of-type {\n",
       "        vertical-align: middle;\n",
       "    }\n",
       "\n",
       "    .dataframe tbody tr th {\n",
       "        vertical-align: top;\n",
       "    }\n",
       "\n",
       "    .dataframe thead th {\n",
       "        text-align: right;\n",
       "    }\n",
       "</style>\n",
       "<table border=\"1\" class=\"dataframe\">\n",
       "  <thead>\n",
       "    <tr style=\"text-align: right;\">\n",
       "      <th></th>\n",
       "      <th>text_pt</th>\n",
       "      <th>sentiment</th>\n",
       "    </tr>\n",
       "  </thead>\n",
       "  <tbody>\n",
       "    <tr>\n",
       "      <td>0</td>\n",
       "      <td>mais uma vez o sr costner arrumou um filme por...</td>\n",
       "      <td>0</td>\n",
       "    </tr>\n",
       "    <tr>\n",
       "      <td>1</td>\n",
       "      <td>este e um exemplo do motivo pelo qual a maiori...</td>\n",
       "      <td>0</td>\n",
       "    </tr>\n",
       "    <tr>\n",
       "      <td>2</td>\n",
       "      <td>primeiro de tudo eu odeio esses raps imbecis q...</td>\n",
       "      <td>0</td>\n",
       "    </tr>\n",
       "    <tr>\n",
       "      <td>3</td>\n",
       "      <td>nem mesmo os beatles puderam escrever musicas ...</td>\n",
       "      <td>0</td>\n",
       "    </tr>\n",
       "    <tr>\n",
       "      <td>4</td>\n",
       "      <td>filmes de fotos de latao nao e uma palavra apr...</td>\n",
       "      <td>0</td>\n",
       "    </tr>\n",
       "  </tbody>\n",
       "</table>\n",
       "</div>"
      ],
      "text/plain": [
       "                                             text_pt  sentiment\n",
       "0  mais uma vez o sr costner arrumou um filme por...          0\n",
       "1  este e um exemplo do motivo pelo qual a maiori...          0\n",
       "2  primeiro de tudo eu odeio esses raps imbecis q...          0\n",
       "3  nem mesmo os beatles puderam escrever musicas ...          0\n",
       "4  filmes de fotos de latao nao e uma palavra apr...          0"
      ]
     },
     "execution_count": 10,
     "metadata": {},
     "output_type": "execute_result"
    }
   ],
   "source": [
    "dataset_validacao = pd.read_csv('imdb_limpo.csv', index_col=0)\n",
    "dataset_validacao.head()"
   ]
  },
  {
   "cell_type": "code",
   "execution_count": 11,
   "metadata": {
    "scrolled": true
   },
   "outputs": [
    {
     "data": {
      "text/plain": [
       "<AxesSubplot:>"
      ]
     },
     "execution_count": 11,
     "metadata": {},
     "output_type": "execute_result"
    },
    {
     "data": {
      "image/png": "[encoded data removed]",
      "text/plain": [
       "<Figure size 432x288 with 1 Axes>"
      ]
     },
     "metadata": {
      "needs_background": "light"
     },
     "output_type": "display_data"
    }
   ],
   "source": [
    "dataset_validacao['text_pt'].apply(len).hist()"
   ]
  },
  {
   "cell_type": "code",
   "execution_count": 203,
   "metadata": {},
   "outputs": [
    {
     "name": "stdout",
     "output_type": "stream",
     "text": [
      "Acurácia: 0.508663741685032\n"
     ]
    }
   ],
   "source": [
    "# avaliando acuracia usando Modelo 1\n",
    "y_pred_imdb = predicao_M1(dataset_validacao.text_pt, tokens_M1)\n",
    "print(\"Acurácia:\", metrics.accuracy_score(dataset_validacao.sentiment, y_pred_imdb))"
   ]
  },
  {
   "cell_type": "code",
   "execution_count": 209,
   "metadata": {},
   "outputs": [
    {
     "name": "stdout",
     "output_type": "stream",
     "text": [
      "M2 SM - Acurácia: 0.6986594957439496\n"
     ]
    }
   ],
   "source": [
    "# avaliando acuracia usando Modelo 2\n",
    "y_pred_imdb2_SM = predicao_M2(dataset_validacao.text_pt, tokens_M2)\n",
    "print(\"M2 SM - Acurácia:\", metrics.accuracy_score(dataset_validacao.sentiment, y_pred_imdb2_SM))"
   ]
  },
  {
   "cell_type": "markdown",
   "metadata": {},
   "source": [
    "Na primeira rotulagem com a o modelo inicial treinado com reviews de APP, tivemos uma acurácia de 65%, já com o modelo final treinado com tweets a acurácia foi de 69%."
   ]
  },
  {
   "cell_type": "markdown",
   "metadata": {},
   "source": [
    "#### 2 - Dataset Tweets Aleatórios\n",
    "\n",
    "O segundo dataset também são tweets, conforme nosso dataset alvo, porém são de assuntos aleatórios, o tamanho dos textos é menor do que foi treinado o modelo."
   ]
  },
  {
   "cell_type": "code",
   "execution_count": 13,
   "metadata": {},
   "outputs": [],
   "source": [
    "dataset_validacao2 = pd.read_csv('tweets_aleatorios_limpo.csv', index_col=0)"
   ]
  },
  {
   "cell_type": "code",
   "execution_count": 14,
   "metadata": {
    "scrolled": false
   },
   "outputs": [
    {
     "data": {
      "text/html": [
       "<div>\n",
       "<style scoped>\n",
       "    .dataframe tbody tr th:only-of-type {\n",
       "        vertical-align: middle;\n",
       "    }\n",
       "\n",
       "    .dataframe tbody tr th {\n",
       "        vertical-align: top;\n",
       "    }\n",
       "\n",
       "    .dataframe thead th {\n",
       "        text-align: right;\n",
       "    }\n",
       "</style>\n",
       "<table border=\"1\" class=\"dataframe\">\n",
       "  <thead>\n",
       "    <tr style=\"text-align: right;\">\n",
       "      <th></th>\n",
       "      <th>tweet_text</th>\n",
       "      <th>sentiment</th>\n",
       "    </tr>\n",
       "  </thead>\n",
       "  <tbody>\n",
       "    <tr>\n",
       "      <td>0</td>\n",
       "      <td>para eu ir</td>\n",
       "      <td>1</td>\n",
       "    </tr>\n",
       "    <tr>\n",
       "      <td>1</td>\n",
       "      <td>o meu like eu ja dei na epoca</td>\n",
       "      <td>1</td>\n",
       "    </tr>\n",
       "    <tr>\n",
       "      <td>2</td>\n",
       "      <td>eu so queria conseguir comer alguma coisa pra ...</td>\n",
       "      <td>1</td>\n",
       "    </tr>\n",
       "    <tr>\n",
       "      <td>3</td>\n",
       "      <td>d que lindo dia</td>\n",
       "      <td>1</td>\n",
       "    </tr>\n",
       "    <tr>\n",
       "      <td>4</td>\n",
       "      <td>pq da pr jeito e uma oferta ha q aproveitar p</td>\n",
       "      <td>1</td>\n",
       "    </tr>\n",
       "  </tbody>\n",
       "</table>\n",
       "</div>"
      ],
      "text/plain": [
       "                                          tweet_text  sentiment\n",
       "0                                        para eu ir           1\n",
       "1                     o meu like eu ja dei na epoca           1\n",
       "2  eu so queria conseguir comer alguma coisa pra ...          1\n",
       "3                                   d que lindo dia           1\n",
       "4      pq da pr jeito e uma oferta ha q aproveitar p          1"
      ]
     },
     "execution_count": 14,
     "metadata": {},
     "output_type": "execute_result"
    }
   ],
   "source": [
    "dataset_validacao2.head()"
   ]
  },
  {
   "cell_type": "code",
   "execution_count": 15,
   "metadata": {},
   "outputs": [
    {
     "data": {
      "text/plain": [
       "<AxesSubplot:>"
      ]
     },
     "execution_count": 15,
     "metadata": {},
     "output_type": "execute_result"
    },
    {
     "data": {
      "image/png": "[encoded data removed]",
      "text/plain": [
       "<Figure size 432x288 with 1 Axes>"
      ]
     },
     "metadata": {
      "needs_background": "light"
     },
     "output_type": "display_data"
    }
   ],
   "source": [
    "dataset_validacao2['tweet_text'].apply(len).hist()"
   ]
  },
  {
   "cell_type": "code",
   "execution_count": 201,
   "metadata": {},
   "outputs": [
    {
     "name": "stdout",
     "output_type": "stream",
     "text": [
      "Acurácia: 0.4954057441410969\n"
     ]
    }
   ],
   "source": [
    "# avaliando acuracia usando Modelo 1\n",
    "y_pred_tweets = predicao_M1(dataset_validacao2.tweet_text, tokens_M1)\n",
    "print(\"Acurácia:\", metrics.accuracy_score(dataset_validacao2.sentiment, y_pred_tweets))"
   ]
  },
  {
   "cell_type": "code",
   "execution_count": 208,
   "metadata": {},
   "outputs": [
    {
     "name": "stdout",
     "output_type": "stream",
     "text": [
      "M2 SM - Acurácia: 0.5360462219135057\n"
     ]
    }
   ],
   "source": [
    "# avaliando acuracia usando Modelo 2\n",
    "y_pred_tweets2_SM = predicao_M2(dataset_validacao2.tweet_text, tokens_M2)\n",
    "print(\"M2 SM - Acurácia:\", metrics.accuracy_score(dataset_validacao2.sentiment, y_pred_tweets2_SM))"
   ]
  },
  {
   "cell_type": "markdown",
   "metadata": {},
   "source": [
    "Na primeira rotulagem com a o modelo inicial treinado com reviews de APP, tivemos uma acurácia de 52%, já com o modelo final treinado com tweets a acurácia foi de 53%."
   ]
  },
  {
   "cell_type": "markdown",
   "metadata": {},
   "source": [
    "#### 3 - Dataset Avaliações de produtos\n",
    "\n",
    "Por fim vamos utilizar um outro dataset de avaliação, onde os textos são em média no tamanho do modelo treinado, este dataset também utiliza avaliações de 1 a 5, e, da mesma forma que o dataset utilizado para o treino do modelo, também vamos considerar apenas as avaliações 1 como negativas e 5 como positivas, além de possuirem um pouco de contexto."
   ]
  },
  {
   "cell_type": "code",
   "execution_count": 17,
   "metadata": {},
   "outputs": [],
   "source": [
    "dataset_validacao3 = pd.read_csv('B2W_limpo.csv', index_col=0)"
   ]
  },
  {
   "cell_type": "code",
   "execution_count": 18,
   "metadata": {
    "scrolled": false
   },
   "outputs": [
    {
     "data": {
      "text/html": [
       "<div>\n",
       "<style scoped>\n",
       "    .dataframe tbody tr th:only-of-type {\n",
       "        vertical-align: middle;\n",
       "    }\n",
       "\n",
       "    .dataframe tbody tr th {\n",
       "        vertical-align: top;\n",
       "    }\n",
       "\n",
       "    .dataframe thead th {\n",
       "        text-align: right;\n",
       "    }\n",
       "</style>\n",
       "<table border=\"1\" class=\"dataframe\">\n",
       "  <thead>\n",
       "    <tr style=\"text-align: right;\">\n",
       "      <th></th>\n",
       "      <th>overall_rating</th>\n",
       "      <th>review_text</th>\n",
       "    </tr>\n",
       "  </thead>\n",
       "  <tbody>\n",
       "    <tr>\n",
       "      <td>9</td>\n",
       "      <td>0</td>\n",
       "      <td>meu produto nao foi entregue e a americanas es...</td>\n",
       "    </tr>\n",
       "    <tr>\n",
       "      <td>13</td>\n",
       "      <td>0</td>\n",
       "      <td>esse celular nao vale nada a bateria nao vale ...</td>\n",
       "    </tr>\n",
       "    <tr>\n",
       "      <td>25</td>\n",
       "      <td>0</td>\n",
       "      <td>eu nao recebi o produto e a americanas sabe di...</td>\n",
       "    </tr>\n",
       "    <tr>\n",
       "      <td>31</td>\n",
       "      <td>0</td>\n",
       "      <td>nao recebi segundo o correio o endereco estava...</td>\n",
       "    </tr>\n",
       "    <tr>\n",
       "      <td>33</td>\n",
       "      <td>0</td>\n",
       "      <td>comprei o produto que veio com defeito montamo...</td>\n",
       "    </tr>\n",
       "  </tbody>\n",
       "</table>\n",
       "</div>"
      ],
      "text/plain": [
       "    overall_rating                                        review_text\n",
       "9                0  meu produto nao foi entregue e a americanas es...\n",
       "13               0  esse celular nao vale nada a bateria nao vale ...\n",
       "25               0  eu nao recebi o produto e a americanas sabe di...\n",
       "31               0  nao recebi segundo o correio o endereco estava...\n",
       "33               0  comprei o produto que veio com defeito montamo..."
      ]
     },
     "execution_count": 18,
     "metadata": {},
     "output_type": "execute_result"
    }
   ],
   "source": [
    "dataset_validacao3.head()"
   ]
  },
  {
   "cell_type": "code",
   "execution_count": 19,
   "metadata": {},
   "outputs": [
    {
     "data": {
      "text/plain": [
       "<AxesSubplot:>"
      ]
     },
     "execution_count": 19,
     "metadata": {},
     "output_type": "execute_result"
    },
    {
     "data": {
      "image/png": "[encoded data removed]",
      "text/plain": [
       "<Figure size 432x288 with 1 Axes>"
      ]
     },
     "metadata": {
      "needs_background": "light"
     },
     "output_type": "display_data"
    }
   ],
   "source": [
    "dataset_validacao3['review_text'].apply(len).hist()"
   ]
  },
  {
   "cell_type": "code",
   "execution_count": 199,
   "metadata": {},
   "outputs": [
    {
     "name": "stdout",
     "output_type": "stream",
     "text": [
      "M1 - Acurácia: 0.5992761491132826\n"
     ]
    }
   ],
   "source": [
    "# avaliando acuracia usando Modelo 1\n",
    "y_pred_b2w_m1 = predicao_M1(dataset_validacao3.review_text, tokens_M1)\n",
    "print(\"M1 - Acurácia:\", metrics.accuracy_score(dataset_validacao3.overall_rating, y_pred_b2w_m1))"
   ]
  },
  {
   "cell_type": "code",
   "execution_count": 207,
   "metadata": {},
   "outputs": [
    {
     "name": "stdout",
     "output_type": "stream",
     "text": [
      "M2 SM - Acurácia: 0.9250452406804198\n"
     ]
    }
   ],
   "source": [
    "# avaliando acuracia usando Modelo 2\n",
    "y_pred_b2w_m2_sm = predicao_M2(dataset_validacao3.review_text, tokens_M2)\n",
    "print(\"M2 SM - Acurácia:\", metrics.accuracy_score(dataset_validacao3.overall_rating, y_pred_b2w_m2_sm))"
   ]
  },
  {
   "cell_type": "markdown",
   "metadata": {},
   "source": [
    "Na primeira rotulagem com a o modelo inicial treinado com reviews de APP, tivemos uma acurácia de 91%, já com o modelo final treinado com tweets a acurácia foi de 93%."
   ]
  },
  {
   "cell_type": "markdown",
   "metadata": {},
   "source": [
    "De uma forma geral o modelo final aumentou um pouco a acurácia, também é verdade que o número de palavras tokenizadas do dataset aumentou. Mas o resultado esperado era este mesmo."
   ]
  },
  {
   "cell_type": "markdown",
   "metadata": {},
   "source": [
    "#### Validando com as empresas Netflix, Ponto Frio e Nubank\n",
    "\n",
    "Se nos outros três datasets estavamos em um contexto bem diferente, neste estamos dentro do contexto, pois são empresas tiradas do dataset rotulado para uma validação."
   ]
  },
  {
   "cell_type": "code",
   "execution_count": 21,
   "metadata": {},
   "outputs": [],
   "source": [
    "#importa dataset\n",
    "df = pd.read_csv('dataset_com_sentimento.csv', index_col=0)"
   ]
  },
  {
   "cell_type": "code",
   "execution_count": 22,
   "metadata": {},
   "outputs": [
    {
     "data": {
      "text/html": [
       "<div>\n",
       "<style scoped>\n",
       "    .dataframe tbody tr th:only-of-type {\n",
       "        vertical-align: middle;\n",
       "    }\n",
       "\n",
       "    .dataframe tbody tr th {\n",
       "        vertical-align: top;\n",
       "    }\n",
       "\n",
       "    .dataframe thead th {\n",
       "        text-align: right;\n",
       "    }\n",
       "</style>\n",
       "<table border=\"1\" class=\"dataframe\">\n",
       "  <thead>\n",
       "    <tr style=\"text-align: right;\">\n",
       "      <th></th>\n",
       "      <th>in_reply_to_screen_name</th>\n",
       "      <th>full_text</th>\n",
       "      <th>sentimento</th>\n",
       "      <th>sentimento_CNN</th>\n",
       "      <th>sentimento_RNN</th>\n",
       "      <th>pesos_RNN</th>\n",
       "      <th>sentimento_medio</th>\n",
       "    </tr>\n",
       "  </thead>\n",
       "  <tbody>\n",
       "    <tr>\n",
       "      <td>0</td>\n",
       "      <td>santander_br</td>\n",
       "      <td>isso qualquer operacao que eu tente fazer em ...</td>\n",
       "      <td>0</td>\n",
       "      <td>0</td>\n",
       "      <td>0</td>\n",
       "      <td>0.00211</td>\n",
       "      <td>0</td>\n",
       "    </tr>\n",
       "  </tbody>\n",
       "</table>\n",
       "</div>"
      ],
      "text/plain": [
       "  in_reply_to_screen_name                                          full_text  \\\n",
       "0            santander_br   isso qualquer operacao que eu tente fazer em ...   \n",
       "\n",
       "   sentimento  sentimento_CNN  sentimento_RNN  pesos_RNN  sentimento_medio  \n",
       "0           0               0               0    0.00211                 0  "
      ]
     },
     "execution_count": 22,
     "metadata": {},
     "output_type": "execute_result"
    }
   ],
   "source": [
    "df.head(1)"
   ]
  },
  {
   "cell_type": "code",
   "execution_count": 23,
   "metadata": {},
   "outputs": [],
   "source": [
    "# carregando os dataset individuais\n",
    "pontofrio = df[(df['in_reply_to_screen_name'] == 'pontofrio')]\n",
    "nubank = df[(df['in_reply_to_screen_name'] == 'nubank')]\n",
    "netflix = df[(df['in_reply_to_screen_name'] == 'NetflixBrasil')]"
   ]
  },
  {
   "cell_type": "code",
   "execution_count": 24,
   "metadata": {
    "scrolled": false
   },
   "outputs": [
    {
     "data": {
      "text/plain": [
       "1    69589\n",
       "0    52935\n",
       "Name: sentimento, dtype: int64"
      ]
     },
     "execution_count": 24,
     "metadata": {},
     "output_type": "execute_result"
    }
   ],
   "source": [
    "df['sentimento'].value_counts()"
   ]
  },
  {
   "cell_type": "code",
   "execution_count": 25,
   "metadata": {},
   "outputs": [
    {
     "data": {
      "text/plain": [
       "1    3069\n",
       "0    2093\n",
       "Name: sentimento, dtype: int64"
      ]
     },
     "execution_count": 25,
     "metadata": {},
     "output_type": "execute_result"
    }
   ],
   "source": [
    "pontofrio['sentimento'].value_counts()"
   ]
  },
  {
   "cell_type": "code",
   "execution_count": 26,
   "metadata": {},
   "outputs": [
    {
     "data": {
      "text/plain": [
       "0    5430\n",
       "1    2807\n",
       "Name: sentimento, dtype: int64"
      ]
     },
     "execution_count": 26,
     "metadata": {},
     "output_type": "execute_result"
    }
   ],
   "source": [
    "nubank['sentimento'].value_counts()"
   ]
  },
  {
   "cell_type": "code",
   "execution_count": 27,
   "metadata": {
    "scrolled": true
   },
   "outputs": [
    {
     "data": {
      "text/plain": [
       "1    28170\n",
       "0    10368\n",
       "Name: sentimento, dtype: int64"
      ]
     },
     "execution_count": 27,
     "metadata": {},
     "output_type": "execute_result"
    }
   ],
   "source": [
    "netflix['sentimento'].value_counts()"
   ]
  },
  {
   "cell_type": "markdown",
   "metadata": {},
   "source": [
    "Tanto no geral quanto nos datasets individuais, a tendencia é de tweets com sentimento positivo."
   ]
  },
  {
   "cell_type": "markdown",
   "metadata": {},
   "source": [
    "**Dataset rotulado, com as 3 empresas junto**"
   ]
  },
  {
   "cell_type": "code",
   "execution_count": 31,
   "metadata": {},
   "outputs": [
    {
     "name": "stdout",
     "output_type": "stream",
     "text": [
      "Acurácia: 0.5662808919068917\n"
     ]
    }
   ],
   "source": [
    "# Modelo 1 \n",
    "y_pred_amostra = predicao_M1(df.full_text,tokens_M1)\n",
    "print(\"Acurácia:\", metrics.accuracy_score(df.sentimento_medio, y_pred_amostra))"
   ]
  },
  {
   "cell_type": "code",
   "execution_count": 33,
   "metadata": {},
   "outputs": [
    {
     "name": "stdout",
     "output_type": "stream",
     "text": [
      "Acurácia: 0.9057817243968529\n"
     ]
    }
   ],
   "source": [
    "# Modelo 2 - Sentimento Médio\n",
    "y_pred_amostra2_SM = predicao_M2(df.full_text,tokens_M2)\n",
    "print(\"Acurácia:\", metrics.accuracy_score(df.sentimento_medio, y_pred_amostra2_SM))"
   ]
  },
  {
   "cell_type": "markdown",
   "metadata": {},
   "source": [
    "**Apenas Ponto Frio**"
   ]
  },
  {
   "cell_type": "code",
   "execution_count": 35,
   "metadata": {},
   "outputs": [
    {
     "name": "stdout",
     "output_type": "stream",
     "text": [
      "M1 - Acurácia Pontofrio: 0.5856257264626114\n"
     ]
    }
   ],
   "source": [
    "#Modelo 1 - pontofrio\n",
    "y_pred_pontofrio_m1 = predicao_M1(pontofrio.full_text,tokens_M1)\n",
    "print(\"M1 - Acurácia Pontofrio:\", metrics.accuracy_score(pontofrio.sentimento_medio, y_pred_pontofrio_m1))"
   ]
  },
  {
   "cell_type": "code",
   "execution_count": 37,
   "metadata": {},
   "outputs": [
    {
     "name": "stdout",
     "output_type": "stream",
     "text": [
      "M2 SM - Acurácia Pontofrio: 0.8760170476559473\n"
     ]
    }
   ],
   "source": [
    "#Modelo 2 SM - pontofrio\n",
    "y_pred_pontofrio_m2_sm = predicao_M2(pontofrio.full_text,tokens_M2)\n",
    "print(\"M2 SM - Acurácia Pontofrio:\", metrics.accuracy_score(pontofrio.sentimento_medio, y_pred_pontofrio_m2_sm))"
   ]
  },
  {
   "cell_type": "markdown",
   "metadata": {},
   "source": [
    "**Apenas Netflix**"
   ]
  },
  {
   "cell_type": "code",
   "execution_count": 51,
   "metadata": {},
   "outputs": [
    {
     "name": "stdout",
     "output_type": "stream",
     "text": [
      "M1 - Acurácia Netflix: 0.5267787638175307\n"
     ]
    }
   ],
   "source": [
    "#Modelo 1 - netflix\n",
    "y_pred_netflix_m1 = predicao_M1(netflix.full_text,tokens_M1)\n",
    "print(\"M1 - Acurácia Netflix:\", metrics.accuracy_score(netflix.sentimento_medio, y_pred_netflix_m1))"
   ]
  },
  {
   "cell_type": "code",
   "execution_count": 53,
   "metadata": {},
   "outputs": [
    {
     "name": "stdout",
     "output_type": "stream",
     "text": [
      "M2 - Acurácia Netflix: 0.8786652135554518\n"
     ]
    }
   ],
   "source": [
    "#Modelo 2 SM- netflix\n",
    "y_pred_netflix_m2_sm = predicao_M2(netflix.full_text,tokens_M2)\n",
    "print(\"M2 - Acurácia Netflix:\", metrics.accuracy_score(netflix.sentimento_medio, y_pred_netflix_m2_sm))"
   ]
  },
  {
   "cell_type": "markdown",
   "metadata": {},
   "source": [
    "**Apenas Nubank**"
   ]
  },
  {
   "cell_type": "code",
   "execution_count": 48,
   "metadata": {},
   "outputs": [
    {
     "name": "stdout",
     "output_type": "stream",
     "text": [
      "M1 - Acurácia Nubank: 0.5653757435959694\n"
     ]
    }
   ],
   "source": [
    "#Modelo 1 - Nubank\n",
    "y_pred_nubank_m1 = predicao_M1(nubank.full_text,tokens_M1)\n",
    "print(\"M1 - Acurácia Nubank:\", metrics.accuracy_score(nubank.sentimento_medio, y_pred_nubank_m1))"
   ]
  },
  {
   "cell_type": "code",
   "execution_count": 50,
   "metadata": {},
   "outputs": [
    {
     "name": "stdout",
     "output_type": "stream",
     "text": [
      "M2 - Acurácia Nubank: 0.8499453684593905\n"
     ]
    }
   ],
   "source": [
    "#Modelo 2 SM- Nubank\n",
    "y_pred_nubank_m2_sm = predicao_M2(nubank.full_text,tokens_M2)\n",
    "print(\"M2 - Acurácia Nubank:\", metrics.accuracy_score(nubank.sentimento_medio, y_pred_nubank_m2_sm))"
   ]
  },
  {
   "cell_type": "markdown",
   "metadata": {},
   "source": [
    "Novamente o Modelo 2, treinado com os dois datasets, se saiu melhor, trazendo resultados acima de 85% em dados nunca vistos."
   ]
  },
  {
   "cell_type": "code",
   "execution_count": null,
   "metadata": {},
   "outputs": [],
   "source": []
  },
  {
   "cell_type": "markdown",
   "metadata": {},
   "source": [
    "**Analisando os Erros**"
   ]
  },
  {
   "cell_type": "code",
   "execution_count": 44,
   "metadata": {},
   "outputs": [],
   "source": [
    "data = pd.read_csv('dataset_com_sentimento.csv', index_col=0)"
   ]
  },
  {
   "cell_type": "code",
   "execution_count": 47,
   "metadata": {
    "scrolled": false
   },
   "outputs": [
    {
     "name": "stdout",
     "output_type": "stream",
     "text": [
      "Acurácia SVM: 0.8484215337403285\n",
      "-----------\n",
      "Acurácia CNN: 0.9202523587215566\n",
      "-----------\n",
      "Acurácia RNN: 0.9197381737455519\n"
     ]
    }
   ],
   "source": [
    "# Verificando qual modelo teve maior acurácia em relação a média \n",
    "print(\"Acurácia SVM:\", metrics.accuracy_score(data.sentimento, data.sentimento_medio))\n",
    "print('-----------')\n",
    "print(\"Acurácia CNN:\", metrics.accuracy_score(data.sentimento_CNN, data.sentimento_medio))\n",
    "print('-----------')\n",
    "print(\"Acurácia RNN:\", metrics.accuracy_score(data.sentimento_RNN, data.sentimento_medio))"
   ]
  },
  {
   "cell_type": "markdown",
   "metadata": {},
   "source": [
    "Para realizar uma análise mais subjetiva, irei utilizar o dataset referente a empresa Ponto Frio."
   ]
  },
  {
   "cell_type": "code",
   "execution_count": 96,
   "metadata": {},
   "outputs": [],
   "source": [
    "def predicao_pesos(lista_texto, tokens):\n",
    "    tokenizer = Tokenizer(num_words=61000)\n",
    "    tokenizer.fit_on_texts(tokens)\n",
    "    texto_token = tokenizer.texts_to_sequences(lista_texto)\n",
    "    texto_padded_tokens = sequence.pad_sequences(texto_token, maxlen=250)\n",
    "    return M2_model_SM.predict(texto_padded_tokens[:len(lista_texto)])"
   ]
  },
  {
   "cell_type": "code",
   "execution_count": 97,
   "metadata": {},
   "outputs": [],
   "source": [
    "y_pred_pontofrio_m2_pesos = predicao_pesos(pontofrio.full_text,tokens_M2)"
   ]
  },
  {
   "cell_type": "code",
   "execution_count": 98,
   "metadata": {
    "scrolled": false
   },
   "outputs": [
    {
     "name": "stderr",
     "output_type": "stream",
     "text": [
      "C:\\Users\\LBKnaak\\AppData\\Local\\Continuum\\anaconda3\\lib\\site-packages\\ipykernel_launcher.py:1: SettingWithCopyWarning: \n",
      "A value is trying to be set on a copy of a slice from a DataFrame.\n",
      "Try using .loc[row_indexer,col_indexer] = value instead\n",
      "\n",
      "See the caveats in the documentation: http://pandas.pydata.org/pandas-docs/stable/user_guide/indexing.html#returning-a-view-versus-a-copy\n",
      "  \"\"\"Entry point for launching an IPython kernel.\n",
      "C:\\Users\\LBKnaak\\AppData\\Local\\Continuum\\anaconda3\\lib\\site-packages\\ipykernel_launcher.py:2: SettingWithCopyWarning: \n",
      "A value is trying to be set on a copy of a slice from a DataFrame.\n",
      "Try using .loc[row_indexer,col_indexer] = value instead\n",
      "\n",
      "See the caveats in the documentation: http://pandas.pydata.org/pandas-docs/stable/user_guide/indexing.html#returning-a-view-versus-a-copy\n",
      "  \n"
     ]
    }
   ],
   "source": [
    "pontofrio[\"predicao\"] = y_pred_pontofrio_m2_sm\n",
    "pontofrio[\"pesos_RNN\"] = y_pred_pontofrio_m2_pesos"
   ]
  },
  {
   "cell_type": "code",
   "execution_count": 75,
   "metadata": {
    "scrolled": true
   },
   "outputs": [
    {
     "data": {
      "text/plain": [
       "5162"
      ]
     },
     "execution_count": 75,
     "metadata": {},
     "output_type": "execute_result"
    }
   ],
   "source": [
    "len(pontofrio)"
   ]
  },
  {
   "cell_type": "code",
   "execution_count": 99,
   "metadata": {},
   "outputs": [
    {
     "data": {
      "text/html": [
       "<div>\n",
       "<style scoped>\n",
       "    .dataframe tbody tr th:only-of-type {\n",
       "        vertical-align: middle;\n",
       "    }\n",
       "\n",
       "    .dataframe tbody tr th {\n",
       "        vertical-align: top;\n",
       "    }\n",
       "\n",
       "    .dataframe thead th {\n",
       "        text-align: right;\n",
       "    }\n",
       "</style>\n",
       "<table border=\"1\" class=\"dataframe\">\n",
       "  <thead>\n",
       "    <tr style=\"text-align: right;\">\n",
       "      <th></th>\n",
       "      <th>in_reply_to_screen_name</th>\n",
       "      <th>full_text</th>\n",
       "      <th>sentimento</th>\n",
       "      <th>sentimento_CNN</th>\n",
       "      <th>sentimento_RNN</th>\n",
       "      <th>pesos_RNN</th>\n",
       "      <th>sentimento_medio</th>\n",
       "      <th>predicao</th>\n",
       "    </tr>\n",
       "  </thead>\n",
       "  <tbody>\n",
       "    <tr>\n",
       "      <td>1646</td>\n",
       "      <td>pontofrio</td>\n",
       "      <td>me ajuda meu pedido ainda nao foi enviado</td>\n",
       "      <td>0</td>\n",
       "      <td>1</td>\n",
       "      <td>1</td>\n",
       "      <td>0.218363</td>\n",
       "      <td>1</td>\n",
       "      <td>0</td>\n",
       "    </tr>\n",
       "    <tr>\n",
       "      <td>1765</td>\n",
       "      <td>pontofrio</td>\n",
       "      <td>como voce ta escrevendo se voce e um pinguim</td>\n",
       "      <td>0</td>\n",
       "      <td>1</td>\n",
       "      <td>1</td>\n",
       "      <td>0.109524</td>\n",
       "      <td>1</td>\n",
       "      <td>0</td>\n",
       "    </tr>\n",
       "    <tr>\n",
       "      <td>1775</td>\n",
       "      <td>pontofrio</td>\n",
       "      <td>sera que eu vou ter que esperar ate a black d...</td>\n",
       "      <td>0</td>\n",
       "      <td>1</td>\n",
       "      <td>1</td>\n",
       "      <td>0.062288</td>\n",
       "      <td>1</td>\n",
       "      <td>0</td>\n",
       "    </tr>\n",
       "    <tr>\n",
       "      <td>1785</td>\n",
       "      <td>pontofrio</td>\n",
       "      <td>nao tenho uma posicao</td>\n",
       "      <td>0</td>\n",
       "      <td>1</td>\n",
       "      <td>1</td>\n",
       "      <td>0.254677</td>\n",
       "      <td>1</td>\n",
       "      <td>0</td>\n",
       "    </tr>\n",
       "    <tr>\n",
       "      <td>1818</td>\n",
       "      <td>pontofrio</td>\n",
       "      <td>bo tira foto junto pinguim</td>\n",
       "      <td>0</td>\n",
       "      <td>0</td>\n",
       "      <td>1</td>\n",
       "      <td>0.994090</td>\n",
       "      <td>0</td>\n",
       "      <td>1</td>\n",
       "    </tr>\n",
       "    <tr>\n",
       "      <td>...</td>\n",
       "      <td>...</td>\n",
       "      <td>...</td>\n",
       "      <td>...</td>\n",
       "      <td>...</td>\n",
       "      <td>...</td>\n",
       "      <td>...</td>\n",
       "      <td>...</td>\n",
       "      <td>...</td>\n",
       "    </tr>\n",
       "    <tr>\n",
       "      <td>121576</td>\n",
       "      <td>pontofrio</td>\n",
       "      <td>dim dim dim ta com nada esse pinguim ta com c...</td>\n",
       "      <td>0</td>\n",
       "      <td>1</td>\n",
       "      <td>1</td>\n",
       "      <td>0.219579</td>\n",
       "      <td>1</td>\n",
       "      <td>0</td>\n",
       "    </tr>\n",
       "    <tr>\n",
       "      <td>122288</td>\n",
       "      <td>pontofrio</td>\n",
       "      <td>que tudo pin se for mesmo me avisa que ja dei...</td>\n",
       "      <td>0</td>\n",
       "      <td>1</td>\n",
       "      <td>1</td>\n",
       "      <td>0.023606</td>\n",
       "      <td>1</td>\n",
       "      <td>0</td>\n",
       "    </tr>\n",
       "    <tr>\n",
       "      <td>130286</td>\n",
       "      <td>pontofrio</td>\n",
       "      <td>pin qual o segredo para tira uma ferias boa t...</td>\n",
       "      <td>0</td>\n",
       "      <td>1</td>\n",
       "      <td>1</td>\n",
       "      <td>0.053559</td>\n",
       "      <td>1</td>\n",
       "      <td>0</td>\n",
       "    </tr>\n",
       "    <tr>\n",
       "      <td>132318</td>\n",
       "      <td>pontofrio</td>\n",
       "      <td>quero promocao do paperwhite</td>\n",
       "      <td>1</td>\n",
       "      <td>1</td>\n",
       "      <td>1</td>\n",
       "      <td>0.432315</td>\n",
       "      <td>1</td>\n",
       "      <td>0</td>\n",
       "    </tr>\n",
       "    <tr>\n",
       "      <td>132327</td>\n",
       "      <td>pontofrio</td>\n",
       "      <td>na verdade preciso que o pessoal da amazon pe...</td>\n",
       "      <td>0</td>\n",
       "      <td>1</td>\n",
       "      <td>1</td>\n",
       "      <td>0.023693</td>\n",
       "      <td>1</td>\n",
       "      <td>0</td>\n",
       "    </tr>\n",
       "  </tbody>\n",
       "</table>\n",
       "<p>640 rows × 8 columns</p>\n",
       "</div>"
      ],
      "text/plain": [
       "       in_reply_to_screen_name  \\\n",
       "1646                 pontofrio   \n",
       "1765                 pontofrio   \n",
       "1775                 pontofrio   \n",
       "1785                 pontofrio   \n",
       "1818                 pontofrio   \n",
       "...                        ...   \n",
       "121576               pontofrio   \n",
       "122288               pontofrio   \n",
       "130286               pontofrio   \n",
       "132318               pontofrio   \n",
       "132327               pontofrio   \n",
       "\n",
       "                                                full_text  sentimento  \\\n",
       "1646           me ajuda meu pedido ainda nao foi enviado            0   \n",
       "1765        como voce ta escrevendo se voce e um pinguim            0   \n",
       "1775     sera que eu vou ter que esperar ate a black d...           0   \n",
       "1785                                nao tenho uma posicao           0   \n",
       "1818                          bo tira foto junto pinguim            0   \n",
       "...                                                   ...         ...   \n",
       "121576   dim dim dim ta com nada esse pinguim ta com c...           0   \n",
       "122288   que tudo pin se for mesmo me avisa que ja dei...           0   \n",
       "130286   pin qual o segredo para tira uma ferias boa t...           0   \n",
       "132318                      quero promocao do paperwhite            1   \n",
       "132327   na verdade preciso que o pessoal da amazon pe...           0   \n",
       "\n",
       "        sentimento_CNN  sentimento_RNN  pesos_RNN  sentimento_medio  predicao  \n",
       "1646                 1               1   0.218363                 1         0  \n",
       "1765                 1               1   0.109524                 1         0  \n",
       "1775                 1               1   0.062288                 1         0  \n",
       "1785                 1               1   0.254677                 1         0  \n",
       "1818                 0               1   0.994090                 0         1  \n",
       "...                ...             ...        ...               ...       ...  \n",
       "121576               1               1   0.219579                 1         0  \n",
       "122288               1               1   0.023606                 1         0  \n",
       "130286               1               1   0.053559                 1         0  \n",
       "132318               1               1   0.432315                 1         0  \n",
       "132327               1               1   0.023693                 1         0  \n",
       "\n",
       "[640 rows x 8 columns]"
      ]
     },
     "execution_count": 99,
     "metadata": {},
     "output_type": "execute_result"
    }
   ],
   "source": [
    "pontofrio[(pontofrio[\"predicao\"] != pontofrio[\"sentimento_medio\"])]"
   ]
  },
  {
   "cell_type": "markdown",
   "metadata": {},
   "source": [
    "A acurácia neste dataset de validação foi 88%, ao todo foram 640 erros em 5162 tweets analisados."
   ]
  },
  {
   "cell_type": "markdown",
   "metadata": {},
   "source": [
    "A primeira suspeita é quanto aos tweets inclinados a uma classificação neutra, para isso vamos verificar a média dos pesos nos acertos para comparar com a média dos pesos dos erros."
   ]
  },
  {
   "cell_type": "code",
   "execution_count": 100,
   "metadata": {},
   "outputs": [
    {
     "name": "stdout",
     "output_type": "stream",
     "text": [
      "Media :  0.6511529088020325\n",
      "Mediana :  0.9776984453201294\n"
     ]
    }
   ],
   "source": [
    "#pesos no dataset\n",
    "print('Media : ',pontofrio['pesos_RNN'].mean())\n",
    "print('Mediana : ',pontofrio['pesos_RNN'].median())"
   ]
  },
  {
   "cell_type": "code",
   "execution_count": 101,
   "metadata": {},
   "outputs": [
    {
     "name": "stdout",
     "output_type": "stream",
     "text": [
      "Media Positivo:  0.8688092827796936\n",
      "Media Negativo:  0.1476636528968811\n"
     ]
    }
   ],
   "source": [
    "print('Media Positivo: ',pontofrio['pesos_RNN'][(pontofrio[\"sentimento_medio\"] == 1)].mean())\n",
    "print('Media Negativo: ',pontofrio['pesos_RNN'][(pontofrio[\"sentimento_medio\"] == 0)].mean())"
   ]
  },
  {
   "cell_type": "code",
   "execution_count": 103,
   "metadata": {},
   "outputs": [
    {
     "name": "stdout",
     "output_type": "stream",
     "text": [
      "Media Verdadeiro Positivo:  0.9670150279998779\n",
      "Media Verdadeiro Negativo:  0.04696894809603691\n"
     ]
    }
   ],
   "source": [
    "print('Media Verdadeiro Positivo: ',pontofrio['pesos_RNN'][(pontofrio[\"predicao\"] == 1) \n",
    "                                        & (pontofrio[\"sentimento_medio\"] == 1)].mean())\n",
    "print('Media Verdadeiro Negativo: ',pontofrio['pesos_RNN'][(pontofrio[\"predicao\"] == 0) \n",
    "                                        & (pontofrio[\"sentimento_medio\"] == 0)].mean())"
   ]
  },
  {
   "cell_type": "code",
   "execution_count": 102,
   "metadata": {},
   "outputs": [
    {
     "name": "stdout",
     "output_type": "stream",
     "text": [
      "Media Falso Positivo:  0.8353217244148254\n",
      "Media Falso Negativo:  0.16444970667362213\n"
     ]
    }
   ],
   "source": [
    "print('Media Falso Positivo: ',pontofrio['pesos_RNN'][(pontofrio[\"predicao\"] == 1) \n",
    "                                        & (pontofrio[\"sentimento_medio\"] == 0)].mean())\n",
    "print('Media Falso Negativo: ',pontofrio['pesos_RNN'][(pontofrio[\"predicao\"] == 0) \n",
    "                                        & (pontofrio[\"sentimento_medio\"] == 1)].mean())"
   ]
  },
  {
   "cell_type": "code",
   "execution_count": 94,
   "metadata": {},
   "outputs": [
    {
     "name": "stdout",
     "output_type": "stream",
     "text": [
      "Total de Erros Negativos:  199\n",
      "Total de Erros Positivos:  441\n"
     ]
    }
   ],
   "source": [
    "#total de erros negativos\n",
    "print('Total de Erros Negativos: ', len(pontofrio[(pontofrio[\"predicao\"] != pontofrio[\"sentimento_medio\"]) \n",
    "                                              & (pontofrio[\"sentimento_medio\"] == 0)]))\n",
    "print('Total de Erros Positivos: ', len(pontofrio[(pontofrio[\"predicao\"] != pontofrio[\"sentimento_medio\"]) \n",
    "                                              & (pontofrio[\"sentimento_medio\"] == 1)]))"
   ]
  },
  {
   "cell_type": "markdown",
   "metadata": {},
   "source": [
    "Como é possivel verificar, a média dos pesos nos falsos positivos cai para 0,83 contra os verdadeiros positivos que é de quase 0.97, confirmando a suspeita dos comentarios neutros. Esse mesmo comportamento ocorre nos falsos negativos. "
   ]
  },
  {
   "cell_type": "markdown",
   "metadata": {},
   "source": [
    "Vamos listar alguns dos erros para avaliarmos individual, para avaliar outra hipotese, que seriam os erros de rotulagem."
   ]
  },
  {
   "cell_type": "code",
   "execution_count": 104,
   "metadata": {},
   "outputs": [
    {
     "data": {
      "text/plain": [
       "array([' me ajuda meu pedido ainda nao foi enviado ',\n",
       "       ' como voce ta escrevendo se voce e um pinguim ',\n",
       "       ' sera que eu vou ter que esperar ate a black de pra receber o pedido que fiz em ',\n",
       "       ' nao tenho uma posicao',\n",
       "       ' boa tarde gostaria de saber se meu pedido saiu para entrega pedido ',\n",
       "       ' boa tarde eu e a compramos uma maquina de lavar pedido no dia data de ',\n",
       "       ' gostaria de saber quando pagam os pontos da minha compra no ponto frio com parceria a livelo sao meses ja sem nenhuma solucao',\n",
       "       ' eu odeio sardinha mas farei esse sacrificio por voce ',\n",
       "       ' a mentira que foi tao rapido assim ansiosa pra chegar ja ',\n",
       "       ' aguardando a resposta do meu caso comprei um item a receber uma pontuacao que o site mesmo mostrava rec ',\n",
       "       ' boa noite mas eu ja fiz o pedido de troca to so aguardando virem buscar pra poder receber o novo ne',\n",
       "       ' obrigado pela atencao estou na rua agora acima enviei o protocolo do o atendimento que me encaminhou ',\n",
       "       ' o melhor jeito seria vcs entregarem o meu produto q eu pedi com retirada rapida e ja to a mais de sema ',\n",
       "       ' eu gosto de agilidade na resposta da analise de pagamento e nao de esperar horas pra saber se meu ped ',\n",
       "       ' eu to na opcao livre estou eu to todo trabalhado na liberdade ai como a vida liberta e ',\n",
       "       ' manda ai na humilda eh para uma comemoracao de k',\n",
       "       ' tem mt empresa humilde porem tem mta desumilde msm ',\n",
       "       ' nao conheco mas vou conhecer agora quero ver tudo o que da pra preparar numa a ',\n",
       "       ' herbert style essa indico especialmente para voce',\n",
       "       ' se esta em rota de entrega quer dizer que ta chegando ainda hoje ',\n",
       "       ' voce lembrou desse icone de sanduiche pedindo assim desse jeitinho quem sabe hein ',\n",
       "       ' eu cancelei pois a retirada rapida demora muito queria pro mesmo dia e nao esperar agora gostaria do ',\n",
       "       ' agora que vc me notou me da desconto numa impressora ',\n",
       "       ' umas panelas pin ou um fone chique a vida do jovem adulto ne ',\n",
       "       ' boa tarde a base box para colchao casal do pedido com entrega prevista pra ate hoje nao ',\n",
       "       ' ainda nao tenho um crush os anteriores foram descartados ',\n",
       "       ' bom dia finalmente chegou a encomenda mas as madeiras que compunham o estado vieram delas rachadas umidas e com mofo ',\n",
       "       ' descontinho ai pra nos cupons ',\n",
       "       ' estou novamente em contato com a atendente no whatsap referente a troca de uma televisao que comprei ',\n",
       "       ' sextou e estamos como ',\n",
       "       ' quero minha compra no dia marcado comprei pra receber na segunda entao cumpri com a obrigacao preciso com urgencia ',\n",
       "       ' que demora e essa pro pedido sair de pagamento aprovado ate agr nenhuma atualizacao mas no cartao voces cobraram rapidinho ne',\n",
       "       ' ta locao carai ce nem come arroz e feijao ',\n",
       "       ' feijao por baixo e coisa de quem nao tem que lavar o prato',\n",
       "       ' da pra voce acelerar meu pedido e encontra o meu endereco obrigado ',\n",
       "       ' de novo isso eu ja passei por essa etapa ja informei meus dados bancarios e recebi um email falando qu ',\n",
       "       ' ninguem melhor que esse ',\n",
       "       ' ponto frio eu fiz um poste explodir do lado da minha casa me ajuda por favor eu olhei pra ele e explodiu',\n",
       "       ' o que faco caso tenha um dia que eu nao esteja em casa para receber minha encomenda ',\n",
       "       ' tem xboxseriesx ',\n",
       "       ' ta ok mas eu so queria saber que informacao e essa que consta no site aguardando devolucao pergunte ',\n",
       "       ' so falta entregar no prazo ou dar explicacao de onde esta e ou porque nao cobra rastreio dos terceirizados ',\n",
       "       ' eu vou manter a compra so que eu preciso saber quando a cama vai chegar porque eu nao tenho disponibil ',\n",
       "       ' o pin agora eu vou precisar de ajuda pq minha encomenda nao chegou ',\n",
       "       ' senta um pouco pra fora de casa pra pegar um sol ',\n",
       "       ' estou falando serio o abacaxi tem triptofano calcio e magnesio substancias que ajudam no humor ',\n",
       "       ' ignoro e comeco a fingir que esta tudo bem ou vou dormir para fazer o dia passar mais rapido',\n",
       "       ' vim aqui registrar minha extrema insatisfacao com a compra de um celular na ponto frio que mancada heim ',\n",
       "       ' o pin vc viu a atualizacao de entrega da minha encomenda achei estranho e normal esse andamento ',\n",
       "       ' agradeco a prontidao mas essa mesma transportadora on time ja postou pelos correios meu receio e que e ',\n",
       "       ' desconheco tais informacoes com certeza existe algum erro no sistema de vcs ',\n",
       "       ' codigo ponto frio pedido intershop me ajuda ai se eu receber saco de areia ',\n",
       "       ' se o pinguim vier junto com a bicicleta eu compro agora ',\n",
       "       ' pedimos pra que vcs retirem do catalogo a charlata kerri rivera ',\n",
       "       ' valor ',\n",
       "       ' opa ta na mao nossa obrigado por responderem eu realmente nao quero chegar ao ponto de ',\n",
       "       ' fiz compra de tablet para presentear em do parceiro de vcs guimaraes work shoping em e ',\n",
       "       ' uma cadeira dessa e questao de necessidade pra quem e gamer mas conto ta mto fora da realidade do p ',\n",
       "       ' houve um atraso mas por quanto tempo quando sera o recebimento para que eu possa optar entre aguardar ou cancelar ',\n",
       "       ' so falta voce me dar um desconto para eu comprar meu notebok novo ',\n",
       "       ' graus e praia com raspadinha de groselha e porcao de camarao',\n",
       "       ' sabe o que me esquenta pin um cupom de desconto ',\n",
       "       ' me deixa me deixa que hoje eu to de bobeira ', ' cade o ps ',\n",
       "       ' custa nada me doar uma ne ',\n",
       "       ' sim mas a minha quebrou estou esperando entrar uma mais enconta',\n",
       "       ' quero cupom de desconto isso sim',\n",
       "       ' queria ter uma airfryer sera que o nao me ajudaria com aquele descontao ',\n",
       "       ' o codigo de rastreio permanece o mesmo ',\n",
       "       ' nao vai resistir ne pin ',\n",
       "       ' comprei alguns itens em novembro e dezembro e a pontuacao do tudo azul nao entrou na minha conta ',\n",
       "       ' so basta vc me ligar ah que eu vou correndo te encontrar ',\n",
       "       ' mas se todo mundo se atirar da ponte vc tbm vai ',\n",
       "       ' mds deve ser primo do olaf so pode',\n",
       "       ' sabia q tinha pata sua nesse esquema ',\n",
       "       ' esperando uma resposta ',\n",
       "       ' eu vou voltar com eles talvez eu deixe os pins tb ',\n",
       "       ' prazo de entrega dia ate agora nada', ' eliminar a jaque',\n",
       "       ' obrigada o numero do pedido e ',\n",
       "       ' isso os que estao atrasadissimos sao os controles',\n",
       "       ' o numero e ',\n",
       "       ' tem nada de errado nao eh so eu sendo impaciente mesmo k fica tranquilo',\n",
       "       ' pin foi breaking bad mas queria assistir de novo numa tv nova boa pra games tambem me arruma um desc ',\n",
       "       ' breaking bad',\n",
       "       ' ja q vcs mevenderam umacoisa quenaotinha pra mentregar entao ejusto q vcs medevolvam omeudinheiroemdob ',\n",
       "       ' fiz compras no site de voces em agosto junto com a livelo e estou desde entao esperando a pontuacao ten ',\n",
       "       ' que terei muitas lutas mas que minha vitoria sera ainda maior ',\n",
       "       ' motivada ',\n",
       "       ' hahaha mas e por isso que eu to motivada motivada a finalizar o expediente e curtir o fds ',\n",
       "       ' so esta disponivel para mim o valor de r ', ' viu a dm ',\n",
       "       ' tem cupom disponivel pra tv ', ' recebendo um pix ',\n",
       "       ' mas ja foi descontado no banco ja ',\n",
       "       ' hoje e dia de voces aprovarem minha compra no site que estou desde domingo tentando e ontem tive que re ',\n",
       "       ' mentira eu sempre falei que voce era meu pinguim favorito e olha que eu sou fa de pingu nos er ',\n",
       "       ' entao boa noite eu fiz o cartao ponto frio com voces somente para fazer uma compra voces canc ',\n",
       "       ' batata frita inclusive quero',\n",
       "       ' o pedido eu vou surtar aqui ai meu coracao vcs me responderam ksksks',\n",
       "       ' ninguem no brasil tem lareira pinguim conte a verdade de imediato',\n",
       "       ' gostaria de ter o meu pedido entregue o mais rapido possivel a mercadoria esta na minha cidade ha di ',\n",
       "       ' ja eu comprei uma chaleira eletrica preta bafo to me sentindo adoravel nunca mais precisarei gastar gas para tomar meu cha ',\n",
       "       ' bom dia alguma previsao de quando o acer nitro an vai entrar em promocao ',\n",
       "       ' amigo manda cupom que eu me jogo e agora',\n",
       "       ' manda aquele descontao no smartphone pra eu comprar hoje ',\n",
       "       ' ai ta tirando falando de sao ne ',\n",
       "       ' a transportadora que voces contrataram pra me entregar uma maquina de lavar resolveu mentir que tentou e ',\n",
       "       ' na verdade eu so nao gosto de mentira ninguem veio aqui trazer nada se a transportadora fingiu que ten ',\n",
       "       ' oie pin tudo bem consegue dar uma descontinho nesse notebok ',\n",
       "       ' da um cuponzin de desconto pra eu comprar um smartwatch da samsung vai nunca te pedi nada ',\n",
       "       ' quero comprar um playstation me arruma um por favor',\n",
       "       ' a obrigada pela atencao o numero e na transportadora esta falando que chega ate dia e ',\n",
       "       ' hoje e sexta ',\n",
       "       ' mas hoje e sexta amor ta confuser no calendario ai ',\n",
       "       ' ta voltando no tempo pin nao faz isso com a gente nao haha ainda mais numa sexta ',\n",
       "       ' me manda cupom de primeira compra',\n",
       "       ' caralho meu crush me notou aovivasso ',\n",
       "       ' esta bem obrigada por retornar se nao chegar ate a nova data procuro voces de novo ',\n",
       "       ' podia aprovar logo minha compra ne queria buscar hj ainda',\n",
       "       ' minha filha o pedido esta retido no posto fiscal e eu quero saber o porque ele ta retido seg em anexo a ',\n",
       "       ' pode ser uma pulseira vc n tem dedo bro',\n",
       "       ' nu hahahaha justissimo deu de t por hj ',\n",
       "       ' quero um aspirador de po vertical wap turbo mob em ',\n",
       "       ' tem que ser muito rapido meu irmao vai levar na loja daqui a pouco pq ele viaja hoje a traba ',\n",
       "       ' pin voce ainda da uns cupons de desconto aqui no twiter pra gente ',\n",
       "       ' hum efeito de ontem ainda pera pinguim mente nao tenho registro disso aqui na hiatoria mas ',\n",
       "       ' convidar o estagiario do ponto frio pra jogar tormentinha em live no ',\n",
       "       ' ja to imaginando o pin como npc ', ' e infinito vtmnc kjk',\n",
       "       ' boa tarde sr robo ta tudo certo com o pedido eu so qria q ele chegasse logo',\n",
       "       ' boa tarde numero do pedido ',\n",
       "       ' trocar o ventilador que voces entregaram errado so preciso de um codigo pra mandar pelos ',\n",
       "       ' talvez voce esteja ',\n",
       "       ' so queria que nao desligassem na minha cara ',\n",
       "       ' me arranja um cupom de desconto ai',\n",
       "       ' renvio com prioridade por favor ',\n",
       "       ' vai tomar no seu cu ponto frio',\n",
       "       ' domingao sem disposicao jamais rsrs',\n",
       "       ' meu sonho ter um desses invejinha bate', ' psycho post malone',\n",
       "       ' um cupom desse no iphone comprava na hora rs',\n",
       "       ' kakakakakakak so nao quero perder um dente k',\n",
       "       ' que nota que n saiu', ' forasarah', ' forasarah',\n",
       "       ' o cupom pra eu comprar um celular novo ',\n",
       "       ' ponto frio me da um emprego por favor nunca te pedi nada ',\n",
       "       ' envie uma geladeira duas portas e digo se esperava ou nao',\n",
       "       ' cafezinho ',\n",
       "       ' ah eu aceito animada para nosso primeiro role depois da vacina',\n",
       "       ' tente vai ajudar bastante sempre da certo ',\n",
       "       ' obrigado por resolverem essa situacao ',\n",
       "       ' cal me by your name lil nas x',\n",
       "       ' eu ri tsnto e depois percebi que eu tbm a',\n",
       "       ' manda um celular pra mim adm pra eu ver se vc ainda e adm msm',\n",
       "       ' hahahaha ta bom que eu acredito se tu fui demitido eu fui admitida com a sucessora do pinguim k eita de abril que comecou na madrugada ',\n",
       "       ' fez o cara ser demitido parabens',\n",
       "       ' eu gostava tanto de voce pinguino',\n",
       "       ' pegadinha de de abril rsrs',\n",
       "       ' que bom que demitiram esse menor era mo comedia',\n",
       "       ' eu depois que percebi que e de abril ',\n",
       "       ' taca a mae pra ver se quica', ' comenta ',\n",
       "       ' eita e nao e que demitiram o pinguim mesmo ',\n",
       "       ' como assim o pf nao e um pinguim ',\n",
       "       ' quero ver me dar um notebok gamer ', ' que dia e hoje ',\n",
       "       ' ai ja e putaria',\n",
       "       ' primeiro de abril o que nao e primeiro de abril sao as promocoes e cupons de desconto qie divulgamos aqui no nosso perfil so paga caro quem nao nos segue',\n",
       "       ' quero o pinguim de volta era o mais original espero que seja abril',\n",
       "       ' olha isso que satisfacao',\n",
       "       ' preferia que tivessem feito um demi humano pinguim mantinha a marca o nome e ganhava uma interacao virtual',\n",
       "       ' oxi me da uma dica de notebok pra comprar no site pf pro meu primo q ama jogossss',\n",
       "       ' faz um perfil so do pinguim e vamos ver qual fica com mais seguidores o penguim no caso e ai o com mais seguidores em mes fica com o cargo de mascote',\n",
       "       ' mas voc n o usa terno paulo ',\n",
       "       ' sai fora cara esse lugar do pin', ' pf vamo almocar um pf ',\n",
       "       ' fica com deus pinguco voce vai estar para sempre nos nossos coracoes ',\n",
       "       ' pinguinho pra onde vc for eu vou gt gt gt gt gt gt gt gt ',\n",
       "       ' olha la mano', ' wtf mano o cara e uma animacao cgi',\n",
       "       ' eu talvez nao chegasse ao ponto de demitir mas com certeza daria boa aula sobre como nao brincar com a marca de uma empresa sem ter discutido antes com o chefe inovar e otimo mas tem processo pra isso boa sorte pf ',\n",
       "       ' kjk pqp', ' ah pronto hahahaha seja bem vindo pf xd',\n",
       "       ' n o aprovei a mudan a ',\n",
       "       ' nossa ponto frio trocaram um pinguim fofinho por um nerd ruivo com cara de esquerdomacho pra isso pintassem o cabelo do fiuk entao ',\n",
       "       ' quando vao comecar a patrocinar o goias o time precisa de um master ',\n",
       "       ' o pinguin era melhor ', ' me contrata ponto frio',\n",
       "       ' primeiro de abril to sabendo',\n",
       "       ' nao se tem um dia de paz sem chance nao me irrita se nao devolver meu pin ate amanha assumam as consequencias terraqueos ',\n",
       "       ' adeus pin bem vindo novo estagiario tem cupom ',\n",
       "       ' ponto frio faz chacota com a demissao e acha que isso e humor ',\n",
       "       ' primeiro de abril',\n",
       "       ' apartir de hoje so compro no pela demissao do pinguin',\n",
       "       ' cheiro uma carreira de cocaina pf ',\n",
       "       ' o pinguim deu a vida dele por anos para a empresa e simplesmente foi trocado ',\n",
       "       ' pq o nao me contratou dona de casa sabe entende melhor desses assuntos ',\n",
       "       ' o de abril',\n",
       "       ' que mane pf eu li pf e pensei em policia federal malucos',\n",
       "       ' malandro', ' tu parece aquele vilao de magamente',\n",
       "       ' eu perguntei sua opiniao nao fato ',\n",
       "       ' diga a eles que eu voltarei ', ' oq eh pf putaria frenetica ',\n",
       "       ' entao queria saber o ira posicionar sobre esse sumico repentino do pinguim ainda temos a questao trabalhista para resolver pois foram anos de trabalho que o pinguim dedicou ao ponto frio pfresponde',\n",
       "       ' aposto que e um chatao esse dai', ' ve nao existe',\n",
       "       ' fura olho traira puxa tapete sacaneou o pinguim os animais nao tem paz nesse pais ',\n",
       "       ' alem de tudo e audacioso saudades pin que respeitava seus seguidores',\n",
       "       ' ai ai esse ponto frio tao engracado com piadinhas de primeiro de abril',\n",
       "       ' sai fora pf queremos e o ',\n",
       "       ' o pin me ajudou muito quando eu precisei montar a minha casa antiga nao gostei dessa demissao nao espero que ele esteja bem pfresponde ',\n",
       "       ' patifaria esse paulo farias',\n",
       "       ' espero que seja trolagem de de abril pq preferia mil vezes o pinguim',\n",
       "       ' cade o pinguim pf responde ai',\n",
       "       ' pode resolver o meu problema ta la na dm ',\n",
       "       ' que seja primeiro de abril',\n",
       "       ' me diga que voce e um animago e vai virar pinguim de vez em quando ',\n",
       "       ' vai tomar no cu po k', ' slk mlk e abusado em campo ',\n",
       "       ' mas pq o pinguim n pode ser o influencer e pq um gek ruivo ',\n",
       "       ' de abril e o momento perfeito pra arriscar em marketing se der errado foi mentira ',\n",
       "       ' fodasse', ' credo preferia o pinguim',\n",
       "       ' mandaram embora o pinguim pra colocar um ser grosseiro e homonimo desse cara aqui ',\n",
       "       ' tenho ate medo de cupons no dia de abril mas aceito',\n",
       "       ' eae policia federal',\n",
       "       ' coitado k desejo sucesso nessa nova jornada pfresponde e e claro parabens pela iniciativa de colocar um personagem humano ',\n",
       "       ' o batedor de robos',\n",
       "       ' ja pode trazer o pin de volta cacar copiar tendencia nenhuma',\n",
       "       ' mermao cade o pinguim virou festa agora nao vai sobrar nem um mascote bom nesse mundo',\n",
       "       ' eita achei que era algum merchandising do quando vi pf achei que ia ter uma marmita caprichada com promocao ai me deparo com uma copia do daniel b ruivo mas ja que e pra perguntar entao diz ai pf comprando kg de carne pra fazer um churras da pra comer ',\n",
       "       ' o publico da ponto frio e o homem branco classe media alta do sudeste se sim ta tudo ok caso seja mais amplo traz o pinguim de volta que esse faria limer cloroquiner paulistano ai nao ta com nada ',\n",
       "       ' pq nao um cara negro em pf ',\n",
       "       ' pin ja pensou em fazer piza com essas suas asas amplas acho que vc ia abrir a massa facinho ',\n",
       "       ' boneco retardado', ' gayzao esse pf seloko',\n",
       "       ' aposenta o ping im bonzao sacanagem ',\n",
       "       ' ai paulinho voce pede pra superar o pin mas que quadro e esse na sua parede pfresponde',\n",
       "       ' pf nao ponto frio me lembra a policia federal ai quebra nois ',\n",
       "       ' o pinguin foi demitido ', ' primeiro de abril ne',\n",
       "       ' verdade que a pf policial federal ta investigando o sumico do penguin tu tem cara de que bate em pinguins',\n",
       "       ' pf significa panaca folgado',\n",
       "       ' pf que eu conheco e uma lagoa de feijao uma montanha de arroz',\n",
       "       ' rapaz vc nao tinha morrido junto com sua namorada suzan aqui em maceio na casa de praia de guaxuma em ',\n",
       "       ' fora paulo ',\n",
       "       ' quando voce vai cair no soco com o baianinho da ',\n",
       "       ' quando voce vai cair no soco com o baianinho da pfresponde',\n",
       "       ' pf vc ja fez ',\n",
       "       ' pfresponde ja ouviu umas musicas do novo cantor de mpb luckhaos ',\n",
       "       ' pfresponde o que vc fez com o meu primo ', ' essa foi foda jk',\n",
       "       ' nao eles mataram o pin', ' bicho grosso credo',\n",
       "       ' qual era o seu apelido na lista da odebrecht pf ',\n",
       "       ' me ajudem a comprar alimento se voces poderem ajudar com ou reais eu agradeco pix ',\n",
       "       ' me ajuda ai namoral', ' que povo chato ksksks eu ri muito',\n",
       "       ' eu pedi um guarda roupinha mas eu to tao confusa sera que um de voces poderiam me ajudar a montarr hihi nya ',\n",
       "       ' eu quero o pinguin de volta seu corno',\n",
       "       ' tmnc kakakakakakakakakakakakakmamakakakakakak',\n",
       "       ' eu disse pf nao e policia federal ',\n",
       "       ' nao sei pq pf mas vc me lembra mto uma salsicha', ' de abril ne',\n",
       "       ' falou pf eu penso nisso daqui ',\n",
       "       ' o pinguim era um dos poucos bons mascotes de loja que tinha e acabou tambem',\n",
       "       ' o meu sonho era saber se pinguin toma cafe e esse sonho foi realizado',\n",
       "       ' que coisa bizarra problematizaram ate o pinguim ',\n",
       "       ' para mano e primeiro de abril ne ', ' mano pq tnc',\n",
       "       ' esse impostor ta passando dos limites ja',\n",
       "       ' o pinguim era fofo mas nao precisamos de fofura para atrair clientes precisamos de punho de ferro precisamos de paulo farias ',\n",
       "       ' nossa mano ja nasceu coxinha rs ',\n",
       "       ' so vou te aceitar pq tu e ruivo ',\n",
       "       ' ai gente parem de ser mal amados levem na esportiva amanha o pinguim ta de volta enquanto isso vou rir do pf dando fora nesse povo chato hahaha',\n",
       "       ' krl era de um atendente grosso q a gente tava precisando',\n",
       "       ' achei que era policia federal', ' chocada', ' rip pf',\n",
       "       ' que chato',\n",
       "       ' gilberto caio fiuk big brother juliete thais rodolfo camila sarah vih boninho b bolsonaroday she is a girl from rio jacira tulio gadelha vai trabalhar filmoutiscoming b rodolfo merece respeito de olivia diadamentira os vocais carrefour ',\n",
       "       ' policia federal responde ',\n",
       "       ' oi pessoal o maior sonho da minha vida e passar no esa e fazer parte do exercito do brasil mas infelizmente o que eu tinha juntado para pagar meu cursinho acabou quem puder me ajudar com real que seja segue meu pix ',\n",
       "       ' que isso mano k patada',\n",
       "       ' quem fala o que quer escura o que nao quer pf e prato feito e eu amei ',\n",
       "       ' queria falar aqui que por causa da ponto frio meu tio foi preso bando de pnc ',\n",
       "       ' quem puder usar meu c digo no kwai e esse abaixo e quem usar da um favzinho por favor vc pode ganhar dinheiro la tambem b juliete gilberto camila joao arthur carla sarah bolsonaro lula ditadura golpe thais tube tiago laifert boninho',\n",
       "       ' acho que e coisa de de abril espero que seja diz que e por favor ',\n",
       "       ' paulo voce e casado ',\n",
       "       ' acho segregador deixar de usar o pinguim para usar um influencer virtual fenotipicamente branco do sexo masculino ',\n",
       "       ' achei assustador por algum motivo a',\n",
       "       ' cade o pingu ponto frio n o ponto hipster',\n",
       "       ' oi tudo bem to com uma lojinha lgbtq vendo minhas artes tambem la pode dar rt por favor se te interessar tem varios produtos com frete de apenas reais meu site obrigada ',\n",
       "       ' e ai paulo o que voce farias mas nao fez ',\n",
       "       ' ponto frio voce esta morto para mim',\n",
       "       ' pf cade o pinguim cade o pinguil',\n",
       "       ' o shade do pin toda marca quer ter aves tao galantes e comunicativas como a gente pin da vontade ne ',\n",
       "       ' meo e essa indireta ai foi pra quem ',\n",
       "       ' influencer modinha e o cb da ',\n",
       "       ' isso so pode ser mentira de primeiro de abril a ponto frio sem o pinguim nao e nada ',\n",
       "       ' entre agora para o picpay ao criar sua conta ganhe r reais na hora da pra usar no ifod netflix recarga de celular gogle play uber e muito mais codigo dlz ',\n",
       "       ' vai toma no cu pinguim do ponto frio eu te odeio eu te odeio muito',\n",
       "       ' nossa tava tiltado ja imagina fazer que nem foi com o baianinho',\n",
       "       ' gilberto caio fiuk big brother juliete thais rodolfo camila sarah vih boninho b bolsonaroday she is a girl from rio jacira tulio gadelha vai trabalhar filmoutiscoming b rodolfo merece respeito de olivia diadamentira os vocais carrefour ',\n",
       "       ' eu peguei essa indireta porque choras cb seu pilantra ',\n",
       "       ' pin no onlyfans quando ',\n",
       "       ' pf claramente inspirado na mara da amaro ',\n",
       "       ' me deixou triste a toa agora fiquei triste pelo paulo faria o que vai ser feito dele ',\n",
       "       ' tao aceitando curriculos ', ' mais um pra vc ter medo',\n",
       "       ' oi sera que voce pode entrar por esse link e fazer o que se pede por favor eu preciso muito ',\n",
       "       ' desculpa lindo foi uma fase esquisita',\n",
       "       ' depois de muita insistencia do mano igron anunciamos nesta quinta de abril as a recontratacao do mano roger ',\n",
       "       ' qr coisa me da un tapawn',\n",
       "       ' esse ps vai ficar disponivel de novo quando ',\n",
       "       ' ai pinguim vai toma no seu cu entao beleza',\n",
       "       ' eae pin foi demitido ',\n",
       "       ' e ponto frio que achou engracado criar o macho toxico virtual louco pego minha magalu e vou embora ',\n",
       "       ' bem vindo de volta toma aqui um mimo ',\n",
       "       ' pin me ajuda comprei um presente e o prazo de entrega era ontem ate agora nada da entrega me ajuda por favor ',\n",
       "       ' magalu ta entregando mais rapido ',\n",
       "       ' eu jurei que nunca mais ia te ver ', ' analisa cada pixel',\n",
       "       ' jovens voces me mandaram um codigo de retorno que venceria em dias mas ele venceu em dez como faco ',\n",
       "       ' so queria ser influencer pra fechar parceria ', ' swet dreams',\n",
       "       ' jamais vcs sao unicos na minha vida muack ',\n",
       "       ' tem um chat pra falar com algum atendente ',\n",
       "       ' aq nem graus faz em dia mt frio faz ',\n",
       "       ' eu acho que a logo de voces ta muito parecida com a editora penguim algum designer vai ser demitido',\n",
       "       ' nem sei mane', ' jogar osu ', ' dynamite old', ' uma obra prima',\n",
       "       ' vanila ice ice ice baby',\n",
       "       ' swiming pols kendrick lamar confia meu mano ',\n",
       "       ' agradece claudia leite ft natiruts rodou claudia leite ft wesley safadao desiste n o wanessa camargo nosso som wanessa camargo inquebr vel wanessa camargo vou lembrar wanessa camargo sorte padre fabio de melo ft victor cupertino',\n",
       "       ' esperando a resposta',\n",
       "       ' oloko fiquei sabendo q a metais do baixote e a ayla corp aceitam parcerias para serem representantes de lojas de eletrodomesticos em arton ',\n",
       "       ' role pin game um jogo de interpretacao de pinguins',\n",
       "       ' ae pinguim oque eu tenho q fazer pra ganhar uma caneca dessas ',\n",
       "       ' da pra fazer a coreografia sozinho tambem esse nao e o problema k ',\n",
       "       ' nf enviada no dm',\n",
       "       ' caraio mano o pin conhece a lore toda seguir depois dessa e obrigatorio',\n",
       "       ' ahahahaha', ' avisa que e ele', ' ele o maior',\n",
       "       ' vcs s o os maiores o gil gigante ',\n",
       "       ' have a nice day im in ned of some folow up please help me ',\n",
       "       ' completamente vigorizada pi ', ' quero promo ', ' sigo na cama ',\n",
       "       ' gente ponto frio nao e confiavel nao comprem nunca no seu site ',\n",
       "       ' esperando voces me ligarem novamente para aprovarem meu pagto',\n",
       "       ' bom dia lindo sonhei que vc me mandava um pix ',\n",
       "       ' fiz uns ajustes na sua ui pra refletir melhor o que ta rolando ',\n",
       "       ' comenta ', ' brasil ', ' a sera que vem ai ', ' ai brasil',\n",
       "       ' que tal essa aqui ', ' lava e seca com inteligencia artificial ',\n",
       "       ' lava e seca com inteligencia artificial',\n",
       "       ' estamos vigoradasssssss ', ' que tal essa ', ' vigorizada ',\n",
       "       ' muito vigorizada ',\n",
       "       ' as vendas de voces irao triplicar relaxem k o vigorosos vao zerar seu estoque',\n",
       "       ' vem aqui vigorar adm ',\n",
       "       ' acho que qualquer uma que vcs escolherem vai ser de bom grado eles agradecem e nos tambem valeu ',\n",
       "       ' e como merece ponto faz acontecer', ' acordei querendo vigorar',\n",
       "       ' cheios de vigor ', ' maior que carreiras', ' que tal essa aqui ',\n",
       "       ' puro regozijo todo mundo vigorizado em nome de jesus ',\n",
       "       ' tome muito amor ', ' oq custa mandar reais no pix ',\n",
       "       ' vigorizada ',\n",
       "       ' o pinguim ta a ponto de virar o mascote oficial da torcida avisa ',\n",
       "       ' ai ela merece muito imagina a emocao dela muito linda essa atitude voces sao d ',\n",
       "       ' eu nasci do vigor sou cria da cachorrada ', ' vigorizada ',\n",
       "       ' old que sim ne pinguimzinho manda esse mimo pra mainha a gente nunca te pediu nada ',\n",
       "       ' completamente vigorada',\n",
       "       ' vcs bem que podiam vigorar mais ainda descolando uma lava e seca da pro ele queria ganhar em uma acao da mas foi outro participante quem ganhou ',\n",
       "       ' mesmo com o brasil lascado consigo me vigorar no site da os precos e as promocoes sao massa de mais nao da pra ser basculho e perde ne nao pinguim ',\n",
       "       ' manda e a gente diz se esperava ou nao certeza q ela vai amar',\n",
       "       ' manda uma lava e seca pra mae do gil e a gente diz se esperava ou nao',\n",
       "       ' so treinar simbora ', ' vcs fazem tudo',\n",
       "       ' vigorizada como sempre',\n",
       "       ' meu deuss filma a reacao dela hahahaha', ' vigorizada',\n",
       "       ' oxi lava e seca vai amar manda no tchaki tchaki',\n",
       "       ' ja amava o ponto frio agora entao meu coracao nao aguenta so esperando meu marido me dar meu presentinho de dia das maes hahahah q certamente vai ser a minha tv q ele vai comprar no ponto frio ja vou mostrar essa publi p ver se ele saca a indireta e da a secadora tb ',\n",
       "       ' hoje e dia de vigorar',\n",
       "       ' to assim esperando do dia das maes pra meu marido me dar minha lava e seca ou minha tv hahahahaha ele vai vigorar em nome de jesus ',\n",
       "       ' eu te garanto q so estou esperando o dia das maes pra meu marido me dar a minha lava e seca ja vou ate mostrar essa publi p ele vai que cola hahahahaha acho q vai colar sim ate pq eu comprei gilete pra ele hahaha tem q ser uma troca de valor ne hahaha',\n",
       "       ' puro vigor por aqui tbm',\n",
       "       ' aproveita manda uma geladeira vcs vao vigorar ',\n",
       "       ' essas publi vao influenciar meu marido a me dar meu presentinho de dia das maes hahahahaha adorei meu marido vai vigorar em nome de jesus hahahahah vem minha lava e seca e minha tv agora vem hahahaha',\n",
       "       ' merece demaissss',\n",
       "       ' ja comecou a ensaiar os passinhos de bora bora be ',\n",
       "       ' completamente vigorada ',\n",
       "       ' ja quero o pinguim de mascote da torcida ',\n",
       "       ' estamos rogozijados ',\n",
       "       ' coiso lindo ja decidi onde comprar minha geladeira e no meu ',\n",
       "       ' elton john crocodile rock ', ' ai brasil ',\n",
       "       ' estamos vigorando pos paredao ',\n",
       "       ' n o creio j t com a roupa de usar cupom',\n",
       "       ' ja quero o meu como fazer no final da compra coloca o cupom ',\n",
       "       ' isso me lembra agiotismo',\n",
       "       ' meu deus agora vou comprar minha tv e quem sabe minha maquina de lavar ja vou usar meu cupom pindovigor ',\n",
       "       ' hum um fogao bocas pra ela fazer os quitutes dela ',\n",
       "       ' robo aspirador ', ' vcs fazem tudo ',\n",
       "       ' chupa americanas o pinguim e o melhor do brasil',\n",
       "       ' por essas e outras que sempre fui fa desse pinguim vcs sao muito necessarios literalmente ',\n",
       "       ' por isso vende mais sao os melhores',\n",
       "       ' oi pinguim acordei tarde para o bom dia mas um boa tarde serve hihi',\n",
       "       ' chatuba de mesquita maquina de sexo', ' meo',\n",
       "       ' lindo pena q n entregam o produto q e comprado ',\n",
       "       ' nojento demais sardinha e peixe de pobre nao sei quem fede mais a sardinha ou quem a come ',\n",
       "       ' seu pinguin demorando de analisar o pagamento da minha tv o cartao eh legalizado criancassssss',\n",
       "       ' pin voce e muito chique cara', ' me manda um pix ',\n",
       "       ' eu assistiria demais esse reality ',\n",
       "       ' vem ai ou nao vem ahahaha',\n",
       "       ' pontia apenas se o ponto phrio me der um ipad de presente ',\n",
       "       ' chuva a eu e minha brother se pudesse para de chover continua ai haha ',\n",
       "       ' dim dim dim ta com nada esse pinguim ta com ciume ta com ciume pega o problema e assume o parece um banana que tem ai no b nao resolve nada ',\n",
       "       ' que tudo pin se for mesmo me avisa que ja deixei a mala prontinha caso for mesmo a praia saudades de mergulhar ',\n",
       "       ' pin qual o segredo para tira uma ferias boa toda vez que penso em tira ferias nunca da ',\n",
       "       ' quero promocao do paperwhite ',\n",
       "       ' na verdade preciso que o pessoal da amazon pelo menos de um prazo de quando vao mandar o kindle para troca'],\n",
       "      dtype=object)"
      ]
     },
     "execution_count": 104,
     "metadata": {},
     "output_type": "execute_result"
    }
   ],
   "source": [
    "# modelo previu negativo, mas era positivo\n",
    "pontofrio['full_text'][(pontofrio[\"predicao\"] != pontofrio[\"sentimento_medio\"]) \n",
    "                       & (pontofrio[\"sentimento_medio\"] == 1)].values"
   ]
  },
  {
   "cell_type": "code",
   "execution_count": 105,
   "metadata": {},
   "outputs": [
    {
     "data": {
      "text/plain": [
       "array([' bo tira foto junto pinguim ',\n",
       "       ' olha so se eu estou dando autorizacao pra outra pessoa buscar ela pode levar meus documentos digitaliz ',\n",
       "       ' eis o pedido comprei no hotsite da promo tudo azul que dava pontos por real pagando com cartao de cr ',\n",
       "       ' segue pix dce b eaeacec',\n",
       "       ' onde esta meus pontos tudo azul referente ao pedido na promocao abaixo ate hoje nada ',\n",
       "       ' da uma olhada nessa reclamacao contra no ',\n",
       "       ' alguma previsao de playstation nas lojas fisicas ',\n",
       "       ' air fryer e assistente virtual pra lembrar de nao queimar a batata',\n",
       "       ' oq uma coisa tem a ve com a outra ',\n",
       "       ' com a vitoria do meu inter ',\n",
       "       ' este e o certo o outro era do rastreio desculpe ',\n",
       "       ' uma piscina ai queria um cupom ',\n",
       "       ' de mas quando se e algo do bem sempre vale ler coisas boas nunca tem prazo de validade ',\n",
       "       ' e o prejuizo fica com quem ',\n",
       "       ' isto nao seria caso de policia ministerio publico ou algum orgao competen ',\n",
       "       ' pinguim eu fiz nossa foto quer ver ',\n",
       "       ' eu espero receber meu celular que ta atrasado a uma semana',\n",
       "       ' comprei uma lava e seca da em uma loja fisica foi sugerido a instalacao por um tecnico c ',\n",
       "       ' unidade suporte cabideiro u aberto plastico cz xm',\n",
       "       ' cara vc e um pinguim saco isso e ',\n",
       "       ' o meu humor sera melhor se me entregarem o produto que comprei em de setembro de ou me devolvere ',\n",
       "       ' da uma olhada nessa reclamacao contra no ',\n",
       "       ' se esconde pinguim vai q ela resolve te levar',\n",
       "       ' mds estagi rio peraik', ' eu quero que resolvam meu problema',\n",
       "       ' tem como realizar a compra no site e ir buscar pessoalmente em loja ',\n",
       "       ' processar a ponto frio se nao me der um retorno sobre meu pedido',\n",
       "       ' eu te odeio pinguim',\n",
       "       ' pegar uma foca me ajuda tem um bote ou isca p foca ',\n",
       "       ' vai devagar pin rodou tudo aqui ',\n",
       "       ' voces me deram um vale compras de reais porque ja e a segunda vez que eu sou obrigado a cancelar esse pedido ',\n",
       "       ' oie bom dia n ', ' bacharelado em historia area de pesquisa ',\n",
       "       ' idem pinguim aguardo resposta', ' compre agr pf',\n",
       "       ' o lacre da caixa do celular que comprei veio violada com uma etiqueta por cima o pacote entregue estava ',\n",
       "       ' dia do pi x na minha conta me d um iphone pin ',\n",
       "       ' absurdo o primeiro prazo foi dia marco depois passou para ',\n",
       "       ' estou com um problema consegui falar com o fabricante e ela falaram que voces precisam abrir a assisten ',\n",
       "       ' acordei querendo provar um bife de pinguim',\n",
       "       ' na verdade nao so queria que a transportadora de vcs fosse melhorzinha minha compra ficou parada des ',\n",
       "       ' ce e um pinguim mano pra que cachecol ', ' slk mt drip ein ',\n",
       "       ' teje preso ',\n",
       "       ' mais um dia aguardando minha entrega compra feita em nao comprem aqui no pontofrio nao entrega ',\n",
       "       ' pinguim meu cachorro aq pediu o link desses produtinhos',\n",
       "       ' vamo pra antartida',\n",
       "       ' cheia de disposicao pra correr atras dos meus direitos de consumidora resolve ai prazo de entrega ja passou e nada de entrega ',\n",
       "       ' e um colchao', ' se joga na fogueira',\n",
       "       ' hahahahahahahahaha por essa eu nao esperava',\n",
       "       ' o cara e um pinguim e ta com frio k mo fria',\n",
       "       ' sou um pinguim que sente frio na chuva do brasil brincadeiras a parte eu so quer enfiar um cano no meu cu ',\n",
       "       ' me descola um cupom de desconto ai ',\n",
       "       ' hj sai desconto de em eletrodomesticos ', ' vc vai morrer cara',\n",
       "       ' pinguim tu pega um bronzeado quando ta calor ',\n",
       "       ' vcs conseguem entregar ate amanha rs',\n",
       "       ' verdade foi me prometido o rembolso ', ' voce e um pinguim mano',\n",
       "       ' q porra e essa admiro ', ' ja ia vir aqui pedir o emprego ',\n",
       "       ' n o pinguim do pontofrio n o se v lutaremos pelos seus direitos ',\n",
       "       ' pinguim ta tendo vaga pra necroterio recentemente melhor aproveitar',\n",
       "       ' rodou pinguim ', ' fiquei triste por um instante',\n",
       "       ' to muito puto pinguim quem e paulo farias ',\n",
       "       ' pf pra mim e prato feito cade o pinguim ',\n",
       "       ' a crise ta foda demitiram ate o pinguim',\n",
       "       ' devolve meu pinguim ruivo estranho que ninguem conhece ',\n",
       "       ' quase acreditei nesse de abril em pin seu fanfarrao ',\n",
       "       ' alguem chama o cadu maverick pra substituicao ',\n",
       "       ' nao gostei quero o pinguim de volta',\n",
       "       ' cade a luisa mel pra defender o coitado do pinguin demitido ',\n",
       "       ' prefiro o pinguim',\n",
       "       ' amg mataram o pinguim pra por um boneco desses que voce ama ',\n",
       "       ' eae prato feito vc acha que o fluminense ganha a libertadores ',\n",
       "       ' vou ligar pro rh ', ' branco feioso', ' nobody yes dor',\n",
       "       ' ainda que seja mentira eu devo dizer nao ha limites para o humor ',\n",
       "       ' trocaram incrivel pinguim por um eleitor do partido novo pqp mancada monstro ',\n",
       "       ' sem adm sem compra', ' k lek filha da puta', ' pc farias ',\n",
       "       ' estava na hora o pinguim parecia um pombo ',\n",
       "       ' uo pf lembra prato feito k volta pinguim',\n",
       "       ' pinguim gt o ruivo sem contar que pfresponde parece algo que a policia federal vai responder ',\n",
       "       ' bagulho ta tao louco que demitiram ate o pinguim',\n",
       "       ' parabens atitude corretissima eu ja nao aguentava mais isso nunca mais compro na ponto frio ',\n",
       "       ' cade o pinguim gente morreu ah nao quero o pinguim',\n",
       "       ' mudanca totalmente drastica veremos como os clientes irao se adequar a nova marca ',\n",
       "       ' ola pf o pinguim se demitiu e foi jogar no vasco ',\n",
       "       ' parabens ficou horrivel', ' ce t maluco cad o ponguin porea',\n",
       "       ' horrivel mirou no baianinho das casas bahia acertou no nerd coxinha reclama das hqs de hj terem muitas minorias e muita politica envolvida no enredo eu nao compraria um cel desse cara ',\n",
       "       ' cade o pinguim porra', ' adm puto pq deram uma ideia mlhr k',\n",
       "       ' alguem foi pago pra fazer isso ', ' o pinguim ta puto k ',\n",
       "       ' mds o que vcs fizeram com o pinguim cad ele ',\n",
       "       ' nao tem c mas paulo farias lembra sim pc farias bandido safado amigao do que foi assassinado ',\n",
       "       ' tem vaga na bahia', ' que desgracado k', ' k nem fudendo',\n",
       "       ' vc x jvmt vi hjfjfby fjyj fe y ou b', ' lixos',\n",
       "       ' devolve o trabalho pro pinguim poha',\n",
       "       ' como o piguim vai pagar esse apartamento sem emprego ',\n",
       "       ' responda pinguim nao devemos viver sem pinguim queremos isso imediatamente estou com saudades traga um pinguim responda pinguim nao devemos viver sem pinguim queremos isso imediatamente estou com saudades traga um pinguim ',\n",
       "       ' pc farias ',\n",
       "       ' se o pf nao tiver uma paixao por pinguins pro pinguim continuar presente e muita sacanagem ',\n",
       "       ' pfresponde o pinguim ta morando com voce voces sao amigos ',\n",
       "       ' pinguim de volta pelamor ',\n",
       "       ' desemprego ta foda ate o pinguim perdeu seu emprego ',\n",
       "       ' esqueceram de tirar o pinguim da logo oficial ao rodape do video ',\n",
       "       ' po pinguim que que fizeram com voce cara ',\n",
       "       ' blza mais em epoca de pandemia dispensar o pinguim foi sacanagem demais ',\n",
       "       ' pinguim te mataram cade voce k',\n",
       "       ' oi paulo jacira no encontro stray kids have arrived de abril ikon makes king carrefour rodolfo merece respeito atez for the win gil pablo cortar lalisa manoban lisa edits blackpink ',\n",
       "       ' gostava do pinguim mesmo assim benca seu paulo ',\n",
       "       ' pf prato feito', ' maluco grosso',\n",
       "       ' vai se fuder fdp devolve nosso pinguim ',\n",
       "       ' policia federal prato feito ',\n",
       "       ' odiamos o prato feito queremos o pinguim de volta',\n",
       "       ' pc farias ',\n",
       "       ' ola pf tenho vale presentes e gostaria de usar eles na compra de um produto porem no ap nao tem opcao pra colocar o vale presente ajuda ae',\n",
       "       ' kd o pinguim seus arrombado traz o pinguim de volta ningu m quer esse maluco a n o ow',\n",
       "       ' nao tem graca fdp devolve o pinguim ', ' wtf vc e meu chara',\n",
       "       ' mataram o pinguim e substituiramnele por um assistente de t i mal pago',\n",
       "       ' hm nao traz o pinguim de volta se voce fizer cosplay de oswald coblepot ja e suficiente',\n",
       "       ' mais um pra ocultar os comentarios do ',\n",
       "       ' devolve o pinguim seu desgracado', ' cade o pinguim man cade o ',\n",
       "       ' caneta pra que caneta a traves de ',\n",
       "       ' entendi antes congela os precos agora com o guedes nao e possivel ',\n",
       "       ' caralho adm nao brinca em servico ',\n",
       "       ' sim k porque eu oa comprar um ar condicionado com o sr pinguim mas ja que ele foi embora nao da',\n",
       "       ' ate o pinguim foi demitido nessa pandemia',\n",
       "       ' olha se o pinguim nao voltar amanha ao normal nao compro mais com voces olha eu cumpro o que eu prometo',\n",
       "       ' paga se doido nao sabemos q se tivessemos gostado vc manteriam e apenas aproveitou o para fazer o teste teoria',\n",
       "       ' gracas a deus era meme', ' prato feito ',\n",
       "       ' gra as a deus por favor n o me assuste assim nunca mais pinguim',\n",
       "       ' vai toma no cu paulo farias vai toma no cu paulo farias vai toma no cu paulo farias vai toma no cu paulo farias vai toma no cu paulo farias vai toma no cu paulo farias vai toma no cu paulo farias vai toma no cu paulo farias ',\n",
       "       ' vai toma no cu paulo farias vai toma no cu paulo farias vai toma no cu paulo farias vai toma no cu paulo farias vai toma no cu paulo farias vai toma no cu paulo farias vai toma no cu paulo farias vai toma no cu paulo farias vai toma no cu paulo farias ',\n",
       "       ' vai toma no cu paulo farias vai toma no cu paulo farias vai toma no cu paulo farias vai toma no cu paulo farias vai toma no cu paulo farias vai toma no cu paulo farias vai toma no cu paulo farias vai toma no cu paulo farias vai toma no cu paulo farias ',\n",
       "       ' nunca mais deixe esse verme chamado paulo farias no comando ',\n",
       "       ' foram dias de verdadeiro tormento e eu queria simplesmente que eles me entregassem o que eu comprei simples demais para eles terem transformado essa historia numa eterna novela mexicana uma pena eu nao conseguir colar aqui o print da pag que eu comprei mas eu tenho cont ',\n",
       "       ' eleitor do amoedo low energy total ',\n",
       "       ' puts grila pinguim eu achei que fosse serio cara foi como dizer que vc tinha um cancer terminal',\n",
       "       ' qualquer uma do ruel conhece ele pinguim ', ' pinguim safado',\n",
       "       ' putz fiquei com argumentos', ' k buchin cheio ',\n",
       "       ' me responde essa aqui so pode ser brincadeira ne ',\n",
       "       ' preferia quando ainda n tinha voltado',\n",
       "       ' vc foi refutado por um pinguim ',\n",
       "       ' oi pingu teu e glu ta cheio de ovinhos ',\n",
       "       ' a me leva pra morar ai k', ' ai mds q fofo',\n",
       "       ' dom perignon destuidora de carteiras so se for',\n",
       "       ' pinguim no brasil que sente frio wtf',\n",
       "       ' pontofrio a eu devolve meu dinheiro seu pinguim safado',\n",
       "       ' isso foi um twet de preocupa o com vc otario', ' me da uma adm ',\n",
       "       ' vc quer oq',\n",
       "       ' sente esse equil brio m lady gaga nao pode se apaixonar mc dany lonely justin bieber without u the kid laroi fala mal de mim pedro sampaio shower becky g som do paredao mc vertinho',\n",
       "       ' ops poatarde ', ' pinguim se esquentando na lareira meo deus',\n",
       "       ' uma televisao led atras com video de lareira ou uma lareira de verdade ',\n",
       "       ' vc e um pinguim seu merda',\n",
       "       ' vai realizar mais um sonho deles ela nao tem maquina de lavar e sempre teve que lavar tudo na mao acho que ela merece um descanso ne ',\n",
       "       ' imagina o stories da d jacira recebendo esse mimo vai ser babado ',\n",
       "       ' a meu deus queremos react da dona jacira hahahaha ',\n",
       "       ' parem de curtir pf td hora notificacao',\n",
       "       ' o gil vai ficar doido quando sair e ver isso tudo ',\n",
       "       ' ponham gil do vigor no proximo comercial de voces que e certeza de sucesso ',\n",
       "       ' vamo pi ', ' vigora ai e manda esse mimo pra dona jacira ',\n",
       "       ' to indiguinado', ' acordei assim de sa de ',\n",
       "       ' me arruma um emprego vai ',\n",
       "       ' d em de presente essa lava e seca para a dona jacira m e do gil b ',\n",
       "       ' ninguem dorme tchaki tchaki ',\n",
       "       ' pi rola um descontinho do vigor em algum modelo de iphone nunca te pedi nada ',\n",
       "       ' vc e o pinguim varejista mais fofineo do brasil vigoroso e cheio de ofertas ',\n",
       "       ' bota cupom pros vigorososssssss',\n",
       "       ' adoramos vc adm ja e bf da torcida do gil ',\n",
       "       ' cade dona jacira meu pai ',\n",
       "       ' leva pra dona jacira uma maquina lava se seca e uma geladeira b',\n",
       "       ' uma geladeira inverter duas portasssssss', ' imagina q tudo',\n",
       "       ' meu deus os maiores ', ' eita vou da uma conferida nisso ai',\n",
       "       ' se pinguim vc nao pode prometer mais eu posso eu vou embusca do meu desconto em outra loja prometo passar longe de qualquer ponto que esteja frio ',\n",
       "       ' avisa que o album novo da demi inteiro pinguim '], dtype=object)"
      ]
     },
     "execution_count": 105,
     "metadata": {},
     "output_type": "execute_result"
    }
   ],
   "source": [
    "# modelo previu positivo, mas era negativo\n",
    "pontofrio['full_text'][(pontofrio[\"predicao\"] != pontofrio[\"sentimento_medio\"]) & (pontofrio[\"sentimento_medio\"] == 0)].values"
   ]
  },
  {
   "cell_type": "markdown",
   "metadata": {},
   "source": [
    "Analisando o conteúdo dos tweets, além de muitos comentários neutros, percebe-se que muitos realmente foram rotulados de forma errada pelos modelos, induzindo o modelo final ao erro também. Obviamente isso era esperado em uma rotulagem \"não supervisionada\". Com certeza também existem acertos que foram rotulados errado."
   ]
  },
  {
   "cell_type": "code",
   "execution_count": null,
   "metadata": {},
   "outputs": [],
   "source": []
  },
  {
   "cell_type": "code",
   "execution_count": null,
   "metadata": {},
   "outputs": [],
   "source": []
  }
 ],
 "metadata": {
  "kernelspec": {
   "display_name": "Python 3",
   "language": "python",
   "name": "python3"
  },
  "language_info": {
   "codemirror_mode": {
    "name": "ipython",
    "version": 3
   },
   "file_extension": ".py",
   "mimetype": "text/x-python",
   "name": "python",
   "nbconvert_exporter": "python",
   "pygments_lexer": "ipython3",
   "version": "3.7.4"
  }
 },
 "nbformat": 4,
 "nbformat_minor": 2
}
