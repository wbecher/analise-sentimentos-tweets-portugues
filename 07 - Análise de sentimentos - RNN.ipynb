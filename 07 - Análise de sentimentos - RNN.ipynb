{
 "cells": [
  {
   "cell_type": "markdown",
   "metadata": {},
   "source": [
    "## Etapa 7: Treinando o modelo com uma RNN\n",
    "\n",
    "Por fim, faremos uma nova predição do mesmo, porém utilizando uma rede neural recorrente, normalmente mais indicadas para trabalhar com texto."
   ]
  },
  {
   "cell_type": "code",
   "execution_count": 1,
   "metadata": {},
   "outputs": [],
   "source": [
    "# importa funções padroes\n",
    "import pandas as pd \n",
    "import numpy as np\n",
    "import re"
   ]
  },
  {
   "cell_type": "code",
   "execution_count": 2,
   "metadata": {},
   "outputs": [],
   "source": [
    "# importa funções para redes neurais\n",
    "from keras.preprocessing.text import Tokenizer\n",
    "from keras.preprocessing import sequence\n",
    "from keras.models import Sequential\n",
    "from keras.utils import to_categorical\n",
    "from keras.layers import Dense, Dropout, Embedding, LSTM, Bidirectional"
   ]
  },
  {
   "cell_type": "code",
   "execution_count": 3,
   "metadata": {},
   "outputs": [],
   "source": [
    "def predicao(lista_texto):\n",
    "    texto_token = tokenizer.texts_to_sequences(lista_texto)\n",
    "    texto_padded_tokens = sequence.pad_sequences(texto_token, maxlen=100)\n",
    "    return (model.predict(texto_padded_tokens[:len(lista_texto)]) > .5).astype(int)\n",
    "    #return model.predict(texto_padded_tokens[:len(lista_texto)]).argmax(1)\n",
    "\n",
    "def predicao_pesos(lista_texto):\n",
    "    texto_token = tokenizer.texts_to_sequences(lista_texto)\n",
    "    texto_padded_tokens = sequence.pad_sequences(texto_token, maxlen=100)\n",
    "    return model.predict(texto_padded_tokens[:len(lista_texto)])"
   ]
  },
  {
   "cell_type": "code",
   "execution_count": 4,
   "metadata": {
    "scrolled": false
   },
   "outputs": [],
   "source": [
    "#importa dataset\n",
    "train = pd.read_csv('train.csv', index_col=0)\n",
    "test = pd.read_csv('test.csv', index_col=0)"
   ]
  },
  {
   "cell_type": "code",
   "execution_count": 14,
   "metadata": {},
   "outputs": [],
   "source": [
    "X_train = train['content'].values.astype(str)\n",
    "X_test = test['content'].values.astype(str)\n",
    "y_train = train['score']\n",
    "y_test = test['score']"
   ]
  },
  {
   "cell_type": "code",
   "execution_count": 6,
   "metadata": {},
   "outputs": [],
   "source": [
    "max_features = 40000\n",
    "maxlen = 250"
   ]
  },
  {
   "cell_type": "code",
   "execution_count": 15,
   "metadata": {},
   "outputs": [
    {
     "data": {
      "text/plain": [
       "44194"
      ]
     },
     "execution_count": 15,
     "metadata": {},
     "output_type": "execute_result"
    }
   ],
   "source": [
    "# treina um tokenizador nos dados de treino\n",
    "tokenizer = Tokenizer(num_words=max_features)\n",
    "tokenizer.fit_on_texts(X_train)\n",
    "len(tokenizer.word_index)"
   ]
  },
  {
   "cell_type": "code",
   "execution_count": 16,
   "metadata": {},
   "outputs": [],
   "source": [
    "# tokeniza os dados\n",
    "X_train_token = tokenizer.texts_to_sequences(X_train)\n",
    "X_test_token = tokenizer.texts_to_sequences(X_test)"
   ]
  },
  {
   "cell_type": "code",
   "execution_count": 17,
   "metadata": {},
   "outputs": [
    {
     "data": {
      "text/plain": [
       "((165869, 250), (71088, 250))"
      ]
     },
     "execution_count": 17,
     "metadata": {},
     "output_type": "execute_result"
    }
   ],
   "source": [
    "# corta ou adiciona zeros em sequências maiores de 250\n",
    "X_train_padded = sequence.pad_sequences(X_train_token, maxlen=maxlen)\n",
    "X_test_padded = sequence.pad_sequences(X_test_token, maxlen=maxlen)\n",
    "X_train_padded.shape, X_test_padded.shape"
   ]
  },
  {
   "cell_type": "code",
   "execution_count": 18,
   "metadata": {},
   "outputs": [],
   "source": [
    "y_train = np.asarray(y_train).astype(np.float32)\n",
    "y_test = np.asarray(y_test).astype(np.float32)"
   ]
  },
  {
   "cell_type": "code",
   "execution_count": 19,
   "metadata": {},
   "outputs": [],
   "source": [
    "# monta o modelo de rede neural\n",
    "model = Sequential()\n",
    "model.add(Embedding(max_features, 64, input_length=maxlen))\n",
    "model.add(Bidirectional(LSTM(32, return_sequences=True)))\n",
    "model.add(Dropout(0.3))\n",
    "model.add(Bidirectional(LSTM(32)))\n",
    "model.add(Dropout(0.3))\n",
    "model.add(Dense(1, activation='sigmoid'))"
   ]
  },
  {
   "cell_type": "code",
   "execution_count": 20,
   "metadata": {},
   "outputs": [],
   "source": [
    "model.compile('adam', 'binary_crossentropy', metrics=['accuracy'])"
   ]
  },
  {
   "cell_type": "code",
   "execution_count": 21,
   "metadata": {},
   "outputs": [
    {
     "name": "stdout",
     "output_type": "stream",
     "text": [
      "Model: \"sequential\"\n",
      "_________________________________________________________________\n",
      "Layer (type)                 Output Shape              Param #   \n",
      "=================================================================\n",
      "embedding (Embedding)        (None, 250, 64)           2560000   \n",
      "_________________________________________________________________\n",
      "bidirectional (Bidirectional (None, 250, 64)           24832     \n",
      "_________________________________________________________________\n",
      "dropout (Dropout)            (None, 250, 64)           0         \n",
      "_________________________________________________________________\n",
      "bidirectional_1 (Bidirection (None, 64)                24832     \n",
      "_________________________________________________________________\n",
      "dropout_1 (Dropout)          (None, 64)                0         \n",
      "_________________________________________________________________\n",
      "dense (Dense)                (None, 1)                 65        \n",
      "=================================================================\n",
      "Total params: 2,609,729\n",
      "Trainable params: 2,609,729\n",
      "Non-trainable params: 0\n",
      "_________________________________________________________________\n"
     ]
    }
   ],
   "source": [
    "model.summary()"
   ]
  },
  {
   "cell_type": "code",
   "execution_count": 26,
   "metadata": {
    "scrolled": false
   },
   "outputs": [
    {
     "name": "stdout",
     "output_type": "stream",
     "text": [
      "Epoch 1/5\n",
      "648/648 [==============================] - 1994s 3s/step - loss: 0.1053 - accuracy: 0.9650\n",
      "Epoch 2/5\n",
      "648/648 [==============================] - 1977s 3s/step - loss: 0.0917 - accuracy: 0.9701\n",
      "Epoch 3/5\n",
      "648/648 [==============================] - 1968s 3s/step - loss: 0.0816 - accuracy: 0.9738\n",
      "Epoch 4/5\n",
      "648/648 [==============================] - 1950s 3s/step - loss: 0.0736 - accuracy: 0.9763\n",
      "Epoch 5/5\n",
      "648/648 [==============================] - 1974s 3s/step - loss: 0.0656 - accuracy: 0.9787\n"
     ]
    },
    {
     "data": {
      "text/plain": [
       "<tensorflow.python.keras.callbacks.History at 0x1ea4664d7c8>"
      ]
     },
     "execution_count": 26,
     "metadata": {},
     "output_type": "execute_result"
    }
   ],
   "source": [
    "# treina a rede neural\n",
    "model.fit(x=X_train_padded, y=y_train, batch_size=256, epochs=7)"
   ]
  },
  {
   "cell_type": "code",
   "execution_count": 27,
   "metadata": {},
   "outputs": [
    {
     "name": "stdout",
     "output_type": "stream",
     "text": [
      "2222/2222 [==============================] - 129s 58ms/step - loss: 0.1796 - accuracy: 0.9486\n"
     ]
    }
   ],
   "source": [
    "#comparar os resultados\n",
    "acc = model.evaluate(x=X_test_padded, y=y_test)"
   ]
  },
  {
   "cell_type": "code",
   "execution_count": null,
   "metadata": {},
   "outputs": [],
   "source": [
    "# serialize model to JSON\n",
    "model_json = model.to_json()\n",
    "with open(\"model.json\", \"w\") as json_file:\n",
    "    json_file.write(model_json)\n",
    "# serialize weights to HDF5\n",
    "model.save_weights(\"model.h5\")\n",
    "print(\"Modelo salvo em disco!\")"
   ]
  },
  {
   "cell_type": "markdown",
   "metadata": {},
   "source": [
    "Rotulando o dataset dos Tweets com a previsão do modelo RNN"
   ]
  },
  {
   "cell_type": "code",
   "execution_count": null,
   "metadata": {},
   "outputs": [],
   "source": [
    "# importando dados dos tweets\n",
    "dataset = pd.read_csv('dataset_com_sentimento.csv', index_col=0)"
   ]
  },
  {
   "cell_type": "code",
   "execution_count": null,
   "metadata": {},
   "outputs": [],
   "source": [
    "# realizando a predição na base dos tweets\n",
    "y_pred = predicao(dataset.full_text)\n",
    "y_pred_score = predicao_pesos(dataset.full_text)"
   ]
  },
  {
   "cell_type": "code",
   "execution_count": null,
   "metadata": {},
   "outputs": [],
   "source": [
    "dataset['sentimento_RNN'] = y_pred\n",
    "dataset['pesos_RNN'] = y_pred_score"
   ]
  },
  {
   "cell_type": "code",
   "execution_count": null,
   "metadata": {},
   "outputs": [],
   "source": [
    "dataset.head()"
   ]
  },
  {
   "cell_type": "code",
   "execution_count": null,
   "metadata": {},
   "outputs": [],
   "source": [
    "dataset.to_csv('dataset_com_sentimento.csv')\n",
    "\n",
    "print('Arquivo Gravado com Sucesso')"
   ]
  },
  {
   "cell_type": "code",
   "execution_count": null,
   "metadata": {},
   "outputs": [],
   "source": []
  }
 ],
 "metadata": {
  "kernelspec": {
   "display_name": "Python 3",
   "language": "python",
   "name": "python3"
  },
  "language_info": {
   "codemirror_mode": {
    "name": "ipython",
    "version": 3
   },
   "file_extension": ".py",
   "mimetype": "text/x-python",
   "name": "python",
   "nbconvert_exporter": "python",
   "pygments_lexer": "ipython3",
   "version": "3.7.4"
  }
 },
 "nbformat": 4,
 "nbformat_minor": 2
}
