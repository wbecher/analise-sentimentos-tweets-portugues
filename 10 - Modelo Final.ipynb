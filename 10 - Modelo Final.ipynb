{
 "cells": [
  {
   "cell_type": "markdown",
   "metadata": {},
   "source": [
    "## Etapa 10 : Modelo Final \n",
    "\n",
    "Nesta etapa vamos treinar dois modelos, um com o dataset da rotulagem que fizemos, o outro vamos unir o dataset dos tweets rotulados com o dataset dos reviews do Google Store."
   ]
  },
  {
   "cell_type": "code",
   "execution_count": 1,
   "metadata": {},
   "outputs": [],
   "source": [
    "%matplotlib inline\n",
    "\n",
    "import pandas as pd\n",
    "import numpy as np\n",
    "import matplotlib.pyplot as plt\n",
    "import os\n",
    "\n",
    "# importa funções para redes neurais\n",
    "from keras.preprocessing.text import Tokenizer\n",
    "from keras.preprocessing import sequence\n",
    "from keras.models import Sequential\n",
    "from keras.utils import to_categorical\n",
    "from keras.layers import Dense, Dropout, Embedding, LSTM, Bidirectional, GRU\n",
    "\n",
    "import sklearn\n",
    "from sklearn.model_selection import train_test_split\n",
    "from sklearn import metrics\n",
    "\n",
    "import warnings\n",
    "warnings.filterwarnings('ignore')\n"
   ]
  },
  {
   "cell_type": "code",
   "execution_count": 2,
   "metadata": {},
   "outputs": [],
   "source": [
    "def predicao(lista_texto):\n",
    "    texto_token = tokenizer.texts_to_sequences(lista_texto)\n",
    "    texto_padded_tokens = sequence.pad_sequences(texto_token, maxlen=250)\n",
    "    return (model.predict(texto_padded_tokens[:len(lista_texto)]) > .5).astype(int)\n",
    "    #return model.predict(texto_padded_tokens[:len(lista_texto)]).argmax(1)\n",
    "\n",
    "def predicao_pesos(lista_texto):\n",
    "    texto_token = tokenizer.texts_to_sequences(lista_texto)\n",
    "    texto_padded_tokens = sequence.pad_sequences(texto_token, maxlen=250)\n",
    "    return model.predict(texto_padded_tokens[:len(lista_texto)])"
   ]
  },
  {
   "cell_type": "markdown",
   "metadata": {},
   "source": [
    "### Modelo 1 - Dataset Tweets Rotulados (Sem Nubank, Netflix e Ponto Frio)"
   ]
  },
  {
   "cell_type": "code",
   "execution_count": 3,
   "metadata": {},
   "outputs": [],
   "source": [
    "#importa dataset\n",
    "df = pd.read_csv('dataset_com_sentimento.csv', index_col=0)"
   ]
  },
  {
   "cell_type": "code",
   "execution_count": 4,
   "metadata": {
    "scrolled": true
   },
   "outputs": [
    {
     "data": {
      "text/html": [
       "<div>\n",
       "<style scoped>\n",
       "    .dataframe tbody tr th:only-of-type {\n",
       "        vertical-align: middle;\n",
       "    }\n",
       "\n",
       "    .dataframe tbody tr th {\n",
       "        vertical-align: top;\n",
       "    }\n",
       "\n",
       "    .dataframe thead th {\n",
       "        text-align: right;\n",
       "    }\n",
       "</style>\n",
       "<table border=\"1\" class=\"dataframe\">\n",
       "  <thead>\n",
       "    <tr style=\"text-align: right;\">\n",
       "      <th></th>\n",
       "      <th>in_reply_to_screen_name</th>\n",
       "      <th>full_text</th>\n",
       "      <th>sentimento</th>\n",
       "      <th>sentimento_CNN</th>\n",
       "      <th>sentimento_RNN</th>\n",
       "      <th>pesos_RNN</th>\n",
       "      <th>sentimento_medio</th>\n",
       "    </tr>\n",
       "  </thead>\n",
       "  <tbody>\n",
       "    <tr>\n",
       "      <td>0</td>\n",
       "      <td>santander_br</td>\n",
       "      <td>isso qualquer operacao que eu tente fazer em ...</td>\n",
       "      <td>0</td>\n",
       "      <td>0</td>\n",
       "      <td>0</td>\n",
       "      <td>0.002110</td>\n",
       "      <td>0</td>\n",
       "    </tr>\n",
       "    <tr>\n",
       "      <td>1</td>\n",
       "      <td>santander_br</td>\n",
       "      <td>a atendente pagou pela segunda vez a fatura d...</td>\n",
       "      <td>0</td>\n",
       "      <td>1</td>\n",
       "      <td>0</td>\n",
       "      <td>0.199904</td>\n",
       "      <td>0</td>\n",
       "    </tr>\n",
       "    <tr>\n",
       "      <td>2</td>\n",
       "      <td>Bancointer</td>\n",
       "      <td>pode trazer o meus</td>\n",
       "      <td>1</td>\n",
       "      <td>1</td>\n",
       "      <td>1</td>\n",
       "      <td>0.998421</td>\n",
       "      <td>1</td>\n",
       "    </tr>\n",
       "    <tr>\n",
       "      <td>3</td>\n",
       "      <td>santander_br</td>\n",
       "      <td>nao estou conseguindo gerar cartao compra onl...</td>\n",
       "      <td>0</td>\n",
       "      <td>0</td>\n",
       "      <td>0</td>\n",
       "      <td>0.001986</td>\n",
       "      <td>0</td>\n",
       "    </tr>\n",
       "    <tr>\n",
       "      <td>4</td>\n",
       "      <td>itau</td>\n",
       "      <td>mas foi e o setup foi bem facil muito bom</td>\n",
       "      <td>1</td>\n",
       "      <td>1</td>\n",
       "      <td>1</td>\n",
       "      <td>0.997619</td>\n",
       "      <td>1</td>\n",
       "    </tr>\n",
       "  </tbody>\n",
       "</table>\n",
       "</div>"
      ],
      "text/plain": [
       "  in_reply_to_screen_name                                          full_text  \\\n",
       "0            santander_br   isso qualquer operacao que eu tente fazer em ...   \n",
       "1            santander_br   a atendente pagou pela segunda vez a fatura d...   \n",
       "2              Bancointer                                 pode trazer o meus   \n",
       "3            santander_br   nao estou conseguindo gerar cartao compra onl...   \n",
       "4                    itau         mas foi e o setup foi bem facil muito bom    \n",
       "\n",
       "   sentimento  sentimento_CNN  sentimento_RNN  pesos_RNN  sentimento_medio  \n",
       "0           0               0               0   0.002110                 0  \n",
       "1           0               1               0   0.199904                 0  \n",
       "2           1               1               1   0.998421                 1  \n",
       "3           0               0               0   0.001986                 0  \n",
       "4           1               1               1   0.997619                 1  "
      ]
     },
     "execution_count": 4,
     "metadata": {},
     "output_type": "execute_result"
    }
   ],
   "source": [
    "df.head(5)"
   ]
  },
  {
   "cell_type": "code",
   "execution_count": 5,
   "metadata": {
    "scrolled": true
   },
   "outputs": [
    {
     "data": {
      "text/plain": [
       "1    81235\n",
       "0    41289\n",
       "Name: sentimento_medio, dtype: int64"
      ]
     },
     "execution_count": 5,
     "metadata": {},
     "output_type": "execute_result"
    }
   ],
   "source": [
    "df.sentimento_medio.value_counts()"
   ]
  },
  {
   "cell_type": "markdown",
   "metadata": {},
   "source": [
    "Como o dataset rotulado ficou desbalanceado, vamos remover alguns comentarios para que fique balanceado e sem viés para este modelo final."
   ]
  },
  {
   "cell_type": "code",
   "execution_count": 6,
   "metadata": {
    "scrolled": true
   },
   "outputs": [
    {
     "data": {
      "text/plain": [
       "NetflixBrasil      7200\n",
       "nubank             4402\n",
       "americanascom      4075\n",
       "globoplay          3431\n",
       "PrimeVideoBR       2703\n",
       "Bradesco           2457\n",
       "CasasBahia         1983\n",
       "santander_br       1932\n",
       "Bancointer         1838\n",
       "submarino          1827\n",
       "C6Bank             1574\n",
       "pontofrio          1558\n",
       "timeneon           1304\n",
       "itau               1232\n",
       "BancodoBrasil      1200\n",
       "CocaCola_Br        1007\n",
       "DisneyPlusBR        514\n",
       "lojasamericanas     491\n",
       "amazonBR            376\n",
       "PepsiBr             174\n",
       "brkindle             11\n",
       "Name: in_reply_to_screen_name, dtype: int64"
      ]
     },
     "execution_count": 6,
     "metadata": {},
     "output_type": "execute_result"
    }
   ],
   "source": [
    "# distribuição dos tweets negativos\n",
    "df['in_reply_to_screen_name'][(df['sentimento_medio'] == 0)].value_counts()"
   ]
  },
  {
   "cell_type": "code",
   "execution_count": 7,
   "metadata": {
    "scrolled": true
   },
   "outputs": [
    {
     "data": {
      "text/plain": [
       "NetflixBrasil      31338\n",
       "PrimeVideoBR       11319\n",
       "globoplay           7685\n",
       "submarino           5362\n",
       "nubank              3835\n",
       "pontofrio           3604\n",
       "CocaCola_Br         3324\n",
       "americanascom       2412\n",
       "CasasBahia          2124\n",
       "DisneyPlusBR        1905\n",
       "Bancointer          1678\n",
       "Bradesco            1280\n",
       "C6Bank              1019\n",
       "BancodoBrasil        996\n",
       "santander_br         856\n",
       "PepsiBr              852\n",
       "itau                 782\n",
       "timeneon             499\n",
       "amazonBR             241\n",
       "lojasamericanas       85\n",
       "brkindle              39\n",
       "Name: in_reply_to_screen_name, dtype: int64"
      ]
     },
     "execution_count": 7,
     "metadata": {},
     "output_type": "execute_result"
    }
   ],
   "source": [
    "# distribuição dos tweets positivos\n",
    "df['in_reply_to_screen_name'][(df['sentimento_medio'] == 1)].value_counts()"
   ]
  },
  {
   "cell_type": "markdown",
   "metadata": {},
   "source": [
    "Como existem muitos tweets de uma mesma empresa, vamos balancear para que todas as empresas fiquem com um tamanho de comentarios semelhante."
   ]
  },
  {
   "cell_type": "code",
   "execution_count": 8,
   "metadata": {},
   "outputs": [],
   "source": [
    "# removendo comentarios negativos\n",
    "df.drop(df[(df['in_reply_to_screen_name'] == 'americanascom')\n",
    "       & (df['sentimento_medio'] == 0)][:1600].index, inplace=True)\n",
    "\n",
    "df.drop(df[(df['in_reply_to_screen_name'] == 'Bradesco')\n",
    "       & (df['sentimento_medio'] == 0)][:1200].index, inplace=True)"
   ]
  },
  {
   "cell_type": "code",
   "execution_count": null,
   "metadata": {},
   "outputs": [],
   "source": []
  },
  {
   "cell_type": "code",
   "execution_count": 9,
   "metadata": {},
   "outputs": [],
   "source": [
    "# removendo comentarios positivos\n",
    "df.drop(df[(df['in_reply_to_screen_name'] == 'NetflixBrasil')\n",
    "       & (df['sentimento_medio'] == 1)][:25000].index, inplace=True)\n",
    "\n",
    "df.drop(df[(df['in_reply_to_screen_name'] == 'PrimeVideoBR')\n",
    "       & (df['sentimento_medio'] == 1)][:8500].index, inplace=True)\n",
    "\n",
    "df.drop(df[(df['in_reply_to_screen_name'] == 'globoplay')\n",
    "       & (df['sentimento_medio'] == 1)][:3000].index, inplace=True)\n",
    "\n",
    "df.drop(df[(df['in_reply_to_screen_name'] == 'submarino')\n",
    "       & (df['sentimento_medio'] == 1)][:3500].index, inplace=True)\n",
    "\n",
    "df.drop(df[(df['in_reply_to_screen_name'] == 'CocaCola_Br')\n",
    "       & (df['sentimento_medio'] == 1)][:2300].index, inplace=True)\n",
    "\n",
    "df.drop(df[(df['in_reply_to_screen_name'] == 'DisneyPlusBR')\n",
    "       & (df['sentimento_medio'] == 1)][:1400].index, inplace=True)"
   ]
  },
  {
   "cell_type": "code",
   "execution_count": 15,
   "metadata": {},
   "outputs": [],
   "source": []
  },
  {
   "cell_type": "markdown",
   "metadata": {},
   "source": [
    "Por fim, vamos remover os tweets das empresas, Netflix, Nubank e Ponto Frio, e assim validarmos nosso modelo, simulando uma situação real de uma nova empresa interessada em descobrir o que estão falando dela."
   ]
  },
  {
   "cell_type": "code",
   "execution_count": 10,
   "metadata": {},
   "outputs": [],
   "source": [
    "# dropando netflix, nubank e ponto frio\n",
    "df.drop(df[(df['in_reply_to_screen_name'] == 'NetflixBrasil')].index, inplace=True)\n",
    "df.drop(df[(df['in_reply_to_screen_name'] == 'nubank')].index, inplace=True)\n",
    "df.drop(df[(df['in_reply_to_screen_name'] == 'pontofrio')].index, inplace=True)"
   ]
  },
  {
   "cell_type": "code",
   "execution_count": 11,
   "metadata": {},
   "outputs": [
    {
     "data": {
      "text/plain": [
       "0    25329\n",
       "1    23758\n",
       "Name: sentimento_medio, dtype: int64"
      ]
     },
     "execution_count": 11,
     "metadata": {},
     "output_type": "execute_result"
    }
   ],
   "source": [
    "#verificando se o dataset ficou equilibrado\n",
    "df.sentimento_medio.value_counts()"
   ]
  },
  {
   "cell_type": "code",
   "execution_count": 12,
   "metadata": {},
   "outputs": [],
   "source": [
    "# separa dados em treino, teste e validação\n",
    "train, test, _, _ = train_test_split(df, df['full_text'], test_size=0.2, random_state=42)"
   ]
  },
  {
   "cell_type": "code",
   "execution_count": 13,
   "metadata": {},
   "outputs": [
    {
     "data": {
      "text/plain": [
       "(49087, 39269, 9818)"
      ]
     },
     "execution_count": 13,
     "metadata": {},
     "output_type": "execute_result"
    }
   ],
   "source": [
    "len(df), len(train), len(test)"
   ]
  },
  {
   "cell_type": "code",
   "execution_count": 14,
   "metadata": {},
   "outputs": [],
   "source": [
    "X = df['full_text'].values.astype(str)\n",
    "X_train = train['full_text'].values.astype(str)\n",
    "X_test = test['full_text'].values.astype(str)\n",
    "y_train = train['sentimento_medio']\n",
    "y_test = test['sentimento_medio']"
   ]
  },
  {
   "cell_type": "code",
   "execution_count": 15,
   "metadata": {},
   "outputs": [
    {
     "data": {
      "text/plain": [
       "<AxesSubplot:>"
      ]
     },
     "execution_count": 15,
     "metadata": {},
     "output_type": "execute_result"
    },
    {
     "data": {
      "image/png": "[encoded data removed]",
      "text/plain": [
       "<Figure size 432x288 with 1 Axes>"
      ]
     },
     "metadata": {
      "needs_background": "light"
     },
     "output_type": "display_data"
    }
   ],
   "source": [
    "train['full_text'].apply(len).hist()"
   ]
  },
  {
   "cell_type": "code",
   "execution_count": 16,
   "metadata": {},
   "outputs": [],
   "source": [
    "max_features = 33000\n",
    "maxlen = 250"
   ]
  },
  {
   "cell_type": "code",
   "execution_count": 17,
   "metadata": {},
   "outputs": [
    {
     "data": {
      "text/plain": [
       "24090"
      ]
     },
     "execution_count": 17,
     "metadata": {},
     "output_type": "execute_result"
    }
   ],
   "source": [
    "# treina um tokenizador nos dados de treino\n",
    "tokenizer = Tokenizer(num_words=max_features)\n",
    "tokenizer.fit_on_texts(X)\n",
    "len(tokenizer.word_index)"
   ]
  },
  {
   "cell_type": "code",
   "execution_count": 18,
   "metadata": {},
   "outputs": [],
   "source": [
    "# tokeniza os dados\n",
    "X_train_token = tokenizer.texts_to_sequences(X_train)\n",
    "X_test_token = tokenizer.texts_to_sequences(X_test)"
   ]
  },
  {
   "cell_type": "code",
   "execution_count": 19,
   "metadata": {},
   "outputs": [
    {
     "data": {
      "text/plain": [
       "((39269, 250), (9818, 250))"
      ]
     },
     "execution_count": 19,
     "metadata": {},
     "output_type": "execute_result"
    }
   ],
   "source": [
    "# corta ou adiciona zeros em sequências maiores de 250\n",
    "X_train_padded = sequence.pad_sequences(X_train_token, maxlen=maxlen)\n",
    "X_test_padded = sequence.pad_sequences(X_test_token, maxlen=maxlen)\n",
    "X_train_padded.shape, X_test_padded.shape"
   ]
  },
  {
   "cell_type": "code",
   "execution_count": 20,
   "metadata": {},
   "outputs": [],
   "source": [
    "y_train = np.asarray(y_train).astype(np.float32)\n",
    "y_test = np.asarray(y_test).astype(np.float32)"
   ]
  },
  {
   "cell_type": "code",
   "execution_count": 22,
   "metadata": {},
   "outputs": [],
   "source": [
    "# monta o modelo de rede neural\n",
    "model = Sequential()\n",
    "model.add(Embedding(max_features, 128, input_length=maxlen))\n",
    "model.add(Bidirectional(LSTM(32, return_sequences=True)))\n",
    "model.add(Dropout(0.3))\n",
    "model.add(Bidirectional(LSTM(32)))\n",
    "model.add(Dropout(0.3))\n",
    "model.add(Dense(1, activation='sigmoid'))"
   ]
  },
  {
   "cell_type": "code",
   "execution_count": 23,
   "metadata": {},
   "outputs": [],
   "source": [
    "model.compile('adam', 'binary_crossentropy', metrics=['accuracy'])"
   ]
  },
  {
   "cell_type": "code",
   "execution_count": 24,
   "metadata": {},
   "outputs": [
    {
     "name": "stdout",
     "output_type": "stream",
     "text": [
      "Model: \"sequential_1\"\n",
      "_________________________________________________________________\n",
      "Layer (type)                 Output Shape              Param #   \n",
      "=================================================================\n",
      "embedding_1 (Embedding)      (None, 250, 128)          4224000   \n",
      "_________________________________________________________________\n",
      "bidirectional_2 (Bidirection (None, 250, 64)           41216     \n",
      "_________________________________________________________________\n",
      "dropout_2 (Dropout)          (None, 250, 64)           0         \n",
      "_________________________________________________________________\n",
      "bidirectional_3 (Bidirection (None, 64)                24832     \n",
      "_________________________________________________________________\n",
      "dropout_3 (Dropout)          (None, 64)                0         \n",
      "_________________________________________________________________\n",
      "dense_1 (Dense)              (None, 1)                 65        \n",
      "=================================================================\n",
      "Total params: 4,290,113\n",
      "Trainable params: 4,290,113\n",
      "Non-trainable params: 0\n",
      "_________________________________________________________________\n"
     ]
    }
   ],
   "source": [
    "model.summary()"
   ]
  },
  {
   "cell_type": "code",
   "execution_count": 109,
   "metadata": {},
   "outputs": [
    {
     "name": "stdout",
     "output_type": "stream",
     "text": [
      "Epoch 1/5\n",
      "154/154 [==============================] - 662s 4s/step - loss: 0.4696 - accuracy: 0.7700\n",
      "Epoch 2/5\n",
      "154/154 [==============================] - 720s 5s/step - loss: 0.2313 - accuracy: 0.9079\n",
      "Epoch 3/5\n",
      "154/154 [==============================] - 729s 5s/step - loss: 0.1556 - accuracy: 0.9404\n",
      "Epoch 4/5\n",
      "154/154 [==============================] - 752s 5s/step - loss: 0.1178 - accuracy: 0.9567\n",
      "Epoch 5/5\n",
      "154/154 [==============================] - 746s 5s/step - loss: 0.0934 - accuracy: 0.9666\n"
     ]
    },
    {
     "data": {
      "text/plain": [
       "<tensorflow.python.keras.callbacks.History at 0x23bed04a848>"
      ]
     },
     "execution_count": 109,
     "metadata": {},
     "output_type": "execute_result"
    }
   ],
   "source": [
    "# treina a rede neural\n",
    "model.fit(x=X_train_padded, y=y_train, batch_size=256, epochs=5)"
   ]
  },
  {
   "cell_type": "code",
   "execution_count": 110,
   "metadata": {},
   "outputs": [
    {
     "name": "stdout",
     "output_type": "stream",
     "text": [
      "307/307 [==============================] - 26s 84ms/step - loss: 0.3369 - accuracy: 0.8890\n"
     ]
    }
   ],
   "source": [
    "#comparar os resultados\n",
    "acc = model.evaluate(x=X_test_padded, y=y_test)"
   ]
  },
  {
   "cell_type": "code",
   "execution_count": 111,
   "metadata": {},
   "outputs": [
    {
     "name": "stdout",
     "output_type": "stream",
     "text": [
      "Modelo salvo em disco!\n"
     ]
    }
   ],
   "source": [
    "# serialize model to JSON\n",
    "model_json = model.to_json()\n",
    "with open(\"model_final_M1.json\", \"w\") as json_file:\n",
    "    json_file.write(model_json)\n",
    "# serialize weights to HDF5\n",
    "model.save_weights(\"model_final_M1.h5\")\n",
    "print(\"Modelo salvo em disco!\")"
   ]
  },
  {
   "cell_type": "markdown",
   "metadata": {},
   "source": [
    "### Modelo 2 - Dataset Tweets Rotulados (Sem Nubank, Netflix e Ponto Frio) + Reviwes Google Store"
   ]
  },
  {
   "cell_type": "code",
   "execution_count": 25,
   "metadata": {},
   "outputs": [],
   "source": [
    "#importa dataset\n",
    "df2 = pd.read_csv('reviews_geral_limpo.csv', index_col=0)"
   ]
  },
  {
   "cell_type": "code",
   "execution_count": 26,
   "metadata": {
    "scrolled": true
   },
   "outputs": [
    {
     "data": {
      "text/html": [
       "<div>\n",
       "<style scoped>\n",
       "    .dataframe tbody tr th:only-of-type {\n",
       "        vertical-align: middle;\n",
       "    }\n",
       "\n",
       "    .dataframe tbody tr th {\n",
       "        vertical-align: top;\n",
       "    }\n",
       "\n",
       "    .dataframe thead th {\n",
       "        text-align: right;\n",
       "    }\n",
       "</style>\n",
       "<table border=\"1\" class=\"dataframe\">\n",
       "  <thead>\n",
       "    <tr style=\"text-align: right;\">\n",
       "      <th></th>\n",
       "      <th>content</th>\n",
       "      <th>score</th>\n",
       "    </tr>\n",
       "  </thead>\n",
       "  <tbody>\n",
       "    <tr>\n",
       "      <td>0</td>\n",
       "      <td>gente mudem pro design anterior a interface ta...</td>\n",
       "      <td>1</td>\n",
       "    </tr>\n",
       "    <tr>\n",
       "      <td>1</td>\n",
       "      <td>gosto muito desse banco mas farei uma critica ...</td>\n",
       "      <td>1</td>\n",
       "    </tr>\n",
       "    <tr>\n",
       "      <td>2</td>\n",
       "      <td>ate agora estou gostando realmente essa nova i...</td>\n",
       "      <td>1</td>\n",
       "    </tr>\n",
       "    <tr>\n",
       "      <td>3</td>\n",
       "      <td>adoro esse ap raramente apresenta alguma falha...</td>\n",
       "      <td>1</td>\n",
       "    </tr>\n",
       "    <tr>\n",
       "      <td>4</td>\n",
       "      <td>simplesmente maravilhoso eu nunca vi um banco ...</td>\n",
       "      <td>1</td>\n",
       "    </tr>\n",
       "  </tbody>\n",
       "</table>\n",
       "</div>"
      ],
      "text/plain": [
       "                                             content  score\n",
       "0  gente mudem pro design anterior a interface ta...      1\n",
       "1  gosto muito desse banco mas farei uma critica ...      1\n",
       "2  ate agora estou gostando realmente essa nova i...      1\n",
       "3  adoro esse ap raramente apresenta alguma falha...      1\n",
       "4  simplesmente maravilhoso eu nunca vi um banco ...      1"
      ]
     },
     "execution_count": 26,
     "metadata": {},
     "output_type": "execute_result"
    }
   ],
   "source": [
    "df2.head()"
   ]
  },
  {
   "cell_type": "markdown",
   "metadata": {},
   "source": [
    "Como os datasets tem um formato diferente entre eles, precisamos padroniza-los antes de uni-los."
   ]
  },
  {
   "cell_type": "code",
   "execution_count": 27,
   "metadata": {},
   "outputs": [],
   "source": [
    "# dataset reviews google store\n",
    "# renomeando as colunas\n",
    "df2.rename(columns={'content': 'full_text','score': 'sentimento'}, inplace = True)\n",
    "\n",
    "# criando nova coluna\n",
    "df2['in_reply_to_screen_name'] = 'Google Store'\n",
    "\n",
    "# reordenando as colunas\n",
    "df2 = df2.reindex(columns=['in_reply_to_screen_name','full_text','sentimento'])"
   ]
  },
  {
   "cell_type": "code",
   "execution_count": 265,
   "metadata": {},
   "outputs": [],
   "source": []
  },
  {
   "cell_type": "code",
   "execution_count": 28,
   "metadata": {},
   "outputs": [],
   "source": [
    "# dataset tweets rotulados\n",
    "# cortando colunas desnecessárias\n",
    "#df = df[['in_reply_to_screen_name','full_text','sentimento']]\n",
    "df = df[['in_reply_to_screen_name','full_text','sentimento_medio']]\n",
    "\n",
    "# renomeando a coluna\n",
    "df.rename(columns={'sentimento_medio': 'sentimento'}, inplace = True)\t"
   ]
  },
  {
   "cell_type": "code",
   "execution_count": 29,
   "metadata": {},
   "outputs": [],
   "source": [
    "# unindo os datasets\n",
    "df_geral = pd.concat([df, df2], ignore_index=True)"
   ]
  },
  {
   "cell_type": "code",
   "execution_count": 30,
   "metadata": {
    "scrolled": false
   },
   "outputs": [
    {
     "data": {
      "text/plain": [
       "0    144582\n",
       "1    141462\n",
       "Name: sentimento, dtype: int64"
      ]
     },
     "execution_count": 30,
     "metadata": {},
     "output_type": "execute_result"
    }
   ],
   "source": [
    "# verificando o balanceamento\n",
    "df_geral.sentimento.value_counts()"
   ]
  },
  {
   "cell_type": "code",
   "execution_count": 31,
   "metadata": {},
   "outputs": [
    {
     "data": {
      "text/html": [
       "<div>\n",
       "<style scoped>\n",
       "    .dataframe tbody tr th:only-of-type {\n",
       "        vertical-align: middle;\n",
       "    }\n",
       "\n",
       "    .dataframe tbody tr th {\n",
       "        vertical-align: top;\n",
       "    }\n",
       "\n",
       "    .dataframe thead th {\n",
       "        text-align: right;\n",
       "    }\n",
       "</style>\n",
       "<table border=\"1\" class=\"dataframe\">\n",
       "  <thead>\n",
       "    <tr style=\"text-align: right;\">\n",
       "      <th></th>\n",
       "      <th>in_reply_to_screen_name</th>\n",
       "      <th>full_text</th>\n",
       "      <th>sentimento</th>\n",
       "    </tr>\n",
       "  </thead>\n",
       "  <tbody>\n",
       "    <tr>\n",
       "      <td>0</td>\n",
       "      <td>santander_br</td>\n",
       "      <td>isso qualquer operacao que eu tente fazer em ...</td>\n",
       "      <td>0</td>\n",
       "    </tr>\n",
       "    <tr>\n",
       "      <td>1</td>\n",
       "      <td>santander_br</td>\n",
       "      <td>a atendente pagou pela segunda vez a fatura d...</td>\n",
       "      <td>0</td>\n",
       "    </tr>\n",
       "    <tr>\n",
       "      <td>2</td>\n",
       "      <td>Bancointer</td>\n",
       "      <td>pode trazer o meus</td>\n",
       "      <td>1</td>\n",
       "    </tr>\n",
       "    <tr>\n",
       "      <td>3</td>\n",
       "      <td>santander_br</td>\n",
       "      <td>nao estou conseguindo gerar cartao compra onl...</td>\n",
       "      <td>0</td>\n",
       "    </tr>\n",
       "    <tr>\n",
       "      <td>4</td>\n",
       "      <td>itau</td>\n",
       "      <td>mas foi e o setup foi bem facil muito bom</td>\n",
       "      <td>1</td>\n",
       "    </tr>\n",
       "    <tr>\n",
       "      <td>5</td>\n",
       "      <td>lojasamericanas</td>\n",
       "      <td>cara e inadmissivel o que minha esposa passou...</td>\n",
       "      <td>0</td>\n",
       "    </tr>\n",
       "    <tr>\n",
       "      <td>6</td>\n",
       "      <td>lojasamericanas</td>\n",
       "      <td>poderia me ajudar nao consigo encontrar os te...</td>\n",
       "      <td>0</td>\n",
       "    </tr>\n",
       "    <tr>\n",
       "      <td>7</td>\n",
       "      <td>lojasamericanas</td>\n",
       "      <td>esta dizendo que nao posso enviar mensagem pa...</td>\n",
       "      <td>0</td>\n",
       "    </tr>\n",
       "    <tr>\n",
       "      <td>8</td>\n",
       "      <td>lojasamericanas</td>\n",
       "      <td>mas eu estou seguindo</td>\n",
       "      <td>1</td>\n",
       "    </tr>\n",
       "    <tr>\n",
       "      <td>9</td>\n",
       "      <td>santander_br</td>\n",
       "      <td>ola gente bom dia quero entra na minha conta ...</td>\n",
       "      <td>1</td>\n",
       "    </tr>\n",
       "    <tr>\n",
       "      <td>10</td>\n",
       "      <td>santander_br</td>\n",
       "      <td>moro no interior nao tem caixa eletronico</td>\n",
       "      <td>0</td>\n",
       "    </tr>\n",
       "    <tr>\n",
       "      <td>11</td>\n",
       "      <td>lojasamericanas</td>\n",
       "      <td>acabei de comprar um kinder bueno ao leite e ...</td>\n",
       "      <td>0</td>\n",
       "    </tr>\n",
       "    <tr>\n",
       "      <td>12</td>\n",
       "      <td>C6Bank</td>\n",
       "      <td>ainda nao baixou seu banco entao nos vamos te ...</td>\n",
       "      <td>1</td>\n",
       "    </tr>\n",
       "    <tr>\n",
       "      <td>13</td>\n",
       "      <td>C6Bank</td>\n",
       "      <td>sem burocracia abra sua conta gratuitamente di...</td>\n",
       "      <td>0</td>\n",
       "    </tr>\n",
       "    <tr>\n",
       "      <td>14</td>\n",
       "      <td>C6Bank</td>\n",
       "      <td>sem tarifas conta saques transferencias e cart...</td>\n",
       "      <td>1</td>\n",
       "    </tr>\n",
       "    <tr>\n",
       "      <td>15</td>\n",
       "      <td>C6Bank</td>\n",
       "      <td>contactless nao precisa inserir o cartao na ma...</td>\n",
       "      <td>1</td>\n",
       "    </tr>\n",
       "    <tr>\n",
       "      <td>16</td>\n",
       "      <td>lojasamericanas</td>\n",
       "      <td>sinceramente o atendimento de voces e terrivel</td>\n",
       "      <td>0</td>\n",
       "    </tr>\n",
       "    <tr>\n",
       "      <td>17</td>\n",
       "      <td>lojasamericanas</td>\n",
       "      <td>comprei um notebok a tres meses de voces comp...</td>\n",
       "      <td>0</td>\n",
       "    </tr>\n",
       "    <tr>\n",
       "      <td>18</td>\n",
       "      <td>lojasamericanas</td>\n",
       "      <td>qualidade esta excelente gondolas sujas e bag...</td>\n",
       "      <td>1</td>\n",
       "    </tr>\n",
       "    <tr>\n",
       "      <td>19</td>\n",
       "      <td>lojasamericanas</td>\n",
       "      <td>vendendo produto com mais de um mes vencido</td>\n",
       "      <td>0</td>\n",
       "    </tr>\n",
       "  </tbody>\n",
       "</table>\n",
       "</div>"
      ],
      "text/plain": [
       "   in_reply_to_screen_name                                          full_text  \\\n",
       "0             santander_br   isso qualquer operacao que eu tente fazer em ...   \n",
       "1             santander_br   a atendente pagou pela segunda vez a fatura d...   \n",
       "2               Bancointer                                 pode trazer o meus   \n",
       "3             santander_br   nao estou conseguindo gerar cartao compra onl...   \n",
       "4                     itau         mas foi e o setup foi bem facil muito bom    \n",
       "5          lojasamericanas   cara e inadmissivel o que minha esposa passou...   \n",
       "6          lojasamericanas   poderia me ajudar nao consigo encontrar os te...   \n",
       "7          lojasamericanas   esta dizendo que nao posso enviar mensagem pa...   \n",
       "8          lojasamericanas                             mas eu estou seguindo    \n",
       "9             santander_br   ola gente bom dia quero entra na minha conta ...   \n",
       "10            santander_br          moro no interior nao tem caixa eletronico   \n",
       "11         lojasamericanas   acabei de comprar um kinder bueno ao leite e ...   \n",
       "12                  C6Bank  ainda nao baixou seu banco entao nos vamos te ...   \n",
       "13                  C6Bank  sem burocracia abra sua conta gratuitamente di...   \n",
       "14                  C6Bank  sem tarifas conta saques transferencias e cart...   \n",
       "15                  C6Bank  contactless nao precisa inserir o cartao na ma...   \n",
       "16         lojasamericanas    sinceramente o atendimento de voces e terrivel    \n",
       "17         lojasamericanas   comprei um notebok a tres meses de voces comp...   \n",
       "18         lojasamericanas   qualidade esta excelente gondolas sujas e bag...   \n",
       "19         lojasamericanas       vendendo produto com mais de um mes vencido    \n",
       "\n",
       "    sentimento  \n",
       "0            0  \n",
       "1            0  \n",
       "2            1  \n",
       "3            0  \n",
       "4            1  \n",
       "5            0  \n",
       "6            0  \n",
       "7            0  \n",
       "8            1  \n",
       "9            1  \n",
       "10           0  \n",
       "11           0  \n",
       "12           1  \n",
       "13           0  \n",
       "14           1  \n",
       "15           1  \n",
       "16           0  \n",
       "17           0  \n",
       "18           1  \n",
       "19           0  "
      ]
     },
     "execution_count": 31,
     "metadata": {},
     "output_type": "execute_result"
    }
   ],
   "source": [
    "df_geral.head(20)"
   ]
  },
  {
   "cell_type": "code",
   "execution_count": 32,
   "metadata": {},
   "outputs": [],
   "source": [
    "# separa dados em treino, teste e validação\n",
    "train, test, _, _ = train_test_split(df_geral, df_geral['full_text'], test_size=0.2, random_state=42)"
   ]
  },
  {
   "cell_type": "code",
   "execution_count": 33,
   "metadata": {},
   "outputs": [
    {
     "data": {
      "text/plain": [
       "(286044, 228835, 57209)"
      ]
     },
     "execution_count": 33,
     "metadata": {},
     "output_type": "execute_result"
    }
   ],
   "source": [
    "len(df_geral), len(train), len(test)"
   ]
  },
  {
   "cell_type": "code",
   "execution_count": 34,
   "metadata": {},
   "outputs": [],
   "source": [
    "X = df_geral['full_text'].values.astype(str)\n",
    "X_train = train['full_text'].values.astype(str)\n",
    "X_test = test['full_text'].values.astype(str)\n",
    "y_train = train['sentimento']\n",
    "y_test = test['sentimento']"
   ]
  },
  {
   "cell_type": "code",
   "execution_count": 35,
   "metadata": {},
   "outputs": [
    {
     "data": {
      "text/plain": [
       "61149"
      ]
     },
     "execution_count": 35,
     "metadata": {},
     "output_type": "execute_result"
    }
   ],
   "source": [
    "# treina um tokenizador nos dados de treino\n",
    "tokenizer = Tokenizer(num_words=61000)\n",
    "tokenizer.fit_on_texts(X)\n",
    "len(tokenizer.word_index)"
   ]
  },
  {
   "cell_type": "code",
   "execution_count": 36,
   "metadata": {},
   "outputs": [],
   "source": [
    "# tokeniza os dados\n",
    "X_train_token = tokenizer.texts_to_sequences(X_train)\n",
    "X_test_token = tokenizer.texts_to_sequences(X_test)"
   ]
  },
  {
   "cell_type": "code",
   "execution_count": 37,
   "metadata": {},
   "outputs": [
    {
     "data": {
      "text/plain": [
       "((228835, 250), (57209, 250))"
      ]
     },
     "execution_count": 37,
     "metadata": {},
     "output_type": "execute_result"
    }
   ],
   "source": [
    "# corta ou adiciona zeros em sequências maiores de 250\n",
    "X_train_padded = sequence.pad_sequences(X_train_token, maxlen=maxlen)\n",
    "X_test_padded = sequence.pad_sequences(X_test_token, maxlen=maxlen)\n",
    "X_train_padded.shape, X_test_padded.shape"
   ]
  },
  {
   "cell_type": "code",
   "execution_count": 38,
   "metadata": {},
   "outputs": [],
   "source": [
    "y_train = np.asarray(y_train).astype(np.float32)\n",
    "y_test = np.asarray(y_test).astype(np.float32)"
   ]
  },
  {
   "cell_type": "code",
   "execution_count": 39,
   "metadata": {},
   "outputs": [],
   "source": [
    "# monta o modelo de rede neural\n",
    "model = Sequential()\n",
    "model.add(Embedding(61000, 128, input_length=maxlen))\n",
    "model.add(Bidirectional(LSTM(32, return_sequences=True)))\n",
    "model.add(Dropout(0.3))\n",
    "model.add(Bidirectional(LSTM(32)))\n",
    "model.add(Dropout(0.3))\n",
    "model.add(Dense(1, activation='sigmoid'))"
   ]
  },
  {
   "cell_type": "code",
   "execution_count": 40,
   "metadata": {},
   "outputs": [],
   "source": [
    "model.compile('adam', 'binary_crossentropy', metrics=['accuracy'])"
   ]
  },
  {
   "cell_type": "code",
   "execution_count": 41,
   "metadata": {},
   "outputs": [
    {
     "name": "stdout",
     "output_type": "stream",
     "text": [
      "Model: \"sequential_2\"\n",
      "_________________________________________________________________\n",
      "Layer (type)                 Output Shape              Param #   \n",
      "=================================================================\n",
      "embedding_2 (Embedding)      (None, 250, 128)          7808000   \n",
      "_________________________________________________________________\n",
      "bidirectional_4 (Bidirection (None, 250, 64)           41216     \n",
      "_________________________________________________________________\n",
      "dropout_4 (Dropout)          (None, 250, 64)           0         \n",
      "_________________________________________________________________\n",
      "bidirectional_5 (Bidirection (None, 64)                24832     \n",
      "_________________________________________________________________\n",
      "dropout_5 (Dropout)          (None, 64)                0         \n",
      "_________________________________________________________________\n",
      "dense_2 (Dense)              (None, 1)                 65        \n",
      "=================================================================\n",
      "Total params: 7,874,113\n",
      "Trainable params: 7,874,113\n",
      "Non-trainable params: 0\n",
      "_________________________________________________________________\n"
     ]
    }
   ],
   "source": [
    "model.summary()"
   ]
  },
  {
   "cell_type": "code",
   "execution_count": 183,
   "metadata": {
    "scrolled": false
   },
   "outputs": [
    {
     "name": "stdout",
     "output_type": "stream",
     "text": [
      "Epoch 1/5\n",
      "894/894 [==============================] - 5236s 6s/step - loss: 0.2092 - accuracy: 0.9199\n",
      "Epoch 2/5\n",
      "894/894 [==============================] - 5279s 6s/step - loss: 0.1330 - accuracy: 0.9537\n",
      "Epoch 3/5\n",
      "894/894 [==============================] - 5387s 6s/step - loss: 0.1089 - accuracy: 0.9633\n",
      "Epoch 4/5\n",
      "894/894 [==============================] - 5377s 6s/step - loss: 0.0940 - accuracy: 0.9691\n",
      "Epoch 5/5\n",
      "894/894 [==============================] - 5385s 6s/step - loss: 0.0820 - accuracy: 0.9734\n"
     ]
    },
    {
     "data": {
      "text/plain": [
       "<tensorflow.python.keras.callbacks.History at 0x23be08f1648>"
      ]
     },
     "execution_count": 183,
     "metadata": {},
     "output_type": "execute_result"
    }
   ],
   "source": [
    "# treina a rede neural\n",
    "model.fit(x=X_train_padded, y=y_train, batch_size=256, epochs=5)"
   ]
  },
  {
   "cell_type": "code",
   "execution_count": 184,
   "metadata": {},
   "outputs": [
    {
     "name": "stdout",
     "output_type": "stream",
     "text": [
      "1788/1788 [==============================] - 160s 90ms/step - loss: 0.1880 - accuracy: 0.9407\n"
     ]
    }
   ],
   "source": [
    "#comparar os resultados\n",
    "acc = model.evaluate(x=X_test_padded, y=y_test)"
   ]
  },
  {
   "cell_type": "code",
   "execution_count": 185,
   "metadata": {},
   "outputs": [
    {
     "name": "stdout",
     "output_type": "stream",
     "text": [
      "Modelo salvo em disco!\n"
     ]
    }
   ],
   "source": [
    "# serialize model to JSON\n",
    "model_json = model.to_json()\n",
    "with open(\"model_final_M2_SM.json\", \"w\") as json_file:\n",
    "    json_file.write(model_json)\n",
    "# serialize weights to HDF5\n",
    "model.save_weights(\"model_final_M2_SM.h5\")\n",
    "print(\"Modelo salvo em disco!\")"
   ]
  },
  {
   "cell_type": "code",
   "execution_count": 112,
   "metadata": {},
   "outputs": [],
   "source": [
    "# Exportando o dataset Unificado para um CSV\n",
    "df_geral.to_csv('dataset_unificado.csv')"
   ]
  }
 ],
 "metadata": {
  "kernelspec": {
   "display_name": "Python 3",
   "language": "python",
   "name": "python3"
  },
  "language_info": {
   "codemirror_mode": {
    "name": "ipython",
    "version": 3
   },
   "file_extension": ".py",
   "mimetype": "text/x-python",
   "name": "python",
   "nbconvert_exporter": "python",
   "pygments_lexer": "ipython3",
   "version": "3.7.4"
  }
 },
 "nbformat": 4,
 "nbformat_minor": 2
}
