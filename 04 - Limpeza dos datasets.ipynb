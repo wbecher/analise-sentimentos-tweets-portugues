{
 "cells": [
  {
   "cell_type": "markdown",
   "metadata": {},
   "source": [
    "## Etapa 4: Limpeza dos dados\n",
    "\n",
    "Agora que possuimos os dois datasets que serão utilizados, um para treinar o modelo e o outro que queremos prever, vamos começar a tratar os dados para que a lingagem informal seja minimizada, e assim tentar melhorar a precisão do modelo. Também faremos a mesma limpeza em outros três datasets que utilizaremos para validação do modelo."
   ]
  },
  {
   "cell_type": "code",
   "execution_count": 1,
   "metadata": {},
   "outputs": [],
   "source": [
    "import pandas as pd \n",
    "import numpy as np\n",
    "import re"
   ]
  },
  {
   "cell_type": "code",
   "execution_count": 2,
   "metadata": {},
   "outputs": [
    {
     "data": {
      "text/html": [
       "<div>\n",
       "<style scoped>\n",
       "    .dataframe tbody tr th:only-of-type {\n",
       "        vertical-align: middle;\n",
       "    }\n",
       "\n",
       "    .dataframe tbody tr th {\n",
       "        vertical-align: top;\n",
       "    }\n",
       "\n",
       "    .dataframe thead th {\n",
       "        text-align: right;\n",
       "    }\n",
       "</style>\n",
       "<table border=\"1\" class=\"dataframe\">\n",
       "  <thead>\n",
       "    <tr style=\"text-align: right;\">\n",
       "      <th></th>\n",
       "      <th>content</th>\n",
       "      <th>score</th>\n",
       "    </tr>\n",
       "  </thead>\n",
       "  <tbody>\n",
       "    <tr>\n",
       "      <td>0</td>\n",
       "      <td>Gente, mudem pro design anterior. A interface ...</td>\n",
       "      <td>5</td>\n",
       "    </tr>\n",
       "    <tr>\n",
       "      <td>1</td>\n",
       "      <td>Gosto muito desse banco, mas farei uma crítica...</td>\n",
       "      <td>5</td>\n",
       "    </tr>\n",
       "    <tr>\n",
       "      <td>2</td>\n",
       "      <td>Até agora estou gostando, realmente essa nova ...</td>\n",
       "      <td>5</td>\n",
       "    </tr>\n",
       "    <tr>\n",
       "      <td>3</td>\n",
       "      <td>Adoro esse APP. Raramente apresenta alguma fal...</td>\n",
       "      <td>5</td>\n",
       "    </tr>\n",
       "    <tr>\n",
       "      <td>4</td>\n",
       "      <td>Simplesmente maravilhoso!! Eu nunca vi um banc...</td>\n",
       "      <td>5</td>\n",
       "    </tr>\n",
       "  </tbody>\n",
       "</table>\n",
       "</div>"
      ],
      "text/plain": [
       "                                             content  score\n",
       "0  Gente, mudem pro design anterior. A interface ...      5\n",
       "1  Gosto muito desse banco, mas farei uma crítica...      5\n",
       "2  Até agora estou gostando, realmente essa nova ...      5\n",
       "3  Adoro esse APP. Raramente apresenta alguma fal...      5\n",
       "4  Simplesmente maravilhoso!! Eu nunca vi um banc...      5"
      ]
     },
     "execution_count": 2,
     "metadata": {},
     "output_type": "execute_result"
    }
   ],
   "source": [
    "# importando dataset de reviews\n",
    "data = pd.read_csv('reviews_geral.csv', index_col=0)\n",
    "data.head()"
   ]
  },
  {
   "cell_type": "code",
   "execution_count": 3,
   "metadata": {
    "scrolled": true
   },
   "outputs": [
    {
     "data": {
      "text/html": [
       "<div>\n",
       "<style scoped>\n",
       "    .dataframe tbody tr th:only-of-type {\n",
       "        vertical-align: middle;\n",
       "    }\n",
       "\n",
       "    .dataframe tbody tr th {\n",
       "        vertical-align: top;\n",
       "    }\n",
       "\n",
       "    .dataframe thead th {\n",
       "        text-align: right;\n",
       "    }\n",
       "</style>\n",
       "<table border=\"1\" class=\"dataframe\">\n",
       "  <thead>\n",
       "    <tr style=\"text-align: right;\">\n",
       "      <th></th>\n",
       "      <th>in_reply_to_screen_name</th>\n",
       "      <th>full_text</th>\n",
       "      <th>sentimento</th>\n",
       "    </tr>\n",
       "  </thead>\n",
       "  <tbody>\n",
       "    <tr>\n",
       "      <td>0</td>\n",
       "      <td>santander_br</td>\n",
       "      <td>isso qualquer operacao que eu tente fazer em ...</td>\n",
       "      <td>NaN</td>\n",
       "    </tr>\n",
       "    <tr>\n",
       "      <td>1</td>\n",
       "      <td>santander_br</td>\n",
       "      <td>a atendente pagou pela segunda vez a fatura d...</td>\n",
       "      <td>NaN</td>\n",
       "    </tr>\n",
       "    <tr>\n",
       "      <td>2</td>\n",
       "      <td>Bancointer</td>\n",
       "      <td>pode trazer o meus</td>\n",
       "      <td>NaN</td>\n",
       "    </tr>\n",
       "    <tr>\n",
       "      <td>3</td>\n",
       "      <td>santander_br</td>\n",
       "      <td>nao estou conseguindo gerar cartao compra onl...</td>\n",
       "      <td>NaN</td>\n",
       "    </tr>\n",
       "    <tr>\n",
       "      <td>4</td>\n",
       "      <td>itau</td>\n",
       "      <td>mas foi e o setup foi bem facil muito bom</td>\n",
       "      <td>NaN</td>\n",
       "    </tr>\n",
       "  </tbody>\n",
       "</table>\n",
       "</div>"
      ],
      "text/plain": [
       "  in_reply_to_screen_name                                          full_text  \\\n",
       "0            santander_br   isso qualquer operacao que eu tente fazer em ...   \n",
       "1            santander_br   a atendente pagou pela segunda vez a fatura d...   \n",
       "2              Bancointer                                 pode trazer o meus   \n",
       "3            santander_br   nao estou conseguindo gerar cartao compra onl...   \n",
       "4                    itau         mas foi e o setup foi bem facil muito bom    \n",
       "\n",
       "   sentimento  \n",
       "0         NaN  \n",
       "1         NaN  \n",
       "2         NaN  \n",
       "3         NaN  \n",
       "4         NaN  "
      ]
     },
     "execution_count": 3,
     "metadata": {},
     "output_type": "execute_result"
    }
   ],
   "source": [
    "# importando dataset de tweets\n",
    "tweets = pd.read_csv('dataset.csv', index_col=0)\n",
    "tweets.head()"
   ]
  },
  {
   "cell_type": "code",
   "execution_count": 4,
   "metadata": {
    "scrolled": true
   },
   "outputs": [
    {
     "name": "stderr",
     "output_type": "stream",
     "text": [
      "C:\\Users\\LBKnaak\\AppData\\Local\\Continuum\\anaconda3\\lib\\site-packages\\IPython\\core\\interactiveshell.py:3058: DtypeWarning: Columns (2) have mixed types. Specify dtype option on import or set low_memory=False.\n",
      "  interactivity=interactivity, compiler=compiler, result=result)\n"
     ]
    }
   ],
   "source": [
    "# importando datasets de validação\n",
    "B2W = pd.read_csv('B2W-Reviews01.csv', delimiter=';')\n",
    "tweets_aleatorios = pd.read_csv('NoThemeTweets.csv')\n",
    "imdb = pd.read_csv('imdb-reviews-pt-br.csv')"
   ]
  },
  {
   "cell_type": "code",
   "execution_count": 5,
   "metadata": {},
   "outputs": [
    {
     "data": {
      "text/html": [
       "<div>\n",
       "<style scoped>\n",
       "    .dataframe tbody tr th:only-of-type {\n",
       "        vertical-align: middle;\n",
       "    }\n",
       "\n",
       "    .dataframe tbody tr th {\n",
       "        vertical-align: top;\n",
       "    }\n",
       "\n",
       "    .dataframe thead th {\n",
       "        text-align: right;\n",
       "    }\n",
       "</style>\n",
       "<table border=\"1\" class=\"dataframe\">\n",
       "  <thead>\n",
       "    <tr style=\"text-align: right;\">\n",
       "      <th></th>\n",
       "      <th>submission_date</th>\n",
       "      <th>reviewer_id</th>\n",
       "      <th>product_id</th>\n",
       "      <th>product_name</th>\n",
       "      <th>product_brand</th>\n",
       "      <th>site_category_lv1</th>\n",
       "      <th>site_category_lv2</th>\n",
       "      <th>review_title</th>\n",
       "      <th>overall_rating</th>\n",
       "      <th>recommend_to_a_friend</th>\n",
       "      <th>review_text</th>\n",
       "      <th>reviewer_birth_year</th>\n",
       "      <th>reviewer_gender</th>\n",
       "      <th>reviewer_state</th>\n",
       "    </tr>\n",
       "  </thead>\n",
       "  <tbody>\n",
       "    <tr>\n",
       "      <td>0</td>\n",
       "      <td>2018-01-01 00:11:28</td>\n",
       "      <td>d0fb1ca69422530334178f5c8624aa7a99da47907c44de...</td>\n",
       "      <td>132532965</td>\n",
       "      <td>Notebook Asus Vivobook Max X541NA-GO472T Intel...</td>\n",
       "      <td>NaN</td>\n",
       "      <td>Informática</td>\n",
       "      <td>Notebook</td>\n",
       "      <td>Bom</td>\n",
       "      <td>4</td>\n",
       "      <td>Yes</td>\n",
       "      <td>Estou contente com a compra entrega rápida o ú...</td>\n",
       "      <td>1958.0</td>\n",
       "      <td>F</td>\n",
       "      <td>RJ</td>\n",
       "    </tr>\n",
       "  </tbody>\n",
       "</table>\n",
       "</div>"
      ],
      "text/plain": [
       "       submission_date                                        reviewer_id  \\\n",
       "0  2018-01-01 00:11:28  d0fb1ca69422530334178f5c8624aa7a99da47907c44de...   \n",
       "\n",
       "  product_id                                       product_name product_brand  \\\n",
       "0  132532965  Notebook Asus Vivobook Max X541NA-GO472T Intel...           NaN   \n",
       "\n",
       "  site_category_lv1 site_category_lv2 review_title  overall_rating  \\\n",
       "0       Informática          Notebook          Bom               4   \n",
       "\n",
       "  recommend_to_a_friend                                        review_text  \\\n",
       "0                   Yes  Estou contente com a compra entrega rápida o ú...   \n",
       "\n",
       "   reviewer_birth_year reviewer_gender reviewer_state  \n",
       "0               1958.0               F             RJ  "
      ]
     },
     "execution_count": 5,
     "metadata": {},
     "output_type": "execute_result"
    }
   ],
   "source": [
    "B2W.head(1)"
   ]
  },
  {
   "cell_type": "code",
   "execution_count": 6,
   "metadata": {},
   "outputs": [
    {
     "data": {
      "text/html": [
       "<div>\n",
       "<style scoped>\n",
       "    .dataframe tbody tr th:only-of-type {\n",
       "        vertical-align: middle;\n",
       "    }\n",
       "\n",
       "    .dataframe tbody tr th {\n",
       "        vertical-align: top;\n",
       "    }\n",
       "\n",
       "    .dataframe thead th {\n",
       "        text-align: right;\n",
       "    }\n",
       "</style>\n",
       "<table border=\"1\" class=\"dataframe\">\n",
       "  <thead>\n",
       "    <tr style=\"text-align: right;\">\n",
       "      <th></th>\n",
       "      <th>id</th>\n",
       "      <th>tweet_text</th>\n",
       "      <th>tweet_date</th>\n",
       "      <th>sentiment</th>\n",
       "      <th>query_used</th>\n",
       "    </tr>\n",
       "  </thead>\n",
       "  <tbody>\n",
       "    <tr>\n",
       "      <td>0</td>\n",
       "      <td>1031761728445530112</td>\n",
       "      <td>@Tixaa23 14 para eu ir :)</td>\n",
       "      <td>Tue Aug 21 04:35:39 +0000 2018</td>\n",
       "      <td>Positivo</td>\n",
       "      <td>:)</td>\n",
       "    </tr>\n",
       "  </tbody>\n",
       "</table>\n",
       "</div>"
      ],
      "text/plain": [
       "                    id                 tweet_text  \\\n",
       "0  1031761728445530112  @Tixaa23 14 para eu ir :)   \n",
       "\n",
       "                       tweet_date sentiment query_used  \n",
       "0  Tue Aug 21 04:35:39 +0000 2018  Positivo         :)  "
      ]
     },
     "execution_count": 6,
     "metadata": {},
     "output_type": "execute_result"
    }
   ],
   "source": [
    "tweets_aleatorios.head(1)"
   ]
  },
  {
   "cell_type": "code",
   "execution_count": 7,
   "metadata": {},
   "outputs": [
    {
     "data": {
      "text/html": [
       "<div>\n",
       "<style scoped>\n",
       "    .dataframe tbody tr th:only-of-type {\n",
       "        vertical-align: middle;\n",
       "    }\n",
       "\n",
       "    .dataframe tbody tr th {\n",
       "        vertical-align: top;\n",
       "    }\n",
       "\n",
       "    .dataframe thead th {\n",
       "        text-align: right;\n",
       "    }\n",
       "</style>\n",
       "<table border=\"1\" class=\"dataframe\">\n",
       "  <thead>\n",
       "    <tr style=\"text-align: right;\">\n",
       "      <th></th>\n",
       "      <th>id</th>\n",
       "      <th>text_en</th>\n",
       "      <th>text_pt</th>\n",
       "      <th>sentiment</th>\n",
       "    </tr>\n",
       "  </thead>\n",
       "  <tbody>\n",
       "    <tr>\n",
       "      <td>0</td>\n",
       "      <td>1</td>\n",
       "      <td>Once again Mr. Costner has dragged out a movie...</td>\n",
       "      <td>Mais uma vez, o Sr. Costner arrumou um filme p...</td>\n",
       "      <td>neg</td>\n",
       "    </tr>\n",
       "  </tbody>\n",
       "</table>\n",
       "</div>"
      ],
      "text/plain": [
       "   id                                            text_en  \\\n",
       "0   1  Once again Mr. Costner has dragged out a movie...   \n",
       "\n",
       "                                             text_pt sentiment  \n",
       "0  Mais uma vez, o Sr. Costner arrumou um filme p...       neg  "
      ]
     },
     "execution_count": 7,
     "metadata": {},
     "output_type": "execute_result"
    }
   ],
   "source": [
    "imdb.head(1)"
   ]
  },
  {
   "cell_type": "code",
   "execution_count": 8,
   "metadata": {},
   "outputs": [],
   "source": [
    "# função para trocar a nota 5 da avaliação por 1 (positivo) e a nota 1 por 0 (negativo)\n",
    "def transforma_categoria(valor, categoria=1):\n",
    "    if valor == categoria:\n",
    "        return 0\n",
    "    else:\n",
    "        return 1\n",
    "\n",
    "# função para trocar 'pos' por 1 (positivo) e 'neg' por 0 (negativo)\n",
    "def transforma_categoria2(valor):\n",
    "    if valor == 'neg':\n",
    "        return 0\n",
    "    else:\n",
    "        return 1\n",
    "    \n",
    "# função para trocar 'Positivo' por 1 (positivo) e 'Negativo' por 0 (negativo)\n",
    "def transforma_categoria3(valor):\n",
    "    if valor == 'Negativo':\n",
    "        return 0\n",
    "    else:\n",
    "        return 1"
   ]
  },
  {
   "cell_type": "code",
   "execution_count": 9,
   "metadata": {},
   "outputs": [],
   "source": [
    "# aplicando a função de transformação da categoria\n",
    "data['score'] = data.score.map(transforma_categoria)\n",
    "\n",
    "imdb['sentiment'] = imdb.sentiment.map(transforma_categoria2)\n",
    "tweets_aleatorios['sentiment'] = tweets_aleatorios.sentiment.map(transforma_categoria3)\n",
    "#B2W['overall_rating'] = B2W.overall_rating.map(transforma_categoria)"
   ]
  },
  {
   "cell_type": "code",
   "execution_count": 10,
   "metadata": {},
   "outputs": [],
   "source": [
    "# função para remover letras duplicadas\n",
    "def removendo_duplicadas(texto):\n",
    "    lista = []\n",
    "    atual = ''\n",
    "    anterior = ''\n",
    "    for i in texto:\n",
    "        if i != atual:\n",
    "            lista.append(i)\n",
    "            atual = i\n",
    "        elif atual == 'r' or atual == 's':\n",
    "            lista.append(i)\n",
    "    return(''.join(lista))\n",
    "\n",
    "#função para limpeza do texto\n",
    "def limpa_texto(text):    \n",
    "    text = str(text)\n",
    "    text = re.sub('ã','a',text)\n",
    "    text = re.sub('á','a',text)\n",
    "    text = re.sub('à','a',text)\n",
    "    text = re.sub('â','a',text)\n",
    "    text = re.sub('ó','o',text)\n",
    "    text = re.sub('õ','o',text)\n",
    "    text = re.sub('ô','o',text)\n",
    "    text = re.sub('é','e',text)\n",
    "    text = re.sub('ê','e',text)\n",
    "    text = re.sub('í','i',text)\n",
    "    text = re.sub('ú','u',text)\n",
    "    text = re.sub('ç','c',text)    \n",
    "    text = re.sub(r'https?://\\S+|www.\\S+|@\\S+', '', text)\n",
    "    text = re.sub(r'<.*?>', '', text)\n",
    "    text = re.sub(r'[^a-zA-Z0-9]+', ' ', text)\n",
    "    text = re.sub(r'[0-9]', '', text)\n",
    "    text = text.lower()\n",
    "    text = removendo_duplicadas(text)\n",
    "    return text"
   ]
  },
  {
   "cell_type": "code",
   "execution_count": 11,
   "metadata": {},
   "outputs": [],
   "source": [
    "# aplicando a limpeza do texto nos datasets\n",
    "data['content'] = data.content.map(limpa_texto)\n",
    "tweets['full_text'] = tweets.full_text.map(limpa_texto)\n",
    "\n",
    "#validacao\n",
    "B2W['review_text'] = B2W.review_text.map(limpa_texto)\n",
    "imdb['text_pt'] = imdb.text_pt.map(limpa_texto)\n",
    "tweets_aleatorios['tweet_text'] = tweets_aleatorios.tweet_text.map(limpa_texto)"
   ]
  },
  {
   "cell_type": "code",
   "execution_count": 13,
   "metadata": {},
   "outputs": [],
   "source": [
    "# removendo colunas que não serão utilizadas\n",
    "tweets.drop(columns=['id_str','in_reply_to_status_id_str'], inplace=True)\n",
    "\n",
    "B2W.drop(columns=['submission_date','reviewer_id','product_id','product_name','product_brand','site_category_lv1','site_category_lv2','review_title','recommend_to_a_friend','reviewer_birth_year','reviewer_gender','reviewer_state'], inplace=True)\n",
    "imdb.drop((['text_en','id']), axis=1, inplace=True)\n",
    "tweets_aleatorios.drop((['id','tweet_date','query_used']), axis=1, inplace=True)"
   ]
  },
  {
   "cell_type": "code",
   "execution_count": 14,
   "metadata": {},
   "outputs": [],
   "source": [
    "# removendo vazios\n",
    "tweets.drop(tweets[tweets['full_text'] == ''].index, inplace=True)\n",
    "tweets.drop(tweets[tweets['full_text'] == ' '].index, inplace=True)\n",
    "data.drop(data[data['content'] == ''].index, inplace=True)\n",
    "data.drop(data[data['content'] == ' '].index, inplace=True)\n",
    "\n",
    "# Validação\n",
    "# removendo vazios e avaliações 2 a 4 do B2W\n",
    "B2W.drop(B2W[B2W['review_text'] == ''].index, inplace=True)\n",
    "B2W.drop(B2W[B2W['review_text'] == ' '].index, inplace=True)\n",
    "B2W.drop(B2W[B2W['overall_rating'] == 2].index, inplace=True)\n",
    "B2W.drop(B2W[B2W['overall_rating'] == 3].index, inplace=True)\n",
    "B2W.drop(B2W[B2W['overall_rating'] == 4].index, inplace=True)\n",
    "# removendo vazios\n",
    "imdb.drop(imdb[imdb['text_pt'] == ''].index, inplace=True)\n",
    "imdb.drop(imdb[imdb['text_pt'] == ' '].index, inplace=True)\n",
    "tweets_aleatorios.drop(tweets_aleatorios[tweets_aleatorios['tweet_text'] == ''].index, inplace=True)\n",
    "tweets_aleatorios.drop(tweets_aleatorios[tweets_aleatorios['tweet_text'] == ' '].index, inplace=True)\n"
   ]
  },
  {
   "cell_type": "code",
   "execution_count": 15,
   "metadata": {
    "scrolled": true
   },
   "outputs": [
    {
     "data": {
      "text/plain": [
       "0    119253\n",
       "1    117704\n",
       "Name: score, dtype: int64"
      ]
     },
     "execution_count": 15,
     "metadata": {},
     "output_type": "execute_result"
    }
   ],
   "source": [
    "data.score.value_counts()"
   ]
  },
  {
   "cell_type": "code",
   "execution_count": 16,
   "metadata": {},
   "outputs": [
    {
     "data": {
      "text/plain": [
       "0    24765\n",
       "1    24694\n",
       "Name: sentiment, dtype: int64"
      ]
     },
     "execution_count": 16,
     "metadata": {},
     "output_type": "execute_result"
    }
   ],
   "source": [
    "imdb.sentiment.value_counts()"
   ]
  },
  {
   "cell_type": "code",
   "execution_count": 17,
   "metadata": {
    "scrolled": true
   },
   "outputs": [
    {
     "data": {
      "text/plain": [
       "0    522698\n",
       "1    263094\n",
       "Name: sentiment, dtype: int64"
      ]
     },
     "execution_count": 17,
     "metadata": {},
     "output_type": "execute_result"
    }
   ],
   "source": [
    "tweets_aleatorios.sentiment.value_counts()"
   ]
  },
  {
   "cell_type": "code",
   "execution_count": 18,
   "metadata": {},
   "outputs": [],
   "source": [
    "# balanceando o dataset\n",
    "tweets_aleatorios.drop(tweets_aleatorios[tweets_aleatorios['sentiment'] == 0][:256000].index, inplace=True)"
   ]
  },
  {
   "cell_type": "code",
   "execution_count": 19,
   "metadata": {},
   "outputs": [
    {
     "data": {
      "text/plain": [
       "0    266698\n",
       "1    263094\n",
       "Name: sentiment, dtype: int64"
      ]
     },
     "execution_count": 19,
     "metadata": {},
     "output_type": "execute_result"
    }
   ],
   "source": [
    "tweets_aleatorios.sentiment.value_counts()"
   ]
  },
  {
   "cell_type": "code",
   "execution_count": 20,
   "metadata": {
    "scrolled": true
   },
   "outputs": [
    {
     "data": {
      "text/plain": [
       "5    47897\n",
       "1    27363\n",
       "Name: overall_rating, dtype: int64"
      ]
     },
     "execution_count": 20,
     "metadata": {},
     "output_type": "execute_result"
    }
   ],
   "source": [
    "B2W.overall_rating.value_counts()"
   ]
  },
  {
   "cell_type": "code",
   "execution_count": 21,
   "metadata": {},
   "outputs": [],
   "source": [
    "# balanceando o dataset\n",
    "B2W.drop(B2W[B2W['overall_rating'] == 5][:20000].index, inplace=True)"
   ]
  },
  {
   "cell_type": "code",
   "execution_count": 22,
   "metadata": {},
   "outputs": [],
   "source": [
    "# aplicando a função de transformação da categoria\n",
    "B2W['overall_rating'] = B2W.overall_rating.map(transforma_categoria)"
   ]
  },
  {
   "cell_type": "code",
   "execution_count": 23,
   "metadata": {},
   "outputs": [
    {
     "data": {
      "text/plain": [
       "1    27897\n",
       "0    27363\n",
       "Name: overall_rating, dtype: int64"
      ]
     },
     "execution_count": 23,
     "metadata": {},
     "output_type": "execute_result"
    }
   ],
   "source": [
    "B2W.overall_rating.value_counts()"
   ]
  },
  {
   "cell_type": "code",
   "execution_count": 24,
   "metadata": {
    "scrolled": false
   },
   "outputs": [
    {
     "data": {
      "text/plain": [
       "False    122524\n",
       "Name: full_text, dtype: int64"
      ]
     },
     "execution_count": 24,
     "metadata": {},
     "output_type": "execute_result"
    }
   ],
   "source": [
    "# verificando a existencia de nulos\n",
    "tweets.full_text.isna().value_counts()"
   ]
  },
  {
   "cell_type": "code",
   "execution_count": 25,
   "metadata": {},
   "outputs": [
    {
     "data": {
      "text/plain": [
       "False    236957\n",
       "Name: content, dtype: int64"
      ]
     },
     "execution_count": 25,
     "metadata": {},
     "output_type": "execute_result"
    }
   ],
   "source": [
    "# verificando a existencia de nulos\n",
    "data.content.isna().value_counts()"
   ]
  },
  {
   "cell_type": "code",
   "execution_count": 26,
   "metadata": {
    "scrolled": true
   },
   "outputs": [
    {
     "data": {
      "text/plain": [
       "False    49459\n",
       "Name: text_pt, dtype: int64"
      ]
     },
     "execution_count": 26,
     "metadata": {},
     "output_type": "execute_result"
    }
   ],
   "source": [
    "# verificando a existencia de nulos\n",
    "imdb.text_pt.isna().value_counts()"
   ]
  },
  {
   "cell_type": "code",
   "execution_count": 27,
   "metadata": {},
   "outputs": [
    {
     "data": {
      "text/plain": [
       "False    529792\n",
       "Name: tweet_text, dtype: int64"
      ]
     },
     "execution_count": 27,
     "metadata": {},
     "output_type": "execute_result"
    }
   ],
   "source": [
    "# verificando a existencia de nulos\n",
    "tweets_aleatorios.tweet_text.isna().value_counts()"
   ]
  },
  {
   "cell_type": "code",
   "execution_count": 28,
   "metadata": {},
   "outputs": [
    {
     "data": {
      "text/plain": [
       "False    55260\n",
       "Name: review_text, dtype: int64"
      ]
     },
     "execution_count": 28,
     "metadata": {},
     "output_type": "execute_result"
    }
   ],
   "source": [
    "# verificando a existencia de nulos\n",
    "B2W.review_text.isna().value_counts()"
   ]
  },
  {
   "cell_type": "code",
   "execution_count": 29,
   "metadata": {},
   "outputs": [],
   "source": [
    "# gravando dataset limpo\n",
    "tweets.to_csv('dataset.csv')\n",
    "data.to_csv('reviews_geral_limpo.csv')\n",
    "\n",
    "# validação\n",
    "imdb.to_csv('imdb_limpo.csv')\n",
    "tweets_aleatorios.to_csv('tweets_aleatorios_limpo.csv')\n",
    "B2W.to_csv('B2W_limpo.csv')"
   ]
  },
  {
   "cell_type": "markdown",
   "metadata": {},
   "source": [
    "Para facilitar a aplicação dos modelos futuros, vamos deixar salvo um dataset de treino e teste."
   ]
  },
  {
   "cell_type": "code",
   "execution_count": 30,
   "metadata": {},
   "outputs": [],
   "source": [
    "from sklearn.model_selection import train_test_split"
   ]
  },
  {
   "cell_type": "code",
   "execution_count": 31,
   "metadata": {},
   "outputs": [],
   "source": [
    "# separa dados em treino e teste\n",
    "train, test, _, _ = train_test_split(data, data['content'], test_size=0.3, random_state=42)"
   ]
  },
  {
   "cell_type": "code",
   "execution_count": 32,
   "metadata": {},
   "outputs": [],
   "source": [
    "# gravando um dataset de treino\n",
    "train.to_csv('train.csv')"
   ]
  },
  {
   "cell_type": "code",
   "execution_count": 33,
   "metadata": {},
   "outputs": [],
   "source": [
    "# gravando um dataset de teste\n",
    "test.to_csv('test.csv')"
   ]
  }
 ],
 "metadata": {
  "kernelspec": {
   "display_name": "Python 3",
   "language": "python",
   "name": "python3"
  },
  "language_info": {
   "codemirror_mode": {
    "name": "ipython",
    "version": 3
   },
   "file_extension": ".py",
   "mimetype": "text/x-python",
   "name": "python",
   "nbconvert_exporter": "python",
   "pygments_lexer": "ipython3",
   "version": "3.7.4"
  }
 },
 "nbformat": 4,
 "nbformat_minor": 2
}
