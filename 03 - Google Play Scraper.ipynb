{
 "cells": [
  {
   "cell_type": "markdown",
   "metadata": {},
   "source": [
    "## Etapa 3: Coleta do dataset rotulado\n",
    "\n",
    "Para conseguirmos treinar um modelo de previsão de sentimentos, precisamos de uma base rotulada, mas conseguir uma base em português, de tweets e dentro do contexto, não é uma tarefa facil! Assim decidimos criar a nossa propria base rotulada, em português e de certa forma contextualizada. Para isso utilizamos os comentarios dos Apps das empresas monitoradas na Google Store, onde tomamos a pressisa de que notas 5 estrelas são comentários positivos e nota 1 estrela comentários negativos. Não utilizamos as notas 2, 3 e 4."
   ]
  },
  {
   "cell_type": "code",
   "execution_count": 1,
   "metadata": {
    "scrolled": false
   },
   "outputs": [
    {
     "name": "stderr",
     "output_type": "stream",
     "text": [
      "WARNING: You are using pip version 21.0.1; however, version 21.1.3 is available.\n",
      "You should consider upgrading via the 'c:\\users\\lbknaak\\appdata\\local\\continuum\\anaconda3\\python.exe -m pip install --upgrade pip' command.\n"
     ]
    }
   ],
   "source": [
    "!pip install google-play-scraper -q"
   ]
  },
  {
   "cell_type": "code",
   "execution_count": 33,
   "metadata": {},
   "outputs": [],
   "source": [
    "from google_play_scraper import app\n",
    "from google_play_scraper import Sort, reviews_all\n",
    "import pandas as pd\n",
    "import json\n",
    "import datetime"
   ]
  },
  {
   "cell_type": "code",
   "execution_count": 34,
   "metadata": {},
   "outputs": [],
   "source": [
    "#Setando a url do app das empresas  \n",
    "\n",
    "nubank = 'com.nu.production'\n",
    "banco_inter = 'br.com.intermedium'\n",
    "c6bank = 'com.c6bank.app'\n",
    "timeneon = 'br.com.neon'\n",
    "Bradesco = 'com.bradesco'\n",
    "santander_br = 'com.santander.app'  \n",
    "BancodoBrasil = 'br.com.bb.android'   \n",
    "itau = 'com.itau'\n",
    " \n",
    "NetflixBrasil = 'com.netflix.mediaclient'\n",
    "PrimeVideoBR = 'com.amazon.avod.thirdpartyclient'\n",
    "globoplay = 'com.globo.globotv'\n",
    "DisneyPlusBR = 'com.disney.disneyplus'\n",
    "\n",
    "submarino = 'com.b2w.submarino'\n",
    "americanascom = 'com.b2w.americanas'\n",
    "pontofrio = 'com.sonyericsson.pontofrio'\n",
    "amazonBR = 'com.amazon.mShop.android.shopping'\n",
    "CasasBahia = 'com.novapontocom.casasbahia'\n",
    "\n",
    "CocaCola_Br = ''\n",
    "PepsiBr = ''\n",
    "brkindle = ''\n",
    "\n",
    "Lista_Bancos = [nubank, banco_inter, c6bank, timeneon, Bradesco, santander_br, BancodoBrasil, itau]\n",
    "Lista_Streamers = [NetflixBrasil, PrimeVideoBR, globoplay, DisneyPlusBR]\n",
    "Lista_marketplace = [submarino, americanascom, pontofrio, amazonBR, CasasBahia]\n",
    "#Lista_outros = [CocaCola_Br, PepsiBr, brkindle]"
   ]
  },
  {
   "cell_type": "code",
   "execution_count": 35,
   "metadata": {},
   "outputs": [],
   "source": [
    "def busca_review_unico(app):\n",
    "    \n",
    "    positivos = reviews_all(\n",
    "    app,\n",
    "    sleep_milliseconds=0, # defaults to 0\n",
    "    lang='pt', # defaults to 'en'\n",
    "    country='br', # defaults to 'us'\n",
    "    sort=Sort.MOST_RELEVANT, # defaults to Sort.MOST_RELEVANT\n",
    "    filter_score_with=5 # defaults to None(means all score)\n",
    "    )\n",
    "    \n",
    "    negativos = reviews_all(\n",
    "    app,\n",
    "    sleep_milliseconds=0, # defaults to 0\n",
    "    lang='pt', # defaults to 'en'\n",
    "    country='br', # defaults to 'us'\n",
    "    sort=Sort.MOST_RELEVANT, # defaults to Sort.MOST_RELEVANT\n",
    "    filter_score_with=1 # defaults to None(means all score)\n",
    "    )\n",
    "    print('APP : ', app)\n",
    "    print('Reviews Positivos : ',len(positivos))\n",
    "    print('Reviews Negativos : ',len(negativos))\n",
    "    print('-----------------------------------------')\n",
    "    return positivos, negativos\n",
    "    "
   ]
  },
  {
   "cell_type": "code",
   "execution_count": 36,
   "metadata": {},
   "outputs": [],
   "source": [
    "def busca_review_lista(lista_app):\n",
    "    rev_positivos, rev_negativos = [],[]\n",
    "    for apps in  lista_app:\n",
    "        positivos, negativos = busca_review_unico(apps)\n",
    "        rev_positivos += positivos\n",
    "        rev_negativos += negativos\n",
    "    \n",
    "    print('-----------------------------------------')    \n",
    "    print('Total Reviews Positivos : ',len(rev_positivos))\n",
    "    print('Total Reviews Negativos : ',len(rev_negativos))\n",
    "    print('-----------------------------------------')\n",
    "    return rev_positivos, rev_negativos"
   ]
  },
  {
   "cell_type": "code",
   "execution_count": 37,
   "metadata": {},
   "outputs": [],
   "source": [
    "def defaultconverter(o):\n",
    "    if isinstance(o, datetime.datetime):\n",
    "        return o.__str__()"
   ]
  },
  {
   "cell_type": "code",
   "execution_count": 38,
   "metadata": {},
   "outputs": [],
   "source": [
    "def converte_jason_para_dataframe(lista_positiva, lista_negativa):\n",
    "    rev_positivos_json = json.dumps(lista_positiva, default = defaultconverter)\n",
    "    rev_negativos_json = json.dumps(lista_negativa, default = defaultconverter)\n",
    "    \n",
    "    df_positivos = pd.read_json(rev_positivos_json)\n",
    "    df_negativos = pd.read_json(rev_negativos_json)\n",
    "    \n",
    "    df_positivos=df_positivos[(['content','score'])]\n",
    "    df_negativos=df_negativos[(['content','score'])]\n",
    "    \n",
    "    df_ = pd.concat([df_positivos, df_negativos], ignore_index=True)\n",
    "    \n",
    "    return df_"
   ]
  },
  {
   "cell_type": "code",
   "execution_count": 39,
   "metadata": {
    "scrolled": false
   },
   "outputs": [
    {
     "name": "stdout",
     "output_type": "stream",
     "text": [
      "APP :  com.nu.production\n",
      "Reviews Positivos :  5970\n",
      "Reviews Negativos :  6965\n",
      "-----------------------------------------\n",
      "APP :  br.com.intermedium\n",
      "Reviews Positivos :  1990\n",
      "Reviews Negativos :  14726\n",
      "-----------------------------------------\n",
      "APP :  com.c6bank.app\n",
      "Reviews Positivos :  24477\n",
      "Reviews Negativos :  19303\n",
      "-----------------------------------------\n",
      "APP :  br.com.neon\n",
      "Reviews Positivos :  796\n",
      "Reviews Negativos :  2786\n",
      "-----------------------------------------\n",
      "APP :  com.bradesco\n",
      "Reviews Positivos :  2786\n",
      "Reviews Negativos :  11144\n",
      "-----------------------------------------\n",
      "APP :  com.santander.app\n",
      "Reviews Positivos :  597\n",
      "Reviews Negativos :  12139\n",
      "-----------------------------------------\n",
      "APP :  br.com.bb.android\n",
      "Reviews Positivos :  6766\n",
      "Reviews Negativos :  5174\n",
      "-----------------------------------------\n",
      "APP :  com.itau\n",
      "Reviews Positivos :  597\n",
      "Reviews Negativos :  1990\n",
      "-----------------------------------------\n",
      "-----------------------------------------\n",
      "Total Reviews Positivos :  43979\n",
      "Total Reviews Negativos :  74227\n",
      "-----------------------------------------\n"
     ]
    }
   ],
   "source": [
    "# Capturando os dados da lista de bancos\n",
    "rev_positivos, rev_negativos = busca_review_lista(Lista_Bancos)"
   ]
  },
  {
   "cell_type": "code",
   "execution_count": 40,
   "metadata": {},
   "outputs": [
    {
     "data": {
      "text/html": [
       "<div>\n",
       "<style scoped>\n",
       "    .dataframe tbody tr th:only-of-type {\n",
       "        vertical-align: middle;\n",
       "    }\n",
       "\n",
       "    .dataframe tbody tr th {\n",
       "        vertical-align: top;\n",
       "    }\n",
       "\n",
       "    .dataframe thead th {\n",
       "        text-align: right;\n",
       "    }\n",
       "</style>\n",
       "<table border=\"1\" class=\"dataframe\">\n",
       "  <thead>\n",
       "    <tr style=\"text-align: right;\">\n",
       "      <th></th>\n",
       "      <th>content</th>\n",
       "      <th>score</th>\n",
       "    </tr>\n",
       "  </thead>\n",
       "  <tbody>\n",
       "    <tr>\n",
       "      <td>0</td>\n",
       "      <td>Gente, mudem pro design anterior. A interface ...</td>\n",
       "      <td>5</td>\n",
       "    </tr>\n",
       "    <tr>\n",
       "      <td>1</td>\n",
       "      <td>Gosto muito desse banco, mas farei uma crítica...</td>\n",
       "      <td>5</td>\n",
       "    </tr>\n",
       "    <tr>\n",
       "      <td>2</td>\n",
       "      <td>Até agora estou gostando, realmente essa nova ...</td>\n",
       "      <td>5</td>\n",
       "    </tr>\n",
       "    <tr>\n",
       "      <td>3</td>\n",
       "      <td>Adoro esse APP. Raramente apresenta alguma fal...</td>\n",
       "      <td>5</td>\n",
       "    </tr>\n",
       "    <tr>\n",
       "      <td>4</td>\n",
       "      <td>Simplesmente maravilhoso!! Eu nunca vi um banc...</td>\n",
       "      <td>5</td>\n",
       "    </tr>\n",
       "    <tr>\n",
       "      <td>...</td>\n",
       "      <td>...</td>\n",
       "      <td>...</td>\n",
       "    </tr>\n",
       "    <tr>\n",
       "      <td>118201</td>\n",
       "      <td>O Aplicativo não está enviando SMS para efetua...</td>\n",
       "      <td>1</td>\n",
       "    </tr>\n",
       "    <tr>\n",
       "      <td>118202</td>\n",
       "      <td>O APP tá me pedindo uma atualização que não ex...</td>\n",
       "      <td>1</td>\n",
       "    </tr>\n",
       "    <tr>\n",
       "      <td>118203</td>\n",
       "      <td>Olá só queria falar que esse aplicativo não es...</td>\n",
       "      <td>1</td>\n",
       "    </tr>\n",
       "    <tr>\n",
       "      <td>118204</td>\n",
       "      <td>O app esta dando erro, travando e nao consigo ...</td>\n",
       "      <td>1</td>\n",
       "    </tr>\n",
       "    <tr>\n",
       "      <td>118205</td>\n",
       "      <td>Atualizações constantes sem beneficios algum,s...</td>\n",
       "      <td>1</td>\n",
       "    </tr>\n",
       "  </tbody>\n",
       "</table>\n",
       "<p>118206 rows × 2 columns</p>\n",
       "</div>"
      ],
      "text/plain": [
       "                                                  content  score\n",
       "0       Gente, mudem pro design anterior. A interface ...      5\n",
       "1       Gosto muito desse banco, mas farei uma crítica...      5\n",
       "2       Até agora estou gostando, realmente essa nova ...      5\n",
       "3       Adoro esse APP. Raramente apresenta alguma fal...      5\n",
       "4       Simplesmente maravilhoso!! Eu nunca vi um banc...      5\n",
       "...                                                   ...    ...\n",
       "118201  O Aplicativo não está enviando SMS para efetua...      1\n",
       "118202  O APP tá me pedindo uma atualização que não ex...      1\n",
       "118203  Olá só queria falar que esse aplicativo não es...      1\n",
       "118204  O app esta dando erro, travando e nao consigo ...      1\n",
       "118205  Atualizações constantes sem beneficios algum,s...      1\n",
       "\n",
       "[118206 rows x 2 columns]"
      ]
     },
     "execution_count": 40,
     "metadata": {},
     "output_type": "execute_result"
    }
   ],
   "source": [
    "# Armazenando em um pandas dataset\n",
    "df_bancos = converte_jason_para_dataframe(rev_positivos, rev_negativos)\n",
    "df_bancos"
   ]
  },
  {
   "cell_type": "code",
   "execution_count": 41,
   "metadata": {},
   "outputs": [],
   "source": [
    "# Exportando pra um CSV\n",
    "df_bancos.to_csv('reviews_bancos.csv')"
   ]
  },
  {
   "cell_type": "code",
   "execution_count": 42,
   "metadata": {
    "scrolled": true
   },
   "outputs": [
    {
     "name": "stdout",
     "output_type": "stream",
     "text": [
      "APP :  com.netflix.mediaclient\n",
      "Reviews Positivos :  8955\n",
      "Reviews Negativos :  995\n",
      "-----------------------------------------\n",
      "APP :  com.amazon.avod.thirdpartyclient\n",
      "Reviews Positivos :  1791\n",
      "Reviews Negativos :  1990\n",
      "-----------------------------------------\n",
      "APP :  com.globo.globotv\n",
      "Reviews Positivos :  34427\n",
      "Reviews Negativos :  8358\n",
      "-----------------------------------------\n",
      "APP :  com.disney.disneyplus\n",
      "Reviews Positivos :  1990\n",
      "Reviews Negativos :  199\n",
      "-----------------------------------------\n",
      "-----------------------------------------\n",
      "Total Reviews Positivos :  47163\n",
      "Total Reviews Negativos :  11542\n",
      "-----------------------------------------\n"
     ]
    }
   ],
   "source": [
    "# Capturando os dados da lista de Streamers\n",
    "rev_positivos_stream, rev_negativos_stream = busca_review_lista(Lista_Streamers)"
   ]
  },
  {
   "cell_type": "code",
   "execution_count": 43,
   "metadata": {
    "scrolled": true
   },
   "outputs": [
    {
     "data": {
      "text/html": [
       "<div>\n",
       "<style scoped>\n",
       "    .dataframe tbody tr th:only-of-type {\n",
       "        vertical-align: middle;\n",
       "    }\n",
       "\n",
       "    .dataframe tbody tr th {\n",
       "        vertical-align: top;\n",
       "    }\n",
       "\n",
       "    .dataframe thead th {\n",
       "        text-align: right;\n",
       "    }\n",
       "</style>\n",
       "<table border=\"1\" class=\"dataframe\">\n",
       "  <thead>\n",
       "    <tr style=\"text-align: right;\">\n",
       "      <th></th>\n",
       "      <th>content</th>\n",
       "      <th>score</th>\n",
       "    </tr>\n",
       "  </thead>\n",
       "  <tbody>\n",
       "    <tr>\n",
       "      <td>0</td>\n",
       "      <td>Não tenho do que reclamar sobre o serviço, mas...</td>\n",
       "      <td>5</td>\n",
       "    </tr>\n",
       "    <tr>\n",
       "      <td>1</td>\n",
       "      <td>Excelente plataforma...Mas eu opinaria por col...</td>\n",
       "      <td>5</td>\n",
       "    </tr>\n",
       "    <tr>\n",
       "      <td>2</td>\n",
       "      <td>Uma observação. Essa última atualização não es...</td>\n",
       "      <td>5</td>\n",
       "    </tr>\n",
       "    <tr>\n",
       "      <td>3</td>\n",
       "      <td>Eu acho que até agora é a melhor plataforma de...</td>\n",
       "      <td>5</td>\n",
       "    </tr>\n",
       "    <tr>\n",
       "      <td>4</td>\n",
       "      <td>muito bom, porém as vezes a tela fica atrapalh...</td>\n",
       "      <td>5</td>\n",
       "    </tr>\n",
       "    <tr>\n",
       "      <td>...</td>\n",
       "      <td>...</td>\n",
       "      <td>...</td>\n",
       "    </tr>\n",
       "    <tr>\n",
       "      <td>58700</td>\n",
       "      <td>Arrumem isso. O app não está carregando. Fica ...</td>\n",
       "      <td>1</td>\n",
       "    </tr>\n",
       "    <tr>\n",
       "      <td>58701</td>\n",
       "      <td>Incrível como uma marca tão grande como a Disn...</td>\n",
       "      <td>1</td>\n",
       "    </tr>\n",
       "    <tr>\n",
       "      <td>58702</td>\n",
       "      <td>Deixando de assinar o serviço. Além de você pa...</td>\n",
       "      <td>1</td>\n",
       "    </tr>\n",
       "    <tr>\n",
       "      <td>58703</td>\n",
       "      <td>Não gostei, esperava muito mais pelo merchan q...</td>\n",
       "      <td>1</td>\n",
       "    </tr>\n",
       "    <tr>\n",
       "      <td>58704</td>\n",
       "      <td>Não consigo fazer o login no aplicativo muito ...</td>\n",
       "      <td>1</td>\n",
       "    </tr>\n",
       "  </tbody>\n",
       "</table>\n",
       "<p>58705 rows × 2 columns</p>\n",
       "</div>"
      ],
      "text/plain": [
       "                                                 content  score\n",
       "0      Não tenho do que reclamar sobre o serviço, mas...      5\n",
       "1      Excelente plataforma...Mas eu opinaria por col...      5\n",
       "2      Uma observação. Essa última atualização não es...      5\n",
       "3      Eu acho que até agora é a melhor plataforma de...      5\n",
       "4      muito bom, porém as vezes a tela fica atrapalh...      5\n",
       "...                                                  ...    ...\n",
       "58700  Arrumem isso. O app não está carregando. Fica ...      1\n",
       "58701  Incrível como uma marca tão grande como a Disn...      1\n",
       "58702  Deixando de assinar o serviço. Além de você pa...      1\n",
       "58703  Não gostei, esperava muito mais pelo merchan q...      1\n",
       "58704  Não consigo fazer o login no aplicativo muito ...      1\n",
       "\n",
       "[58705 rows x 2 columns]"
      ]
     },
     "execution_count": 43,
     "metadata": {},
     "output_type": "execute_result"
    }
   ],
   "source": [
    "# Armazenando em um pandas dataset\n",
    "df_streamers = converte_jason_para_dataframe(rev_positivos_stream, rev_negativos_stream)\n",
    "df_streamers"
   ]
  },
  {
   "cell_type": "code",
   "execution_count": 44,
   "metadata": {},
   "outputs": [],
   "source": [
    "# Exportando pra um CSV\n",
    "df_streamers.to_csv('reviews_streamers.csv')"
   ]
  },
  {
   "cell_type": "code",
   "execution_count": 45,
   "metadata": {},
   "outputs": [
    {
     "name": "stdout",
     "output_type": "stream",
     "text": [
      "APP :  com.b2w.submarino\n",
      "Reviews Positivos :  7363\n",
      "Reviews Negativos :  5773\n",
      "-----------------------------------------\n",
      "APP :  com.b2w.americanas\n",
      "Reviews Positivos :  398\n",
      "Reviews Negativos :  17114\n",
      "-----------------------------------------\n",
      "APP :  com.sonyericsson.pontofrio\n",
      "Reviews Positivos :  10230\n",
      "Reviews Negativos :  2786\n",
      "-----------------------------------------\n",
      "APP :  com.amazon.mShop.android.shopping\n",
      "Reviews Positivos :  1393\n",
      "Reviews Negativos :  5649\n",
      "-----------------------------------------\n",
      "APP :  com.novapontocom.casasbahia\n",
      "Reviews Positivos :  7363\n",
      "Reviews Negativos :  2189\n",
      "-----------------------------------------\n",
      "-----------------------------------------\n",
      "Total Reviews Positivos :  26747\n",
      "Total Reviews Negativos :  33511\n",
      "-----------------------------------------\n"
     ]
    }
   ],
   "source": [
    "# Capturando os dados da lista de marketplace\n",
    "rev_positivos_marketplace, rev_negativos_marketplace = busca_review_lista(Lista_marketplace)"
   ]
  },
  {
   "cell_type": "code",
   "execution_count": 46,
   "metadata": {},
   "outputs": [
    {
     "data": {
      "text/html": [
       "<div>\n",
       "<style scoped>\n",
       "    .dataframe tbody tr th:only-of-type {\n",
       "        vertical-align: middle;\n",
       "    }\n",
       "\n",
       "    .dataframe tbody tr th {\n",
       "        vertical-align: top;\n",
       "    }\n",
       "\n",
       "    .dataframe thead th {\n",
       "        text-align: right;\n",
       "    }\n",
       "</style>\n",
       "<table border=\"1\" class=\"dataframe\">\n",
       "  <thead>\n",
       "    <tr style=\"text-align: right;\">\n",
       "      <th></th>\n",
       "      <th>content</th>\n",
       "      <th>score</th>\n",
       "    </tr>\n",
       "  </thead>\n",
       "  <tbody>\n",
       "    <tr>\n",
       "      <td>0</td>\n",
       "      <td>Superrecomendo! Apesar do aplicativo ainda ser...</td>\n",
       "      <td>5</td>\n",
       "    </tr>\n",
       "    <tr>\n",
       "      <td>1</td>\n",
       "      <td>O melhor aplicativo que eu já Abaixei tudo que...</td>\n",
       "      <td>5</td>\n",
       "    </tr>\n",
       "    <tr>\n",
       "      <td>2</td>\n",
       "      <td>Ótimo!! Sem demora para entregar os produtos, ...</td>\n",
       "      <td>5</td>\n",
       "    </tr>\n",
       "    <tr>\n",
       "      <td>3</td>\n",
       "      <td>Perfeito,😍 tive um problema no meu cartão e a ...</td>\n",
       "      <td>5</td>\n",
       "    </tr>\n",
       "    <tr>\n",
       "      <td>4</td>\n",
       "      <td>Achei o app maravilhoso!! Ia comprar uma gelad...</td>\n",
       "      <td>5</td>\n",
       "    </tr>\n",
       "    <tr>\n",
       "      <td>...</td>\n",
       "      <td>...</td>\n",
       "      <td>...</td>\n",
       "    </tr>\n",
       "    <tr>\n",
       "      <td>60253</td>\n",
       "      <td>Não cumpre com o prazo de entrega frustando os...</td>\n",
       "      <td>1</td>\n",
       "    </tr>\n",
       "    <tr>\n",
       "      <td>60254</td>\n",
       "      <td>Estou tendo a pior experiência do mundo compre...</td>\n",
       "      <td>1</td>\n",
       "    </tr>\n",
       "    <tr>\n",
       "      <td>60255</td>\n",
       "      <td>Péssimo app e péssima loja, valor sobe a todo ...</td>\n",
       "      <td>1</td>\n",
       "    </tr>\n",
       "    <tr>\n",
       "      <td>60256</td>\n",
       "      <td>Experiência péssima. Comprei um guarda roupa v...</td>\n",
       "      <td>1</td>\n",
       "    </tr>\n",
       "    <tr>\n",
       "      <td>60257</td>\n",
       "      <td>Se vc estiver querendo comprar na casas Bahia ...</td>\n",
       "      <td>1</td>\n",
       "    </tr>\n",
       "  </tbody>\n",
       "</table>\n",
       "<p>60258 rows × 2 columns</p>\n",
       "</div>"
      ],
      "text/plain": [
       "                                                 content  score\n",
       "0      Superrecomendo! Apesar do aplicativo ainda ser...      5\n",
       "1      O melhor aplicativo que eu já Abaixei tudo que...      5\n",
       "2      Ótimo!! Sem demora para entregar os produtos, ...      5\n",
       "3      Perfeito,😍 tive um problema no meu cartão e a ...      5\n",
       "4      Achei o app maravilhoso!! Ia comprar uma gelad...      5\n",
       "...                                                  ...    ...\n",
       "60253  Não cumpre com o prazo de entrega frustando os...      1\n",
       "60254  Estou tendo a pior experiência do mundo compre...      1\n",
       "60255  Péssimo app e péssima loja, valor sobe a todo ...      1\n",
       "60256  Experiência péssima. Comprei um guarda roupa v...      1\n",
       "60257  Se vc estiver querendo comprar na casas Bahia ...      1\n",
       "\n",
       "[60258 rows x 2 columns]"
      ]
     },
     "execution_count": 46,
     "metadata": {},
     "output_type": "execute_result"
    }
   ],
   "source": [
    "# Armazenando em um pandas dataset\n",
    "df_marketplace = converte_jason_para_dataframe(rev_positivos_marketplace, rev_negativos_marketplace)\n",
    "df_marketplace"
   ]
  },
  {
   "cell_type": "code",
   "execution_count": 47,
   "metadata": {},
   "outputs": [],
   "source": [
    "# Exportando pra um CSV\n",
    "df_streamers.to_csv('reviews_marketplace.csv')"
   ]
  },
  {
   "cell_type": "code",
   "execution_count": 48,
   "metadata": {},
   "outputs": [
    {
     "data": {
      "text/html": [
       "<div>\n",
       "<style scoped>\n",
       "    .dataframe tbody tr th:only-of-type {\n",
       "        vertical-align: middle;\n",
       "    }\n",
       "\n",
       "    .dataframe tbody tr th {\n",
       "        vertical-align: top;\n",
       "    }\n",
       "\n",
       "    .dataframe thead th {\n",
       "        text-align: right;\n",
       "    }\n",
       "</style>\n",
       "<table border=\"1\" class=\"dataframe\">\n",
       "  <thead>\n",
       "    <tr style=\"text-align: right;\">\n",
       "      <th></th>\n",
       "      <th>content</th>\n",
       "      <th>score</th>\n",
       "    </tr>\n",
       "  </thead>\n",
       "  <tbody>\n",
       "    <tr>\n",
       "      <td>0</td>\n",
       "      <td>Gente, mudem pro design anterior. A interface ...</td>\n",
       "      <td>5</td>\n",
       "    </tr>\n",
       "    <tr>\n",
       "      <td>1</td>\n",
       "      <td>Gosto muito desse banco, mas farei uma crítica...</td>\n",
       "      <td>5</td>\n",
       "    </tr>\n",
       "    <tr>\n",
       "      <td>2</td>\n",
       "      <td>Até agora estou gostando, realmente essa nova ...</td>\n",
       "      <td>5</td>\n",
       "    </tr>\n",
       "    <tr>\n",
       "      <td>3</td>\n",
       "      <td>Adoro esse APP. Raramente apresenta alguma fal...</td>\n",
       "      <td>5</td>\n",
       "    </tr>\n",
       "    <tr>\n",
       "      <td>4</td>\n",
       "      <td>Simplesmente maravilhoso!! Eu nunca vi um banc...</td>\n",
       "      <td>5</td>\n",
       "    </tr>\n",
       "    <tr>\n",
       "      <td>...</td>\n",
       "      <td>...</td>\n",
       "      <td>...</td>\n",
       "    </tr>\n",
       "    <tr>\n",
       "      <td>237164</td>\n",
       "      <td>Não cumpre com o prazo de entrega frustando os...</td>\n",
       "      <td>1</td>\n",
       "    </tr>\n",
       "    <tr>\n",
       "      <td>237165</td>\n",
       "      <td>Estou tendo a pior experiência do mundo compre...</td>\n",
       "      <td>1</td>\n",
       "    </tr>\n",
       "    <tr>\n",
       "      <td>237166</td>\n",
       "      <td>Péssimo app e péssima loja, valor sobe a todo ...</td>\n",
       "      <td>1</td>\n",
       "    </tr>\n",
       "    <tr>\n",
       "      <td>237167</td>\n",
       "      <td>Experiência péssima. Comprei um guarda roupa v...</td>\n",
       "      <td>1</td>\n",
       "    </tr>\n",
       "    <tr>\n",
       "      <td>237168</td>\n",
       "      <td>Se vc estiver querendo comprar na casas Bahia ...</td>\n",
       "      <td>1</td>\n",
       "    </tr>\n",
       "  </tbody>\n",
       "</table>\n",
       "<p>237169 rows × 2 columns</p>\n",
       "</div>"
      ],
      "text/plain": [
       "                                                  content  score\n",
       "0       Gente, mudem pro design anterior. A interface ...      5\n",
       "1       Gosto muito desse banco, mas farei uma crítica...      5\n",
       "2       Até agora estou gostando, realmente essa nova ...      5\n",
       "3       Adoro esse APP. Raramente apresenta alguma fal...      5\n",
       "4       Simplesmente maravilhoso!! Eu nunca vi um banc...      5\n",
       "...                                                   ...    ...\n",
       "237164  Não cumpre com o prazo de entrega frustando os...      1\n",
       "237165  Estou tendo a pior experiência do mundo compre...      1\n",
       "237166  Péssimo app e péssima loja, valor sobe a todo ...      1\n",
       "237167  Experiência péssima. Comprei um guarda roupa v...      1\n",
       "237168  Se vc estiver querendo comprar na casas Bahia ...      1\n",
       "\n",
       "[237169 rows x 2 columns]"
      ]
     },
     "execution_count": 48,
     "metadata": {},
     "output_type": "execute_result"
    }
   ],
   "source": [
    "# Unindo todos os datasets\n",
    "df_geral = pd.concat([df_bancos, df_streamers, df_marketplace], ignore_index=True)\n",
    "df_geral"
   ]
  },
  {
   "cell_type": "code",
   "execution_count": 49,
   "metadata": {
    "scrolled": true
   },
   "outputs": [
    {
     "data": {
      "text/plain": [
       "1    119280\n",
       "5    117889\n",
       "Name: score, dtype: int64"
      ]
     },
     "execution_count": 49,
     "metadata": {},
     "output_type": "execute_result"
    }
   ],
   "source": [
    "# Verificando se o dataset ficou Balanceado\n",
    "df_geral.score.value_counts()"
   ]
  },
  {
   "cell_type": "markdown",
   "metadata": {},
   "source": []
  },
  {
   "cell_type": "code",
   "execution_count": 30,
   "metadata": {
    "scrolled": true
   },
   "outputs": [],
   "source": [
    "# removendo comentarios para balancear o dataset\n",
    "df_geral = df_geral[:78000]"
   ]
  },
  {
   "cell_type": "code",
   "execution_count": 50,
   "metadata": {},
   "outputs": [],
   "source": [
    "# Exportando o dataset Unificado para um CSV\n",
    "df_geral.to_csv('reviews_geral.csv')"
   ]
  }
 ],
 "metadata": {
  "kernelspec": {
   "display_name": "Python 3",
   "language": "python",
   "name": "python3"
  },
  "language_info": {
   "codemirror_mode": {
    "name": "ipython",
    "version": 3
   },
   "file_extension": ".py",
   "mimetype": "text/x-python",
   "name": "python",
   "nbconvert_exporter": "python",
   "pygments_lexer": "ipython3",
   "version": "3.7.4"
  }
 },
 "nbformat": 4,
 "nbformat_minor": 2
}
